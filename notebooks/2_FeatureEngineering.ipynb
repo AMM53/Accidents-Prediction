{
 "cells": [
  {
   "cell_type": "markdown",
   "metadata": {},
   "source": [
    "# CUNEF MUCD 2021/2022  \n",
    "## Machine Learning\n",
    "## Análisis de Siniestralidad de Automóviles"
   ]
  },
  {
   "cell_type": "markdown",
   "metadata": {},
   "source": [
    "### Autores:\n",
    "- Andrés Mahía Morado\n",
    "- Antonio Tello Gómez\n"
   ]
  },
  {
   "cell_type": "markdown",
   "metadata": {},
   "source": [
    "# Ingeniería de variables"
   ]
  },
  {
   "cell_type": "markdown",
   "metadata": {},
   "source": [
    "La ingeniería de variables hace referencia al proceso de transformación de los datos brutos en variables útiles que puedan ser utilizadas en nuestros modelos. Es un parte clave del proceso ya que la calidad de nuestro modelo va a depender de la calidad de nuestras _features_.  \n",
    "Parte de este trabajo ya lo hemos realizado en el EDA siendo el ejemplo más claro la creación de una nueva variable _vehicle_age_ a partir de otras dos. En este apartado continuaremos esta tarea dejando el conjunto de datos listo para su introducción en los modelos. Hemos optado por realizar el proceso de forma manual pero hubiera sido más eficiente emplear pipelines que aplicaran una gran parte de las transformaciones en unas pocas líneas de código."
   ]
  },
  {
   "cell_type": "markdown",
   "metadata": {},
   "source": [
    "\n",
    "![FE](https://miro.medium.com/max/1276/1*8nMiAqNbGlTgevVaWbF60g.png)"
   ]
  },
  {
   "cell_type": "code",
   "execution_count": 30,
   "metadata": {},
   "outputs": [
    {
     "name": "stdout",
     "output_type": "stream",
     "text": [
      "time: 0 ns (started: 2021-12-18 18:22:22 +01:00)\n"
     ]
    }
   ],
   "source": [
    "#Liberías\n",
    "import pandas as pd\n",
    "import numpy as np\n",
    "import matplotlib.pyplot as plt\n",
    "import seaborn as sns\n",
    "\n",
    "from imblearn.over_sampling import SMOTE\n",
    "from category_encoders import TargetEncoder\n",
    "from sklearn.preprocessing import OneHotEncoder\n",
    "from collections import Counter\n",
    "from sklearn import metrics\n",
    "from sklearn.utils import resample\n",
    "from sklearn.model_selection import train_test_split\n",
    "from sklearn.preprocessing import StandardScaler\n",
    "from sklearn.impute import SimpleImputer, MissingIndicator\n",
    "from sklearn.pipeline import Pipeline\n",
    "from sklearn.compose import ColumnTransformer\n",
    "import pickle\n",
    "%load_ext autotime\n",
    "\n",
    "import warnings\n",
    "warnings.filterwarnings('ignore')\n",
    "\n",
    "from sklearn.metrics import classification_report, confusion_matrix, roc_curve, auc, \\\n",
    "                            silhouette_score, recall_score, precision_score, make_scorer, \\\n",
    "                            roc_auc_score, f1_score, precision_recall_curve"
   ]
  },
  {
   "cell_type": "code",
   "execution_count": 3,
   "metadata": {},
   "outputs": [],
   "source": [
    "# Lecutra de datos preprocesados\n",
    "df = pd.read_parquet('../data/full_data_initial.parquet')"
   ]
  },
  {
   "cell_type": "markdown",
   "metadata": {},
   "source": [
    "## Filtrado de los datos"
   ]
  },
  {
   "cell_type": "markdown",
   "metadata": {},
   "source": [
    "Como explicamos en la introducción los datos presentan un problema y es que cada fila representa una persona y nuestra variable objetivo es a nivel de accidente.  \n",
    "Con la finalidad de resolver este problema y acercar lo máximo posible los datos al problema de negocio hemos decidido filtrar el conjunto de datos para quedarnos solo con los conductores de cada vehículo eliminando al resto de pasajeros. De esta forma, no solo suprimimos duplicidades que generarían un problema de overfitting en nuestro modelo, sino que además acercamos nuestra información a un caso más realista en el que solo tenemos información del asegurado. Por otro lado, también hemos dejado los registros de peatones para poder diferenciar los arrollamientos.\n"
   ]
  },
  {
   "cell_type": "code",
   "execution_count": 4,
   "metadata": {},
   "outputs": [],
   "source": [
    "df = df.loc[(df['passenger_role'] == \"11\") | (df['passenger_role'] == \"99\")]\n",
    "df = df.drop('passenger_role', axis = 1)"
   ]
  },
  {
   "cell_type": "markdown",
   "metadata": {},
   "source": [
    "## Transformaciones pre-split"
   ]
  },
  {
   "cell_type": "markdown",
   "metadata": {},
   "source": [
    "### Valores Missing y outliers\n"
   ]
  },
  {
   "cell_type": "code",
   "execution_count": 5,
   "metadata": {},
   "outputs": [
    {
     "data": {
      "text/html": [
       "<div>\n",
       "<style scoped>\n",
       "    .dataframe tbody tr th:only-of-type {\n",
       "        vertical-align: middle;\n",
       "    }\n",
       "\n",
       "    .dataframe tbody tr th {\n",
       "        vertical-align: top;\n",
       "    }\n",
       "\n",
       "    .dataframe thead th {\n",
       "        text-align: right;\n",
       "    }\n",
       "</style>\n",
       "<table border=\"1\" class=\"dataframe\">\n",
       "  <thead>\n",
       "    <tr style=\"text-align: right;\">\n",
       "      <th></th>\n",
       "      <th>index</th>\n",
       "      <th>missing_value</th>\n",
       "      <th>feature_type</th>\n",
       "      <th>columns_percentage</th>\n",
       "    </tr>\n",
       "  </thead>\n",
       "  <tbody>\n",
       "    <tr>\n",
       "      <th>17</th>\n",
       "      <td>vehicle_age</td>\n",
       "      <td>497550</td>\n",
       "      <td>float64</td>\n",
       "      <td>0.121817</td>\n",
       "    </tr>\n",
       "    <tr>\n",
       "      <th>16</th>\n",
       "      <td>passenger_safety</td>\n",
       "      <td>460486</td>\n",
       "      <td>object</td>\n",
       "      <td>0.112743</td>\n",
       "    </tr>\n",
       "    <tr>\n",
       "      <th>15</th>\n",
       "      <td>crash_place</td>\n",
       "      <td>345281</td>\n",
       "      <td>object</td>\n",
       "      <td>0.084537</td>\n",
       "    </tr>\n",
       "    <tr>\n",
       "      <th>14</th>\n",
       "      <td>road_slope</td>\n",
       "      <td>287521</td>\n",
       "      <td>object</td>\n",
       "      <td>0.070395</td>\n",
       "    </tr>\n",
       "    <tr>\n",
       "      <th>13</th>\n",
       "      <td>passenger_age</td>\n",
       "      <td>210849</td>\n",
       "      <td>float64</td>\n",
       "      <td>0.051623</td>\n",
       "    </tr>\n",
       "    <tr>\n",
       "      <th>12</th>\n",
       "      <td>traffic_state</td>\n",
       "      <td>157226</td>\n",
       "      <td>object</td>\n",
       "      <td>0.038494</td>\n",
       "    </tr>\n",
       "    <tr>\n",
       "      <th>11</th>\n",
       "      <td>passenger_sex</td>\n",
       "      <td>153774</td>\n",
       "      <td>float64</td>\n",
       "      <td>0.037649</td>\n",
       "    </tr>\n",
       "    <tr>\n",
       "      <th>10</th>\n",
       "      <td>crash_type</td>\n",
       "      <td>131908</td>\n",
       "      <td>object</td>\n",
       "      <td>0.032296</td>\n",
       "    </tr>\n",
       "    <tr>\n",
       "      <th>9</th>\n",
       "      <td>passenger_type</td>\n",
       "      <td>62699</td>\n",
       "      <td>object</td>\n",
       "      <td>0.015351</td>\n",
       "    </tr>\n",
       "    <tr>\n",
       "      <th>8</th>\n",
       "      <td>crash_weather</td>\n",
       "      <td>58033</td>\n",
       "      <td>object</td>\n",
       "      <td>0.014208</td>\n",
       "    </tr>\n",
       "    <tr>\n",
       "      <th>7</th>\n",
       "      <td>surface_state</td>\n",
       "      <td>53091</td>\n",
       "      <td>object</td>\n",
       "      <td>0.012998</td>\n",
       "    </tr>\n",
       "    <tr>\n",
       "      <th>6</th>\n",
       "      <td>vehicle_type</td>\n",
       "      <td>23619</td>\n",
       "      <td>object</td>\n",
       "      <td>0.005783</td>\n",
       "    </tr>\n",
       "    <tr>\n",
       "      <th>5</th>\n",
       "      <td>vehicles_involved</td>\n",
       "      <td>276</td>\n",
       "      <td>float64</td>\n",
       "      <td>0.000068</td>\n",
       "    </tr>\n",
       "    <tr>\n",
       "      <th>0</th>\n",
       "      <td>year</td>\n",
       "      <td>0</td>\n",
       "      <td>int64</td>\n",
       "      <td>0.000000</td>\n",
       "    </tr>\n",
       "    <tr>\n",
       "      <th>2</th>\n",
       "      <td>fatality</td>\n",
       "      <td>0</td>\n",
       "      <td>int64</td>\n",
       "      <td>0.000000</td>\n",
       "    </tr>\n",
       "    <tr>\n",
       "      <th>1</th>\n",
       "      <td>hour</td>\n",
       "      <td>0</td>\n",
       "      <td>int8</td>\n",
       "      <td>0.000000</td>\n",
       "    </tr>\n",
       "    <tr>\n",
       "      <th>3</th>\n",
       "      <td>month</td>\n",
       "      <td>0</td>\n",
       "      <td>int8</td>\n",
       "      <td>0.000000</td>\n",
       "    </tr>\n",
       "    <tr>\n",
       "      <th>4</th>\n",
       "      <td>weekday</td>\n",
       "      <td>0</td>\n",
       "      <td>int8</td>\n",
       "      <td>0.000000</td>\n",
       "    </tr>\n",
       "  </tbody>\n",
       "</table>\n",
       "</div>"
      ],
      "text/plain": [
       "                index  missing_value feature_type  columns_percentage\n",
       "17        vehicle_age         497550      float64            0.121817\n",
       "16   passenger_safety         460486       object            0.112743\n",
       "15        crash_place         345281       object            0.084537\n",
       "14         road_slope         287521       object            0.070395\n",
       "13      passenger_age         210849      float64            0.051623\n",
       "12      traffic_state         157226       object            0.038494\n",
       "11      passenger_sex         153774      float64            0.037649\n",
       "10         crash_type         131908       object            0.032296\n",
       "9      passenger_type          62699       object            0.015351\n",
       "8       crash_weather          58033       object            0.014208\n",
       "7       surface_state          53091       object            0.012998\n",
       "6        vehicle_type          23619       object            0.005783\n",
       "5   vehicles_involved            276      float64            0.000068\n",
       "0                year              0        int64            0.000000\n",
       "2            fatality              0        int64            0.000000\n",
       "1                hour              0         int8            0.000000\n",
       "3               month              0         int8            0.000000\n",
       "4             weekday              0         int8            0.000000"
      ]
     },
     "execution_count": 5,
     "metadata": {},
     "output_type": "execute_result"
    }
   ],
   "source": [
    "# Análisis Nulos\n",
    "nulos_col = pd.merge(df.isnull().sum().sort_values().to_frame('missing_value').reset_index(),\n",
    "         df.dtypes.to_frame('feature_type').reset_index(),\n",
    "         on = 'index',\n",
    "         how = 'inner')\n",
    "nulos_col['columns_percentage'] = nulos_col['missing_value']/df.shape[0]\n",
    "nulos_col.sort_values(['missing_value', 'feature_type', 'columns_percentage'], ascending=False)"
   ]
  },
  {
   "cell_type": "markdown",
   "metadata": {},
   "source": [
    "Para las categóricas crearemos una nueva categoría con todos los valores missing, en las numéricas imputaremos la mediana."
   ]
  },
  {
   "cell_type": "code",
   "execution_count": 6,
   "metadata": {},
   "outputs": [],
   "source": [
    "#Borramos NAs vehicles_involved (muy pocos)\n",
    "df = df[df['vehicles_involved'].notna()]"
   ]
  },
  {
   "cell_type": "markdown",
   "metadata": {},
   "source": [
    "#### Gráfico distribución de las variables numéricas"
   ]
  },
  {
   "cell_type": "code",
   "execution_count": 7,
   "metadata": {},
   "outputs": [
    {
     "data": {
      "text/plain": [
       "<AxesSubplot:xlabel='passenger_age'>"
      ]
     },
     "execution_count": 7,
     "metadata": {},
     "output_type": "execute_result"
    },
    {
     "data": {
      "image/png": "[encoded data removed]",
      "text/plain": [
       "<Figure size 1080x360 with 1 Axes>"
      ]
     },
     "metadata": {
      "needs_background": "light"
     },
     "output_type": "display_data"
    }
   ],
   "source": [
    "#passenger_age plot\n",
    "plt.figure(figsize=(15,5))\n",
    "pd.concat([df], axis=1).groupby(('passenger_age'))['fatality'].count().plot(kind=\"bar\")"
   ]
  },
  {
   "cell_type": "markdown",
   "metadata": {},
   "source": [
    "Encontramos algo curioso que no habíamos podido ver en el análisis descriptivo ya que vimos la distribución de edad con todos los pasajeros. Existen registros de conductores con una edad muy corta. ¡Tres, cuatro o cinco años! Outliers claramente erróneos que no deberíamos tener en cuenta.  \n",
    "Acudiendo a la fuente oficial de los datos hemos encontrado la siguiente respuesta a la consulta de un usuario que confirma nuestras sospechas:  \n",
    "*\"The data in the NCDB are as reported by the provinces and territories. In some instances a child can be coded as being the driver when they are sitting on the lap of the real driver. In other cases, this would be an error, but there would be no way to determine which cases are the latter\"*   \n",
    "https://open.canada.ca/data/en/dataset/1eb9eba7-71d1-4b30-9fb1-30cbdab7e63a  \n",
    "Con estos valores seguiremos la misma estrategia de imputación que empleemos con los missings."
   ]
  },
  {
   "cell_type": "code",
   "execution_count": 8,
   "metadata": {},
   "outputs": [
    {
     "data": {
      "text/plain": [
       "<AxesSubplot:xlabel='vehicle_age'>"
      ]
     },
     "execution_count": 8,
     "metadata": {},
     "output_type": "execute_result"
    },
    {
     "data": {
      "image/png": "[encoded data removed]",
      "text/plain": [
       "<Figure size 1080x360 with 1 Axes>"
      ]
     },
     "metadata": {
      "needs_background": "light"
     },
     "output_type": "display_data"
    }
   ],
   "source": [
    "#vehicle_age plot\n",
    "plt.figure(figsize=(15,5))\n",
    "pd.concat([df], axis=1).groupby(('vehicle_age'))['fatality'].count().plot(kind=\"bar\")"
   ]
  },
  {
   "cell_type": "code",
   "execution_count": 9,
   "metadata": {},
   "outputs": [
    {
     "data": {
      "text/plain": [
       "<AxesSubplot:xlabel='vehicles_involved'>"
      ]
     },
     "execution_count": 9,
     "metadata": {},
     "output_type": "execute_result"
    },
    {
     "data": {
      "image/png": "[encoded data removed]",
      "text/plain": [
       "<Figure size 1080x360 with 1 Axes>"
      ]
     },
     "metadata": {
      "needs_background": "light"
     },
     "output_type": "display_data"
    }
   ],
   "source": [
    "#passenger_age plot#passenger_age plot\n",
    "plt.figure(figsize=(15,5))\n",
    "pd.concat([df], axis=1).groupby(('vehicles_involved'))['fatality'].count().plot(kind=\"bar\")\n"
   ]
  },
  {
   "cell_type": "code",
   "execution_count": 10,
   "metadata": {},
   "outputs": [],
   "source": [
    "# Borramos filas con outliers \n",
    "df = df.loc[(df['vehicle_age'] < 30) | (df['vehicle_age'].isnull())]\n",
    "df = df.loc[(df['vehicles_involved'] < 7)  | (df['vehicles_involved'].isnull())]\n",
    "\n",
    "# Transformamos Outliers en nulos para imputar\n",
    "df['passenger_age'][(df['passenger_age'] < 13)] = np.nan"
   ]
  },
  {
   "cell_type": "markdown",
   "metadata": {},
   "source": [
    "### Tramificación Variable Temporales"
   ]
  },
  {
   "cell_type": "markdown",
   "metadata": {},
   "source": [
    "Tramificamos las variables temporales antes de aplicar el encoding tal como explicamos en el EDA."
   ]
  },
  {
   "cell_type": "code",
   "execution_count": 11,
   "metadata": {},
   "outputs": [],
   "source": [
    "# Convertimos meses en cuatrimestres\n",
    "df['month'] = (df['month']-1)//3 + 1\n",
    "df = df.rename({'month': 'quarter'}, axis= 1)"
   ]
  },
  {
   "cell_type": "code",
   "execution_count": 12,
   "metadata": {},
   "outputs": [],
   "source": [
    "# Reducimos weekday a tres tramos\n",
    "df['weekday'] = df['weekday'].replace({6:3, 7:3, 1:2, 4:2, 5:2, 2:1, 3:1})"
   ]
  },
  {
   "cell_type": "code",
   "execution_count": 13,
   "metadata": {},
   "outputs": [],
   "source": [
    "# Reducimos horas a seis tramos \n",
    "df['hour'] = df['hour'].replace({0:1, 1:1, 2:1, 3:1, 4:1, 5:1, 6:2, 7:2, 8:2, 9:3, 10:3, 11:3, 11:4, 12:4, 13:4, 14:4, 15:4, 16:4, 17:4, 18:4, 19:5, 20:5, 21:5, 22:6, 23:6})"
   ]
  },
  {
   "cell_type": "markdown",
   "metadata": {},
   "source": [
    "## Pipeline"
   ]
  },
  {
   "cell_type": "markdown",
   "metadata": {},
   "source": [
    "Creamos tres listas con las variables según el tratamiento que van a recibir:\n",
    "- _few_cat_: Categóricas con 6 o menos categorías a las que aplicaremos One-Hot Encoding\n",
    "- _many_cat_: Categóricas con 7 o más categorías a las que aplicaremos Mean Encoding\n",
    "- _numeric_: Numéricas"
   ]
  },
  {
   "cell_type": "code",
   "execution_count": 31,
   "metadata": {},
   "outputs": [
    {
     "name": "stdout",
     "output_type": "stream",
     "text": [
      "time: 2.86 s (started: 2021-12-18 18:23:18 +01:00)\n"
     ]
    }
   ],
   "source": [
    "# Categoricas pequeñas para OHE \n",
    "few_cat = []\n",
    "for column in df.columns: \n",
    "    if (len(df[column].unique())< 7):\n",
    "        few_cat.append(column)\n",
    "\n",
    "if 'fatality' in few_cat: \n",
    "    few_cat.remove('fatality')\n",
    "\n",
    "# Categoricas grandes para ME\n",
    "many_cat = []\n",
    "for column in df.columns[df.dtypes=='object']: \n",
    "    if (len(df[column].unique()) > 7):\n",
    "        many_cat.append(column)\n",
    "\n",
    "# numericas\n",
    "numeric = ['vehicle_age', 'passenger_age', 'vehicles_involved', 'year']"
   ]
  },
  {
   "cell_type": "markdown",
   "metadata": {},
   "source": [
    "\n",
    "Creamos el pipeline de preprocesado que posteriormente aplicaremos de forma conjunta a los modelos."
   ]
  },
  {
   "cell_type": "code",
   "execution_count": 19,
   "metadata": {},
   "outputs": [],
   "source": [
    "\n",
    "numeric_transformer = Pipeline(steps=[\n",
    "    ('imputer', SimpleImputer(strategy='median')),\n",
    "    ('scaler', StandardScaler())])\n",
    "\n",
    "\n",
    "onehot_transformer = Pipeline(steps=[\n",
    "    ('imputer', SimpleImputer(strategy='constant', fill_value=np.nan)),\n",
    "    ('onehot', OneHotEncoder(handle_unknown='ignore'))])\n",
    "\n",
    "categorical_transformer = Pipeline(steps=[\n",
    "    ('imputer', SimpleImputer(strategy='constant', fill_value='missing')),\n",
    "    ('target', TargetEncoder(handle_unknown='ignore'))])\n",
    "\n",
    "\n",
    "preprocessor = ColumnTransformer(\n",
    "    transformers=[\n",
    "        ('num', numeric_transformer, numeric),\n",
    "        ('fcat', onehot_transformer, few_cat),\n",
    "        ('mcat', categorical_transformer, many_cat)])\n",
    "\n",
    "# Guardamos el preprocessor\n",
    "with open('../models/preprocessor.pickle', 'wb') as f:\n",
    "    pickle.dump(preprocessor, f)"
   ]
  },
  {
   "cell_type": "markdown",
   "metadata": {},
   "source": [
    "## Split en Train y Test"
   ]
  },
  {
   "cell_type": "code",
   "execution_count": 21,
   "metadata": {},
   "outputs": [],
   "source": [
    "xtrain, xtest, ytrain, ytest = train_test_split(df.drop(columns=['fatality']), df['fatality'], test_size=0.20, random_state=0)\n",
    "#xtrain = xtrain.drop(columns=\"index\")\n",
    "#xtest = xtest.drop(columns=\"index\")"
   ]
  },
  {
   "cell_type": "markdown",
   "metadata": {},
   "source": [
    "Comprobamos que Test y Train son similares"
   ]
  },
  {
   "cell_type": "code",
   "execution_count": 22,
   "metadata": {},
   "outputs": [
    {
     "data": {
      "text/html": [
       "<div>\n",
       "<style scoped>\n",
       "    .dataframe tbody tr th:only-of-type {\n",
       "        vertical-align: middle;\n",
       "    }\n",
       "\n",
       "    .dataframe tbody tr th {\n",
       "        vertical-align: top;\n",
       "    }\n",
       "\n",
       "    .dataframe thead th {\n",
       "        text-align: right;\n",
       "    }\n",
       "</style>\n",
       "<table border=\"1\" class=\"dataframe\">\n",
       "  <thead>\n",
       "    <tr style=\"text-align: right;\">\n",
       "      <th></th>\n",
       "      <th>year</th>\n",
       "      <th>quarter</th>\n",
       "      <th>weekday</th>\n",
       "      <th>hour</th>\n",
       "      <th>vehicles_involved</th>\n",
       "      <th>vehicle_age</th>\n",
       "      <th>passenger_sex</th>\n",
       "      <th>passenger_age</th>\n",
       "      <th>fatality</th>\n",
       "    </tr>\n",
       "  </thead>\n",
       "  <tbody>\n",
       "    <tr>\n",
       "      <th>count</th>\n",
       "      <td>3248945.000</td>\n",
       "      <td>3248945.000</td>\n",
       "      <td>3248945.000</td>\n",
       "      <td>3248945.000</td>\n",
       "      <td>3248945.000</td>\n",
       "      <td>2851519.000</td>\n",
       "      <td>3126745.000</td>\n",
       "      <td>3055919.000</td>\n",
       "      <td>3248945.000</td>\n",
       "    </tr>\n",
       "    <tr>\n",
       "      <th>mean</th>\n",
       "      <td>2006.014</td>\n",
       "      <td>2.568</td>\n",
       "      <td>1.944</td>\n",
       "      <td>3.697</td>\n",
       "      <td>2.007</td>\n",
       "      <td>7.412</td>\n",
       "      <td>0.618</td>\n",
       "      <td>39.673</td>\n",
       "      <td>0.015</td>\n",
       "    </tr>\n",
       "    <tr>\n",
       "      <th>std</th>\n",
       "      <td>4.569</td>\n",
       "      <td>1.113</td>\n",
       "      <td>0.729</td>\n",
       "      <td>1.152</td>\n",
       "      <td>0.767</td>\n",
       "      <td>5.283</td>\n",
       "      <td>0.486</td>\n",
       "      <td>16.586</td>\n",
       "      <td>0.122</td>\n",
       "    </tr>\n",
       "    <tr>\n",
       "      <th>min</th>\n",
       "      <td>1999.000</td>\n",
       "      <td>1.000</td>\n",
       "      <td>1.000</td>\n",
       "      <td>1.000</td>\n",
       "      <td>1.000</td>\n",
       "      <td>-2.000</td>\n",
       "      <td>0.000</td>\n",
       "      <td>13.000</td>\n",
       "      <td>0.000</td>\n",
       "    </tr>\n",
       "    <tr>\n",
       "      <th>25%</th>\n",
       "      <td>2002.000</td>\n",
       "      <td>2.000</td>\n",
       "      <td>1.000</td>\n",
       "      <td>3.000</td>\n",
       "      <td>2.000</td>\n",
       "      <td>3.000</td>\n",
       "      <td>0.000</td>\n",
       "      <td>25.000</td>\n",
       "      <td>0.000</td>\n",
       "    </tr>\n",
       "    <tr>\n",
       "      <th>50%</th>\n",
       "      <td>2006.000</td>\n",
       "      <td>3.000</td>\n",
       "      <td>2.000</td>\n",
       "      <td>4.000</td>\n",
       "      <td>2.000</td>\n",
       "      <td>7.000</td>\n",
       "      <td>1.000</td>\n",
       "      <td>38.000</td>\n",
       "      <td>0.000</td>\n",
       "    </tr>\n",
       "    <tr>\n",
       "      <th>75%</th>\n",
       "      <td>2010.000</td>\n",
       "      <td>4.000</td>\n",
       "      <td>2.000</td>\n",
       "      <td>4.000</td>\n",
       "      <td>2.000</td>\n",
       "      <td>11.000</td>\n",
       "      <td>1.000</td>\n",
       "      <td>51.000</td>\n",
       "      <td>0.000</td>\n",
       "    </tr>\n",
       "    <tr>\n",
       "      <th>max</th>\n",
       "      <td>2014.000</td>\n",
       "      <td>4.000</td>\n",
       "      <td>3.000</td>\n",
       "      <td>6.000</td>\n",
       "      <td>6.000</td>\n",
       "      <td>29.000</td>\n",
       "      <td>1.000</td>\n",
       "      <td>99.000</td>\n",
       "      <td>1.000</td>\n",
       "    </tr>\n",
       "  </tbody>\n",
       "</table>\n",
       "</div>"
      ],
      "text/plain": [
       "              year      quarter      weekday         hour  vehicles_involved  \\\n",
       "count  3248945.000  3248945.000  3248945.000  3248945.000        3248945.000   \n",
       "mean      2006.014        2.568        1.944        3.697              2.007   \n",
       "std          4.569        1.113        0.729        1.152              0.767   \n",
       "min       1999.000        1.000        1.000        1.000              1.000   \n",
       "25%       2002.000        2.000        1.000        3.000              2.000   \n",
       "50%       2006.000        3.000        2.000        4.000              2.000   \n",
       "75%       2010.000        4.000        2.000        4.000              2.000   \n",
       "max       2014.000        4.000        3.000        6.000              6.000   \n",
       "\n",
       "       vehicle_age  passenger_sex  passenger_age     fatality  \n",
       "count  2851519.000    3126745.000    3055919.000  3248945.000  \n",
       "mean         7.412          0.618         39.673        0.015  \n",
       "std          5.283          0.486         16.586        0.122  \n",
       "min         -2.000          0.000         13.000        0.000  \n",
       "25%          3.000          0.000         25.000        0.000  \n",
       "50%          7.000          1.000         38.000        0.000  \n",
       "75%         11.000          1.000         51.000        0.000  \n",
       "max         29.000          1.000         99.000        1.000  "
      ]
     },
     "execution_count": 22,
     "metadata": {},
     "output_type": "execute_result"
    }
   ],
   "source": [
    "#Train\n",
    "pd.concat([xtrain, pd.DataFrame(ytrain)]).describe().round(3)"
   ]
  },
  {
   "cell_type": "code",
   "execution_count": 23,
   "metadata": {},
   "outputs": [
    {
     "data": {
      "text/html": [
       "<div>\n",
       "<style scoped>\n",
       "    .dataframe tbody tr th:only-of-type {\n",
       "        vertical-align: middle;\n",
       "    }\n",
       "\n",
       "    .dataframe tbody tr th {\n",
       "        vertical-align: top;\n",
       "    }\n",
       "\n",
       "    .dataframe thead th {\n",
       "        text-align: right;\n",
       "    }\n",
       "</style>\n",
       "<table border=\"1\" class=\"dataframe\">\n",
       "  <thead>\n",
       "    <tr style=\"text-align: right;\">\n",
       "      <th></th>\n",
       "      <th>year</th>\n",
       "      <th>quarter</th>\n",
       "      <th>weekday</th>\n",
       "      <th>hour</th>\n",
       "      <th>vehicles_involved</th>\n",
       "      <th>vehicle_age</th>\n",
       "      <th>passenger_sex</th>\n",
       "      <th>passenger_age</th>\n",
       "      <th>fatality</th>\n",
       "    </tr>\n",
       "  </thead>\n",
       "  <tbody>\n",
       "    <tr>\n",
       "      <th>count</th>\n",
       "      <td>812237.000</td>\n",
       "      <td>812237.000</td>\n",
       "      <td>812237.000</td>\n",
       "      <td>812237.000</td>\n",
       "      <td>812237.000</td>\n",
       "      <td>713158.000</td>\n",
       "      <td>781770.000</td>\n",
       "      <td>764314.000</td>\n",
       "      <td>812237.000</td>\n",
       "    </tr>\n",
       "    <tr>\n",
       "      <th>mean</th>\n",
       "      <td>2006.022</td>\n",
       "      <td>2.565</td>\n",
       "      <td>1.944</td>\n",
       "      <td>3.695</td>\n",
       "      <td>2.008</td>\n",
       "      <td>7.402</td>\n",
       "      <td>0.618</td>\n",
       "      <td>39.620</td>\n",
       "      <td>0.015</td>\n",
       "    </tr>\n",
       "    <tr>\n",
       "      <th>std</th>\n",
       "      <td>4.570</td>\n",
       "      <td>1.113</td>\n",
       "      <td>0.730</td>\n",
       "      <td>1.153</td>\n",
       "      <td>0.767</td>\n",
       "      <td>5.274</td>\n",
       "      <td>0.486</td>\n",
       "      <td>16.593</td>\n",
       "      <td>0.122</td>\n",
       "    </tr>\n",
       "    <tr>\n",
       "      <th>min</th>\n",
       "      <td>1999.000</td>\n",
       "      <td>1.000</td>\n",
       "      <td>1.000</td>\n",
       "      <td>1.000</td>\n",
       "      <td>1.000</td>\n",
       "      <td>-2.000</td>\n",
       "      <td>0.000</td>\n",
       "      <td>13.000</td>\n",
       "      <td>0.000</td>\n",
       "    </tr>\n",
       "    <tr>\n",
       "      <th>25%</th>\n",
       "      <td>2002.000</td>\n",
       "      <td>2.000</td>\n",
       "      <td>1.000</td>\n",
       "      <td>3.000</td>\n",
       "      <td>2.000</td>\n",
       "      <td>3.000</td>\n",
       "      <td>0.000</td>\n",
       "      <td>25.000</td>\n",
       "      <td>0.000</td>\n",
       "    </tr>\n",
       "    <tr>\n",
       "      <th>50%</th>\n",
       "      <td>2006.000</td>\n",
       "      <td>3.000</td>\n",
       "      <td>2.000</td>\n",
       "      <td>4.000</td>\n",
       "      <td>2.000</td>\n",
       "      <td>7.000</td>\n",
       "      <td>1.000</td>\n",
       "      <td>38.000</td>\n",
       "      <td>0.000</td>\n",
       "    </tr>\n",
       "    <tr>\n",
       "      <th>75%</th>\n",
       "      <td>2010.000</td>\n",
       "      <td>4.000</td>\n",
       "      <td>2.000</td>\n",
       "      <td>4.000</td>\n",
       "      <td>2.000</td>\n",
       "      <td>11.000</td>\n",
       "      <td>1.000</td>\n",
       "      <td>51.000</td>\n",
       "      <td>0.000</td>\n",
       "    </tr>\n",
       "    <tr>\n",
       "      <th>max</th>\n",
       "      <td>2014.000</td>\n",
       "      <td>4.000</td>\n",
       "      <td>3.000</td>\n",
       "      <td>6.000</td>\n",
       "      <td>6.000</td>\n",
       "      <td>29.000</td>\n",
       "      <td>1.000</td>\n",
       "      <td>99.000</td>\n",
       "      <td>1.000</td>\n",
       "    </tr>\n",
       "  </tbody>\n",
       "</table>\n",
       "</div>"
      ],
      "text/plain": [
       "             year     quarter     weekday        hour  vehicles_involved  \\\n",
       "count  812237.000  812237.000  812237.000  812237.000         812237.000   \n",
       "mean     2006.022       2.565       1.944       3.695              2.008   \n",
       "std         4.570       1.113       0.730       1.153              0.767   \n",
       "min      1999.000       1.000       1.000       1.000              1.000   \n",
       "25%      2002.000       2.000       1.000       3.000              2.000   \n",
       "50%      2006.000       3.000       2.000       4.000              2.000   \n",
       "75%      2010.000       4.000       2.000       4.000              2.000   \n",
       "max      2014.000       4.000       3.000       6.000              6.000   \n",
       "\n",
       "       vehicle_age  passenger_sex  passenger_age    fatality  \n",
       "count   713158.000     781770.000     764314.000  812237.000  \n",
       "mean         7.402          0.618         39.620       0.015  \n",
       "std          5.274          0.486         16.593       0.122  \n",
       "min         -2.000          0.000         13.000       0.000  \n",
       "25%          3.000          0.000         25.000       0.000  \n",
       "50%          7.000          1.000         38.000       0.000  \n",
       "75%         11.000          1.000         51.000       0.000  \n",
       "max         29.000          1.000         99.000       1.000  "
      ]
     },
     "execution_count": 23,
     "metadata": {},
     "output_type": "execute_result"
    }
   ],
   "source": [
    "#Test\n",
    "pd.concat([xtest, pd.DataFrame(ytest)]).describe().round(3)"
   ]
  },
  {
   "cell_type": "markdown",
   "metadata": {},
   "source": [
    "## Selección de variables"
   ]
  },
  {
   "cell_type": "markdown",
   "metadata": {},
   "source": [
    "Hemos decidido no emplear ninguna técnica de selección de variables. Esto se debe a que ya de por si tenemos un número reducido de variables y para la mayoría de nuestros modelos no supone ningún problema, más allá de un mayor coste computacional, la introducción de variables correlacionadas o con poco poder predictivo.  En los modelos que esto si puede suponer un problema, modelos de regresión, hemos optado por incluir regularización que ayuda a reducir la colinealidad entre variables predictoras.  "
   ]
  },
  {
   "cell_type": "markdown",
   "metadata": {},
   "source": [
    "## Oversample (SMOTE)"
   ]
  },
  {
   "cell_type": "markdown",
   "metadata": {},
   "source": [
    "Debido al desbalanceo tan grande presente en nuestros datos optamos también por hacer un Oversample de la clase minoritaria en el conjunto de entrenamiento. Comprobaremos en algunos modelos si esto mejora los resultados con respecto al dataset original. "
   ]
  },
  {
   "cell_type": "markdown",
   "metadata": {},
   "source": [
    "## Guardado de los datos"
   ]
  },
  {
   "cell_type": "markdown",
   "metadata": {},
   "source": [
    "Guardamos los datos en formato _.parquet_ para introducir en los modelos."
   ]
  },
  {
   "cell_type": "code",
   "execution_count": 25,
   "metadata": {},
   "outputs": [],
   "source": [
    "xtrain.to_parquet(\"../data/xtrain.parquet\")\n",
    "xtest.to_parquet(\"../data/xtest.parquet\")\n",
    "pd.DataFrame(ytrain).to_parquet(\"../data/ytrain.parquet\")\n",
    "pd.DataFrame(ytest).to_parquet(\"../data/ytest.parquet\")\n",
    "#xtrain_smote.to_parquet(\"../data/xtrain_smote.parquet\")\n",
    "#pd.DataFrame(ytrain_smote).to_parquet(\"../data/ytrain_smote.parquet\")"
   ]
  }
 ],
 "metadata": {
  "interpreter": {
   "hash": "75234cef4d4b5401408a5d3b72f4265569f6601e8da7c73f173a51e561ebd976"
  },
  "kernelspec": {
   "display_name": "Python 3.8.12 64-bit ('core_models': conda)",
   "language": "python",
   "name": "python3"
  },
  "language_info": {
   "codemirror_mode": {
    "name": "ipython",
    "version": 3
   },
   "file_extension": ".py",
   "mimetype": "text/x-python",
   "name": "python",
   "nbconvert_exporter": "python",
   "pygments_lexer": "ipython3",
   "version": "3.8.12"
  },
  "orig_nbformat": 4
 },
 "nbformat": 4,
 "nbformat_minor": 2
}
