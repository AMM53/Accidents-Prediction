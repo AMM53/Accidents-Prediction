{
 "cells": [
  {
   "cell_type": "markdown",
   "metadata": {},
   "source": [
    "# Definición del problema a resolver\n",
    "• ¿Cuál es el problema?\n",
    "\n",
    "• Acción que buscamos hacer para solucionar el problema\n",
    "\n",
    "• ¿Cuáles son las variables disponibles?\n",
    "\n",
    "• ¿En qué momento se va a implantar el modelo? ¿Qué variables hay disponibles en\n",
    "el momento de llamada al modelo?\n",
    "\n",
    "• ¿Cómo se va a validar el modelo?\n"
   ]
  },
  {
   "cell_type": "markdown",
   "metadata": {},
   "source": [
    "Aquí hay que redactar una introducción explicando el caso y toda la parafernalia..."
   ]
  },
  {
   "cell_type": "markdown",
   "metadata": {},
   "source": [
    "# Exploración general / inicial\n",
    "• Dimensiones de la tabla y variables\n",
    "\n",
    "• Analizar si las variables estarán disponibles en el momento de la llamada al modelo\n",
    "(sino se estaría introduciendo información a futuro en el modelo)\n",
    "\n",
    "• Exploración de la variable objetivo\n",
    "\n",
    "• Rápido análisis de valores nulos\n",
    "\n",
    "• Se explora el número de variables numéricas y categóricas y se decide qué proceso\n",
    "realizar para tratarlas\n",
    "\n",
    "• Transformaciones iniciales de algunas variables: formato de fechas, eliminar\n",
    "espacios de una variable string, etc\n",
    "\n",
    "• Analizar la variable objetivo: aislándola de las demás variables (quizás, a pesar de\n",
    "no tener en cuenta las variables tenemos que sacar un 80% de accuracy."
   ]
  },
  {
   "cell_type": "code",
   "execution_count": 1,
   "metadata": {},
   "outputs": [],
   "source": [
    "import pandas as pd\n",
    "import numpy as np\n",
    "import math\n",
    "import matplotlib.pyplot as plt"
   ]
  },
  {
   "cell_type": "code",
   "execution_count": 2,
   "metadata": {},
   "outputs": [
    {
     "name": "stderr",
     "output_type": "stream",
     "text": [
      "C:\\Users\\Usuario\\anaconda3\\envs\\core_models\\lib\\site-packages\\IPython\\core\\interactiveshell.py:3417: DtypeWarning: Columns (1,2,5,12) have mixed types.Specify dtype option on import or set low_memory=False.\n",
      "  exec(code_obj, self.user_global_ns, self.user_ns)\n"
     ]
    }
   ],
   "source": [
    "df = pd.read_csv(\"../data/NCDB_1999_to_2014.csv\")"
   ]
  },
  {
   "cell_type": "code",
   "execution_count": 3,
   "metadata": {},
   "outputs": [
    {
     "name": "stdout",
     "output_type": "stream",
     "text": [
      "El dataset está compuesto por 5860405 filas\n",
      "El dataset tiene 22 columnas / variables\n"
     ]
    },
    {
     "data": {
      "text/html": [
       "<div>\n",
       "<style scoped>\n",
       "    .dataframe tbody tr th:only-of-type {\n",
       "        vertical-align: middle;\n",
       "    }\n",
       "\n",
       "    .dataframe tbody tr th {\n",
       "        vertical-align: top;\n",
       "    }\n",
       "\n",
       "    .dataframe thead th {\n",
       "        text-align: right;\n",
       "    }\n",
       "</style>\n",
       "<table border=\"1\" class=\"dataframe\">\n",
       "  <thead>\n",
       "    <tr style=\"text-align: right;\">\n",
       "      <th></th>\n",
       "      <th>C_YEAR</th>\n",
       "      <th>C_MNTH</th>\n",
       "      <th>C_WDAY</th>\n",
       "      <th>C_HOUR</th>\n",
       "      <th>C_SEV</th>\n",
       "      <th>C_VEHS</th>\n",
       "      <th>C_CONF</th>\n",
       "      <th>C_RCFG</th>\n",
       "      <th>C_WTHR</th>\n",
       "      <th>C_RSUR</th>\n",
       "      <th>...</th>\n",
       "      <th>V_ID</th>\n",
       "      <th>V_TYPE</th>\n",
       "      <th>V_YEAR</th>\n",
       "      <th>P_ID</th>\n",
       "      <th>P_SEX</th>\n",
       "      <th>P_AGE</th>\n",
       "      <th>P_PSN</th>\n",
       "      <th>P_ISEV</th>\n",
       "      <th>P_SAFE</th>\n",
       "      <th>P_USER</th>\n",
       "    </tr>\n",
       "  </thead>\n",
       "  <tbody>\n",
       "    <tr>\n",
       "      <th>0</th>\n",
       "      <td>1999</td>\n",
       "      <td>1</td>\n",
       "      <td>1</td>\n",
       "      <td>20</td>\n",
       "      <td>2</td>\n",
       "      <td>02</td>\n",
       "      <td>34</td>\n",
       "      <td>UU</td>\n",
       "      <td>1</td>\n",
       "      <td>5</td>\n",
       "      <td>...</td>\n",
       "      <td>01</td>\n",
       "      <td>06</td>\n",
       "      <td>1990</td>\n",
       "      <td>01</td>\n",
       "      <td>M</td>\n",
       "      <td>41</td>\n",
       "      <td>11</td>\n",
       "      <td>1</td>\n",
       "      <td>UU</td>\n",
       "      <td>1</td>\n",
       "    </tr>\n",
       "    <tr>\n",
       "      <th>1</th>\n",
       "      <td>1999</td>\n",
       "      <td>1</td>\n",
       "      <td>1</td>\n",
       "      <td>20</td>\n",
       "      <td>2</td>\n",
       "      <td>02</td>\n",
       "      <td>34</td>\n",
       "      <td>UU</td>\n",
       "      <td>1</td>\n",
       "      <td>5</td>\n",
       "      <td>...</td>\n",
       "      <td>02</td>\n",
       "      <td>01</td>\n",
       "      <td>1987</td>\n",
       "      <td>01</td>\n",
       "      <td>M</td>\n",
       "      <td>19</td>\n",
       "      <td>11</td>\n",
       "      <td>1</td>\n",
       "      <td>UU</td>\n",
       "      <td>1</td>\n",
       "    </tr>\n",
       "    <tr>\n",
       "      <th>2</th>\n",
       "      <td>1999</td>\n",
       "      <td>1</td>\n",
       "      <td>1</td>\n",
       "      <td>20</td>\n",
       "      <td>2</td>\n",
       "      <td>02</td>\n",
       "      <td>34</td>\n",
       "      <td>UU</td>\n",
       "      <td>1</td>\n",
       "      <td>5</td>\n",
       "      <td>...</td>\n",
       "      <td>02</td>\n",
       "      <td>01</td>\n",
       "      <td>1987</td>\n",
       "      <td>02</td>\n",
       "      <td>F</td>\n",
       "      <td>20</td>\n",
       "      <td>13</td>\n",
       "      <td>2</td>\n",
       "      <td>02</td>\n",
       "      <td>2</td>\n",
       "    </tr>\n",
       "    <tr>\n",
       "      <th>3</th>\n",
       "      <td>1999</td>\n",
       "      <td>1</td>\n",
       "      <td>1</td>\n",
       "      <td>08</td>\n",
       "      <td>2</td>\n",
       "      <td>01</td>\n",
       "      <td>01</td>\n",
       "      <td>UU</td>\n",
       "      <td>5</td>\n",
       "      <td>3</td>\n",
       "      <td>...</td>\n",
       "      <td>01</td>\n",
       "      <td>01</td>\n",
       "      <td>1986</td>\n",
       "      <td>01</td>\n",
       "      <td>M</td>\n",
       "      <td>46</td>\n",
       "      <td>11</td>\n",
       "      <td>1</td>\n",
       "      <td>UU</td>\n",
       "      <td>1</td>\n",
       "    </tr>\n",
       "    <tr>\n",
       "      <th>4</th>\n",
       "      <td>1999</td>\n",
       "      <td>1</td>\n",
       "      <td>1</td>\n",
       "      <td>08</td>\n",
       "      <td>2</td>\n",
       "      <td>01</td>\n",
       "      <td>01</td>\n",
       "      <td>UU</td>\n",
       "      <td>5</td>\n",
       "      <td>3</td>\n",
       "      <td>...</td>\n",
       "      <td>99</td>\n",
       "      <td>NN</td>\n",
       "      <td>NNNN</td>\n",
       "      <td>01</td>\n",
       "      <td>M</td>\n",
       "      <td>05</td>\n",
       "      <td>99</td>\n",
       "      <td>2</td>\n",
       "      <td>UU</td>\n",
       "      <td>3</td>\n",
       "    </tr>\n",
       "  </tbody>\n",
       "</table>\n",
       "<p>5 rows × 22 columns</p>\n",
       "</div>"
      ],
      "text/plain": [
       "   C_YEAR C_MNTH C_WDAY C_HOUR  C_SEV C_VEHS C_CONF C_RCFG C_WTHR C_RSUR  ...  \\\n",
       "0    1999      1      1     20      2     02     34     UU      1      5  ...   \n",
       "1    1999      1      1     20      2     02     34     UU      1      5  ...   \n",
       "2    1999      1      1     20      2     02     34     UU      1      5  ...   \n",
       "3    1999      1      1     08      2     01     01     UU      5      3  ...   \n",
       "4    1999      1      1     08      2     01     01     UU      5      3  ...   \n",
       "\n",
       "  V_ID V_TYPE V_YEAR P_ID P_SEX P_AGE P_PSN P_ISEV P_SAFE P_USER  \n",
       "0   01     06   1990   01     M    41    11      1     UU      1  \n",
       "1   02     01   1987   01     M    19    11      1     UU      1  \n",
       "2   02     01   1987   02     F    20    13      2     02      2  \n",
       "3   01     01   1986   01     M    46    11      1     UU      1  \n",
       "4   99     NN   NNNN   01     M    05    99      2     UU      3  \n",
       "\n",
       "[5 rows x 22 columns]"
      ]
     },
     "execution_count": 3,
     "metadata": {},
     "output_type": "execute_result"
    }
   ],
   "source": [
    "print(\"El dataset está compuesto por\", len(df.index), \"filas\")\n",
    "print(\"El dataset tiene\", len(df.columns), \"columnas / variables\")\n",
    "df.head(5)\n"
   ]
  },
  {
   "cell_type": "code",
   "execution_count": 4,
   "metadata": {},
   "outputs": [
    {
     "name": "stdout",
     "output_type": "stream",
     "text": [
      "True\n"
     ]
    }
   ],
   "source": [
    "# Cambio de nombre de las variables\n",
    "new_names = [\"year\", \"month\", \"weekday\", \"hour\", \"fatality\", \"vehicles_involved\", \"crash_type\", \"crash_place\", \"crash_weather\",\n",
    "\"surface_state\", \"road_slope\", \"traffic_state\", \"vehicle_id\", \"vehicle_type\", \"vehicle_year\", \"passenger_id\", \"passenger_sex\",\n",
    "\"passenger_age\", \"passenger_role\", \"passenger_fatality\", \"passenger_safety\", \"passenger_type\"]\n",
    "\n",
    "print(len(new_names) == len(df.columns))\n",
    "\n",
    "df.columns = new_names"
   ]
  },
  {
   "cell_type": "code",
   "execution_count": 5,
   "metadata": {},
   "outputs": [
    {
     "data": {
      "text/plain": [
       "year                   int64\n",
       "month                 object\n",
       "weekday               object\n",
       "hour                  object\n",
       "fatality               int64\n",
       "vehicles_involved     object\n",
       "crash_type            object\n",
       "crash_place           object\n",
       "crash_weather         object\n",
       "surface_state         object\n",
       "road_slope            object\n",
       "traffic_state         object\n",
       "vehicle_id            object\n",
       "vehicle_type          object\n",
       "vehicle_year          object\n",
       "passenger_id          object\n",
       "passenger_sex         object\n",
       "passenger_age         object\n",
       "passenger_role        object\n",
       "passenger_fatality    object\n",
       "passenger_safety      object\n",
       "passenger_type        object\n",
       "dtype: object"
      ]
     },
     "execution_count": 5,
     "metadata": {},
     "output_type": "execute_result"
    }
   ],
   "source": [
    "df.dtypes"
   ]
  },
  {
   "cell_type": "code",
   "execution_count": 6,
   "metadata": {},
   "outputs": [],
   "source": [
    "# Cambio de la variable vehicle_year a años de antigüedad (la he metido en otra columna por el momento)\n",
    "df['vehicle_age'] = df.year - pd.to_numeric(df.vehicle_year, errors= \"coerce\")"
   ]
  },
  {
   "cell_type": "code",
   "execution_count": 7,
   "metadata": {},
   "outputs": [],
   "source": [
    "# Limpieza de valores U, UU y UUUU (son NA \"puros\" según el diccionario)\n",
    "df = df.replace({\"U\": np.nan, \"UU\": np.nan, \"UUUU\": np.nan})"
   ]
  },
  {
   "cell_type": "code",
   "execution_count": 8,
   "metadata": {},
   "outputs": [],
   "source": [
    "new_columns = list(df.columns[0:4]) + list(df.columns[5:]) + list(df.columns[4:5])\n",
    "\n",
    "df = df[new_columns]"
   ]
  },
  {
   "cell_type": "code",
   "execution_count": 9,
   "metadata": {},
   "outputs": [
    {
     "name": "stdout",
     "output_type": "stream",
     "text": [
      "[1 2 3 4 5 6 7 8 9 10 11 12 '12' nan '01' '02' '11']\n"
     ]
    }
   ],
   "source": [
    "# Columna MONTH\n",
    "print(df[\"month\"].unique())\n",
    "df[\"month\"] = np.int8(df[\"month\"].replace({\"01\": 1, \"02\": 2, \"11\": 11, \"12\" : 12}))"
   ]
  },
  {
   "cell_type": "code",
   "execution_count": 10,
   "metadata": {},
   "outputs": [],
   "source": [
    "df = df[df[\"month\"] != 0]"
   ]
  },
  {
   "cell_type": "code",
   "execution_count": 11,
   "metadata": {},
   "outputs": [
    {
     "data": {
      "text/plain": [
       "array([ 1,  2,  3,  4,  5,  6,  7,  8,  9, 10, 11, 12], dtype=int8)"
      ]
     },
     "execution_count": 11,
     "metadata": {},
     "output_type": "execute_result"
    }
   ],
   "source": [
    "df[\"month\"].unique()"
   ]
  },
  {
   "cell_type": "code",
   "execution_count": 12,
   "metadata": {},
   "outputs": [
    {
     "name": "stdout",
     "output_type": "stream",
     "text": [
      "El porcentaje de fatalities/accidente para el mes 1 es del 1.506 %\n",
      "El porcentaje de fatalities/accidente para el mes 2 es del 1.501 %\n",
      "El porcentaje de fatalities/accidente para el mes 3 es del 1.56 %\n",
      "El porcentaje de fatalities/accidente para el mes 4 es del 1.576 %\n",
      "El porcentaje de fatalities/accidente para el mes 5 es del 1.641 %\n",
      "El porcentaje de fatalities/accidente para el mes 6 es del 1.658 %\n",
      "El porcentaje de fatalities/accidente para el mes 7 es del 1.91 %\n",
      "El porcentaje de fatalities/accidente para el mes 8 es del 1.903 %\n",
      "El porcentaje de fatalities/accidente para el mes 9 es del 1.771 %\n",
      "El porcentaje de fatalities/accidente para el mes 10 es del 1.71 %\n",
      "El porcentaje de fatalities/accidente para el mes 11 es del 1.66 %\n",
      "El porcentaje de fatalities/accidente para el mes 12 es del 1.688 %\n"
     ]
    }
   ],
   "source": [
    "month_analysis = df.groupby([\"month\", \"fatality\"]).size()\n",
    "\n",
    "for i in range(1, 1+ np.int8(len(month_analysis)/2)):\n",
    "    print(\"El porcentaje de fatalities/accidente para el mes\",\n",
    "    i ,\"es del\",round(month_analysis[i][1]/month_analysis[i].sum()*100, 3), \"%\")"
   ]
  },
  {
   "cell_type": "markdown",
   "metadata": {},
   "source": [
    "### Dividiremos la variable month en cuatro valores distintos, representando los distintos trimestres del año (Q1-4).\n",
    "#### La razón para esto es la existencia de un patrón estacional en el que los distintos trimestres (o estaciones del año) tienen valores similares a la hora de relacionarse con la variable objetivo $fatality$"
   ]
  },
  {
   "cell_type": "code",
   "execution_count": 13,
   "metadata": {},
   "outputs": [],
   "source": [
    "df[\"month\"] = df[\"month\"].replace({1:1, 2:1, 3:1, 4:2, 5:2, 6:2, 7:3, 8:3, 9:3, 10:4, 11:4, 12:4})"
   ]
  },
  {
   "cell_type": "markdown",
   "metadata": {},
   "source": [
    "## Columna Weekday"
   ]
  },
  {
   "cell_type": "code",
   "execution_count": 14,
   "metadata": {},
   "outputs": [
    {
     "name": "stdout",
     "output_type": "stream",
     "text": [
      "[1 2 3 4 5 6 7 '7' nan '1' '2' '3' '4' '5' '6']\n",
      "[1 2 3 4 5 6 7 0]\n"
     ]
    }
   ],
   "source": [
    "print(df[\"weekday\"].unique())\n",
    "df[\"weekday\"] = np.int8(df[\"weekday\"].replace({\"7\": 7, \"1\": 1, \"2\": 2, \"3\" : 3, \"4\":4, \"5\":5, \"6\":6}))\n",
    "print(df[\"weekday\"].unique())"
   ]
  },
  {
   "cell_type": "markdown",
   "metadata": {},
   "source": [
    "Las filas con NA en weekday (valor 0 para el día de la semana) son un número mínimo en comparación con el tamaño del data-set así que nos deshacemos de ellas"
   ]
  },
  {
   "cell_type": "code",
   "execution_count": 15,
   "metadata": {},
   "outputs": [],
   "source": [
    "# Nos deshacemos de esas filas\n",
    "df = df[df[\"weekday\"] != 0]"
   ]
  },
  {
   "cell_type": "code",
   "execution_count": 16,
   "metadata": {},
   "outputs": [
    {
     "name": "stdout",
     "output_type": "stream",
     "text": [
      "El porcentaje de fatalities/accidente para el día de la semana 1 es del 1.543 %\n",
      "El porcentaje de fatalities/accidente para el día de la semana 2 es del 1.428 %\n",
      "El porcentaje de fatalities/accidente para el día de la semana 3 es del 1.422 %\n",
      "El porcentaje de fatalities/accidente para el día de la semana 4 es del 1.545 %\n",
      "El porcentaje de fatalities/accidente para el día de la semana 5 es del 1.655 %\n",
      "El porcentaje de fatalities/accidente para el día de la semana 6 es del 2.059 %\n",
      "El porcentaje de fatalities/accidente para el día de la semana 7 es del 2.187 %\n"
     ]
    }
   ],
   "source": [
    "weekday_analysis = df.groupby([\"weekday\", \"fatality\"]).size()\n",
    "\n",
    "for i in range(1, 1+ np.int8(len(weekday_analysis)/2)):\n",
    "    print(\"El porcentaje de fatalities/accidente para el día de la semana\",\n",
    "    i ,\"es del\",round(weekday_analysis[i][1]/weekday_analysis[i].sum()*100, 3), \"%\")"
   ]
  },
  {
   "cell_type": "markdown",
   "metadata": {},
   "source": [
    "## Columna $hour$\n",
    "### Opción 1: https://towardsdatascience.com/how-to-handle-cyclical-data-in-machine-learning-3e0336f7f97c\n",
    "### Opción 2: Identificar distintos \"tramos\" de similar influencia en $fatalities$ y luego hotencodearlo. Habría que hacerlo por tramos para reducir, ya que 24 variables para la hora quizás sean demasiadas"
   ]
  },
  {
   "cell_type": "code",
   "execution_count": 17,
   "metadata": {},
   "outputs": [],
   "source": [
    "df = df[df[\"hour\"].notnull()]\n",
    "df[\"hour\"] = df[\"hour\"].astype(\"int8\")"
   ]
  },
  {
   "cell_type": "code",
   "execution_count": 18,
   "metadata": {},
   "outputs": [
    {
     "name": "stdout",
     "output_type": "stream",
     "text": [
      "El porcentaje de fatalities/accidente para la hora 0 es del 3.357 %\n",
      "El porcentaje de fatalities/accidente para la hora 1 es del 4.059 %\n",
      "El porcentaje de fatalities/accidente para la hora 2 es del 4.092 %\n",
      "El porcentaje de fatalities/accidente para la hora 3 es del 4.08 %\n",
      "El porcentaje de fatalities/accidente para la hora 4 es del 4.32 %\n",
      "El porcentaje de fatalities/accidente para la hora 5 es del 4.228 %\n",
      "El porcentaje de fatalities/accidente para la hora 6 es del 2.445 %\n",
      "El porcentaje de fatalities/accidente para la hora 7 es del 1.615 %\n",
      "El porcentaje de fatalities/accidente para la hora 8 es del 1.18 %\n",
      "El porcentaje de fatalities/accidente para la hora 9 es del 1.576 %\n",
      "El porcentaje de fatalities/accidente para la hora 10 es del 1.581 %\n",
      "El porcentaje de fatalities/accidente para la hora 11 es del 1.392 %\n",
      "El porcentaje de fatalities/accidente para la hora 12 es del 1.296 %\n",
      "El porcentaje de fatalities/accidente para la hora 13 es del 1.305 %\n",
      "El porcentaje de fatalities/accidente para la hora 14 es del 1.379 %\n",
      "El porcentaje de fatalities/accidente para la hora 15 es del 1.27 %\n",
      "El porcentaje de fatalities/accidente para la hora 16 es del 1.236 %\n",
      "El porcentaje de fatalities/accidente para la hora 17 es del 1.23 %\n",
      "El porcentaje de fatalities/accidente para la hora 18 es del 1.529 %\n",
      "El porcentaje de fatalities/accidente para la hora 19 es del 1.785 %\n",
      "El porcentaje de fatalities/accidente para la hora 20 es del 2.083 %\n",
      "El porcentaje de fatalities/accidente para la hora 21 es del 2.046 %\n",
      "El porcentaje de fatalities/accidente para la hora 22 es del 2.471 %\n",
      "El porcentaje de fatalities/accidente para la hora 23 es del 2.744 %\n"
     ]
    },
    {
     "data": {
      "text/plain": [
       "<AxesSubplot:>"
      ]
     },
     "execution_count": 18,
     "metadata": {},
     "output_type": "execute_result"
    },
    {
     "data": {
      "image/png": "[encoded data removed]",
      "text/plain": [
       "<Figure size 640x480 with 1 Axes>"
      ]
     },
     "metadata": {},
     "output_type": "display_data"
    }
   ],
   "source": [
    "plt.style.use('seaborn-whitegrid')\n",
    "plt.figure(figsize=(8,6), dpi=80)\n",
    "\n",
    "\n",
    "hour_analysis = df.groupby([\"hour\", \"fatality\"]).size()\n",
    "hour_values = list()\n",
    "\n",
    "for i in range(0, int(len(hour_analysis)/2)):\n",
    "    print(\"El porcentaje de fatalities/accidente para la hora\",\n",
    "    i ,\"es del\",round(hour_analysis[i][1]/hour_analysis[i].sum()*100, 3), \"%\")\n",
    "    hour_values.append(hour_analysis[i][1]/hour_analysis[i].sum()*100)\n",
    "\n",
    "hour_values = pd.DataFrame(hour_values)\n",
    "hour_values.T.iloc[0].plot()"
   ]
  },
  {
   "cell_type": "markdown",
   "metadata": {},
   "source": [
    "## Variable objetivo"
   ]
  },
  {
   "cell_type": "code",
   "execution_count": 19,
   "metadata": {},
   "outputs": [],
   "source": [
    "# Recodeado de la variable objetivo\n",
    "# Antes: 1-fatality 2-no fatality\n",
    "# Después: 1-fatality 2-no fatality\n",
    "df['fatality'] = df['fatality'].replace({2:0})"
   ]
  },
  {
   "cell_type": "code",
   "execution_count": 20,
   "metadata": {},
   "outputs": [
    {
     "name": "stdout",
     "output_type": "stream",
     "text": [
      "0    98.318246\n",
      "1     1.681754\n",
      "Name: fatality, dtype: float64\n"
     ]
    },
    {
     "data": {
      "text/plain": [
       "0    97.940931\n",
       "1     2.059069\n",
       "Name: fatality, dtype: float64"
      ]
     },
     "execution_count": 20,
     "metadata": {},
     "output_type": "execute_result"
    }
   ],
   "source": [
    "# He pensado en unificar las columnas de fecha pero he observado que la proporción de muertes / heridos es bastante diferente según el día de la semana (e imagino que también por la hora)\n",
    "\n",
    "print(df.fatality.value_counts() / len(df.index) * 100)\n",
    "\n",
    "df.loc[df[\"weekday\"] == 6].fatality.value_counts() / len(df.loc[df[\"weekday\"] == 6].index) * 100"
   ]
  },
  {
   "cell_type": "code",
   "execution_count": 21,
   "metadata": {},
   "outputs": [
    {
     "data": {
      "text/html": [
       "<div>\n",
       "<style scoped>\n",
       "    .dataframe tbody tr th:only-of-type {\n",
       "        vertical-align: middle;\n",
       "    }\n",
       "\n",
       "    .dataframe tbody tr th {\n",
       "        vertical-align: top;\n",
       "    }\n",
       "\n",
       "    .dataframe thead th {\n",
       "        text-align: right;\n",
       "    }\n",
       "</style>\n",
       "<table border=\"1\" class=\"dataframe\">\n",
       "  <thead>\n",
       "    <tr style=\"text-align: right;\">\n",
       "      <th></th>\n",
       "      <th>index</th>\n",
       "      <th>missing_value</th>\n",
       "      <th>feature_type</th>\n",
       "    </tr>\n",
       "  </thead>\n",
       "  <tbody>\n",
       "    <tr>\n",
       "      <th>1</th>\n",
       "      <td>hour</td>\n",
       "      <td>0</td>\n",
       "      <td>int8</td>\n",
       "    </tr>\n",
       "    <tr>\n",
       "      <th>4</th>\n",
       "      <td>weekday</td>\n",
       "      <td>0</td>\n",
       "      <td>int8</td>\n",
       "    </tr>\n",
       "    <tr>\n",
       "      <th>0</th>\n",
       "      <td>year</td>\n",
       "      <td>0</td>\n",
       "      <td>int64</td>\n",
       "    </tr>\n",
       "    <tr>\n",
       "      <th>2</th>\n",
       "      <td>fatality</td>\n",
       "      <td>0</td>\n",
       "      <td>int64</td>\n",
       "    </tr>\n",
       "    <tr>\n",
       "      <th>3</th>\n",
       "      <td>month</td>\n",
       "      <td>0</td>\n",
       "      <td>int64</td>\n",
       "    </tr>\n",
       "    <tr>\n",
       "      <th>5</th>\n",
       "      <td>passenger_id</td>\n",
       "      <td>16</td>\n",
       "      <td>object</td>\n",
       "    </tr>\n",
       "    <tr>\n",
       "      <th>6</th>\n",
       "      <td>vehicles_involved</td>\n",
       "      <td>343</td>\n",
       "      <td>object</td>\n",
       "    </tr>\n",
       "    <tr>\n",
       "      <th>7</th>\n",
       "      <td>vehicle_id</td>\n",
       "      <td>432</td>\n",
       "      <td>object</td>\n",
       "    </tr>\n",
       "    <tr>\n",
       "      <th>8</th>\n",
       "      <td>vehicle_type</td>\n",
       "      <td>29262</td>\n",
       "      <td>object</td>\n",
       "    </tr>\n",
       "    <tr>\n",
       "      <th>9</th>\n",
       "      <td>passenger_role</td>\n",
       "      <td>57342</td>\n",
       "      <td>object</td>\n",
       "    </tr>\n",
       "    <tr>\n",
       "      <th>10</th>\n",
       "      <td>surface_state</td>\n",
       "      <td>76436</td>\n",
       "      <td>object</td>\n",
       "    </tr>\n",
       "    <tr>\n",
       "      <th>11</th>\n",
       "      <td>passenger_fatality</td>\n",
       "      <td>80170</td>\n",
       "      <td>object</td>\n",
       "    </tr>\n",
       "    <tr>\n",
       "      <th>12</th>\n",
       "      <td>crash_weather</td>\n",
       "      <td>85830</td>\n",
       "      <td>object</td>\n",
       "    </tr>\n",
       "    <tr>\n",
       "      <th>13</th>\n",
       "      <td>passenger_type</td>\n",
       "      <td>173454</td>\n",
       "      <td>object</td>\n",
       "    </tr>\n",
       "    <tr>\n",
       "      <th>14</th>\n",
       "      <td>crash_type</td>\n",
       "      <td>174633</td>\n",
       "      <td>object</td>\n",
       "    </tr>\n",
       "    <tr>\n",
       "      <th>15</th>\n",
       "      <td>traffic_state</td>\n",
       "      <td>218781</td>\n",
       "      <td>object</td>\n",
       "    </tr>\n",
       "    <tr>\n",
       "      <th>16</th>\n",
       "      <td>passenger_sex</td>\n",
       "      <td>231814</td>\n",
       "      <td>object</td>\n",
       "    </tr>\n",
       "    <tr>\n",
       "      <th>17</th>\n",
       "      <td>vehicle_year</td>\n",
       "      <td>319128</td>\n",
       "      <td>object</td>\n",
       "    </tr>\n",
       "    <tr>\n",
       "      <th>18</th>\n",
       "      <td>passenger_age</td>\n",
       "      <td>370959</td>\n",
       "      <td>object</td>\n",
       "    </tr>\n",
       "    <tr>\n",
       "      <th>19</th>\n",
       "      <td>road_slope</td>\n",
       "      <td>430099</td>\n",
       "      <td>object</td>\n",
       "    </tr>\n",
       "    <tr>\n",
       "      <th>20</th>\n",
       "      <td>crash_place</td>\n",
       "      <td>498837</td>\n",
       "      <td>object</td>\n",
       "    </tr>\n",
       "    <tr>\n",
       "      <th>21</th>\n",
       "      <td>vehicle_age</td>\n",
       "      <td>575495</td>\n",
       "      <td>float64</td>\n",
       "    </tr>\n",
       "    <tr>\n",
       "      <th>22</th>\n",
       "      <td>passenger_safety</td>\n",
       "      <td>605228</td>\n",
       "      <td>object</td>\n",
       "    </tr>\n",
       "  </tbody>\n",
       "</table>\n",
       "</div>"
      ],
      "text/plain": [
       "                 index  missing_value feature_type\n",
       "1                 hour              0         int8\n",
       "4              weekday              0         int8\n",
       "0                 year              0        int64\n",
       "2             fatality              0        int64\n",
       "3                month              0        int64\n",
       "5         passenger_id             16       object\n",
       "6    vehicles_involved            343       object\n",
       "7           vehicle_id            432       object\n",
       "8         vehicle_type          29262       object\n",
       "9       passenger_role          57342       object\n",
       "10       surface_state          76436       object\n",
       "11  passenger_fatality          80170       object\n",
       "12       crash_weather          85830       object\n",
       "13      passenger_type         173454       object\n",
       "14          crash_type         174633       object\n",
       "15       traffic_state         218781       object\n",
       "16       passenger_sex         231814       object\n",
       "17        vehicle_year         319128       object\n",
       "18       passenger_age         370959       object\n",
       "19          road_slope         430099       object\n",
       "20         crash_place         498837       object\n",
       "21         vehicle_age         575495      float64\n",
       "22    passenger_safety         605228       object"
      ]
     },
     "execution_count": 21,
     "metadata": {},
     "output_type": "execute_result"
    }
   ],
   "source": [
    "# analizar nulos\n",
    "df_dtypes = pd.merge(df.isnull().sum(axis = 0).sort_values().to_frame('missing_value').reset_index(),\n",
    "         df.dtypes.to_frame('feature_type').reset_index(),\n",
    "         on = 'index',\n",
    "         how = 'inner')\n",
    "\n",
    "df_dtypes.sort_values(['missing_value', 'feature_type'])"
   ]
  },
  {
   "cell_type": "markdown",
   "metadata": {},
   "source": [
    "Apenas tenemos valores NA, o eso parece... Sin embargo, el dataset no utiliza espacios vacíos para representar los valores desconocidos si no caracteres como X o XX. El diccionario refleja esto."
   ]
  }
 ],
 "metadata": {
  "interpreter": {
   "hash": "75234cef4d4b5401408a5d3b72f4265569f6601e8da7c73f173a51e561ebd976"
  },
  "kernelspec": {
   "display_name": "Python 3.8.12 64-bit ('core_models': conda)",
   "language": "python",
   "name": "python3"
  },
  "language_info": {
   "codemirror_mode": {
    "name": "ipython",
    "version": 3
   },
   "file_extension": ".py",
   "mimetype": "text/x-python",
   "name": "python",
   "nbconvert_exporter": "python",
   "pygments_lexer": "ipython3",
   "version": "3.8.12"
  },
  "orig_nbformat": 4
 },
 "nbformat": 4,
 "nbformat_minor": 2
}
