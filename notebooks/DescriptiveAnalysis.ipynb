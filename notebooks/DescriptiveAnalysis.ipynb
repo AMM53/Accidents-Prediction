{
 "cells": [
  {
   "cell_type": "markdown",
   "metadata": {},
   "source": [
    "# Definición del problema a resolver\n",
    "• ¿Cuál es el problema?\n",
    "- ¿Qué tipos de vehículos (modelos, antigüedad, etc.) y conductores son más propensos a tener accidentes (acción correctiva en prima)?\n",
    "\n",
    "- ¿Qué tipos de vehículos (modelos, antigüedad, etc.) y conductores son menos propensos a tener accidentes (descuento en prima)?\n",
    "\n",
    "- ¿Qué es lo que más contribuye a que existan fallecimientos en un accidente?\n",
    "\n",
    "- Dado un accidente, ¿se puede generar un modelo que prediga si habrá fallecimientos o no? ¿Si se va a necesitar tratamiento médico o no? Las aseguradoras tienen que inmovilizar capital para pagar estas casuísticas. \n",
    "\n",
    "• Acción que buscamos hacer para solucionar el problema\n",
    "\n",
    "• ¿Cuáles son las variables disponibles?\n",
    "\n",
    "• ¿En qué momento se va a implantar el modelo? ¿Qué variables hay disponibles en\n",
    "el momento de llamada al modelo?\n",
    "\n",
    "• ¿Cómo se va a validar el modelo?\n"
   ]
  },
  {
   "cell_type": "markdown",
   "metadata": {},
   "source": [
    "Aquí hay que redactar una introducción explicando el caso y toda la parafernalia..."
   ]
  },
  {
   "cell_type": "markdown",
   "metadata": {},
   "source": [
    "# Exploración general / inicial\n",
    "• Dimensiones de la tabla y variables\n",
    "\n",
    "• Analizar si las variables estarán disponibles en el momento de la llamada al modelo\n",
    "(sino se estaría introduciendo información a futuro en el modelo)\n",
    "\n",
    "• Exploración de la variable objetivo\n",
    "\n",
    "• Rápido análisis de valores nulos\n",
    "\n",
    "• Se explora el número de variables numéricas y categóricas y se decide qué proceso\n",
    "realizar para tratarlas\n",
    "\n",
    "• Transformaciones iniciales de algunas variables: formato de fechas, eliminar\n",
    "espacios de una variable string, etc\n",
    "\n",
    "• Analizar la variable objetivo: aislándola de las demás variables (quizás, a pesar de\n",
    "no tener en cuenta las variables tenemos que sacar un 80% de accuracy."
   ]
  },
  {
   "cell_type": "code",
   "execution_count": null,
   "metadata": {},
   "outputs": [],
   "source": [
    "#Librerías\n",
    "import pandas as pd\n",
    "import numpy as np\n",
    "import math\n",
    "import matplotlib.pyplot as plt\n",
    "from pandas.plotting import autocorrelation_plot\n",
    "import seaborn as sns\n",
    "import plotly.express as px\n",
    "import scipy.stats as ss"
   ]
  },
  {
   "cell_type": "code",
   "execution_count": null,
   "metadata": {},
   "outputs": [],
   "source": [
    "#Importamos los datos\n",
    "df = pd.read_csv(\"../data/NCDB_1999_to_2014.csv\")"
   ]
  },
  {
   "cell_type": "code",
   "execution_count": null,
   "metadata": {},
   "outputs": [],
   "source": [
    "print(\"El dataset está compuesto por\", len(df.index), \"filas y\", len(df.columns), \"columnas\")\n",
    "df.head(5)"
   ]
  },
  {
   "cell_type": "code",
   "execution_count": null,
   "metadata": {},
   "outputs": [],
   "source": [
    "# Cambio de nombre de las variables\n",
    "new_names = [\"year\", \"month\", \"weekday\", \"hour\", \"fatality\", \"vehicles_involved\", \"crash_type\", \"crash_place\", \"crash_weather\",\n",
    "\"surface_state\", \"road_slope\", \"traffic_state\", \"vehicle_id\", \"vehicle_type\", \"vehicle_year\", \"passenger_id\", \"passenger_sex\",\n",
    "\"passenger_age\", \"passenger_role\", \"passenger_fatality\", \"passenger_safety\", \"passenger_type\"]\n",
    "\n",
    "print(len(new_names) == len(df.columns))\n",
    "\n",
    "df.columns = new_names"
   ]
  },
  {
   "cell_type": "code",
   "execution_count": null,
   "metadata": {},
   "outputs": [],
   "source": [
    "# Comprobamos el tipo de las variables, la mayoría son categóricas salvo fechas y variable objetivo(booleana)\n",
    "# Algunas variables las podemos convertir en numéricas. ej. passenger_age\n",
    "print(df.dtypes.sort_values().to_frame('feature_type').groupby(by = 'feature_type').size().to_frame('count').reset_index())\n",
    "df.dtypes "
   ]
  },
  {
   "cell_type": "markdown",
   "metadata": {},
   "source": [
    "# Variables futuras y duplicados"
   ]
  },
  {
   "cell_type": "markdown",
   "metadata": {},
   "source": [
    "El dataset contiene variables que no están disponible en el momento de la colisión y por tanto escapan al objetivo de nuestro ánalisis y otras que directamente no son de útilidad como IDs. También debemos prescindir de registros duplicados antes de eliminar los IDs"
   ]
  },
  {
   "cell_type": "code",
   "execution_count": null,
   "metadata": {},
   "outputs": [],
   "source": [
    "print(df.shape)\n",
    "df = df.drop_duplicates().drop([\"passenger_id\",\"passenger_fatality\", \"vehicle_id\"], axis=1)\n",
    "df.shape"
   ]
  },
  {
   "cell_type": "markdown",
   "metadata": {},
   "source": [
    "# Variable Objetivo"
   ]
  },
  {
   "cell_type": "code",
   "execution_count": null,
   "metadata": {},
   "outputs": [],
   "source": [
    "# Recodeado de la variable objetivo\n",
    "# Antes: 1-fatality 2-no fatality\n",
    "# Después: 1-fatality 0-no fatality\n",
    "df['fatality'] = df['fatality'].replace({2:0})"
   ]
  },
  {
   "cell_type": "code",
   "execution_count": null,
   "metadata": {},
   "outputs": [],
   "source": [
    "#Ponemos la variable objetivo a la derecha del dataframe\n",
    "new_columns = list(df.columns[0:4]) + list(df.columns[5:]) + list(df.columns[4:5])\n",
    "df = df[new_columns]"
   ]
  },
  {
   "cell_type": "code",
   "execution_count": null,
   "metadata": {},
   "outputs": [],
   "source": [
    "# Plot variable 'fatality. Podemos ver que el dataset está muy desbalanceado\n",
    "fatality_per = df['fatality'].value_counts(normalize=True).mul(100).rename('percent').reset_index()\n",
    "fatality_count = df['fatality'].value_counts().reset_index()\n",
    "fataity_merge= pd.merge(fatality_per, fatality_count, on=['index'], how='inner')\n",
    "fig = px.histogram(fataity_merge, x=\"index\", y=['percent'], labels={'index':'fatality'})\n",
    "fig.show()"
   ]
  },
  {
   "cell_type": "markdown",
   "metadata": {},
   "source": [
    "# Valores Nulos"
   ]
  },
  {
   "cell_type": "markdown",
   "metadata": {},
   "source": [
    "En el diccionario de datos encontramos varios tipos de datos ausentes.  Principalmente U, UU y UUUU que son datos estirctamente desconocidos.  \n",
    "Luego tenemos los X, XX y XXXX que son no proporcionados por la jurisdicción, no encontramos ningun registro con esta etiqueta en los datos.  \n",
    "Por otro lado tenemos los N, NN y NNNN que hacen referencia a que la variable no aplica al registro concreto. Por ejemplo en los registros creados para coches aparcados y peatones.  Más adelante decidiremos que hacer con estos registros.  \n",
    "Por último los Q, QQ, QQQQ que son otras opciones que no aparecen en las posibles y tampoco deben ser tratados como nulos."
   ]
  },
  {
   "cell_type": "code",
   "execution_count": null,
   "metadata": {},
   "outputs": [],
   "source": [
    "# Remplazamos U, UU y UUUU por NAs\n",
    "df = df.replace({\"U\": np.nan, \"UU\": np.nan, \"UUUU\": np.nan})"
   ]
  },
  {
   "cell_type": "code",
   "execution_count": null,
   "metadata": {},
   "outputs": [],
   "source": [
    "# Análisis Nulos\n",
    "nulos_col = pd.merge(df.isnull().sum().sort_values().to_frame('missing_value').reset_index(),\n",
    "         df.dtypes.to_frame('feature_type').reset_index(),\n",
    "         on = 'index',\n",
    "         how = 'inner')\n",
    "nulos_col['columns_percentage'] = nulos_col['missing_value']/df.shape[0]\n",
    "nulos_col.sort_values(['missing_value', 'feature_type', 'columns_percentage'], ascending=False)"
   ]
  },
  {
   "cell_type": "code",
   "execution_count": null,
   "metadata": {},
   "outputs": [],
   "source": [
    "null_rows = df.isnull().sum(axis=1).sort_values(ascending=False)\n",
    "nulos_filas = pd.DataFrame(null_rows, columns=['nulos_filas'])  \n",
    "nulos_filas['target'] = df['fatality'].copy()\n",
    "nulos_filas['porcentaje_filas']= nulos_filas['nulos_filas']/df.shape[1]\n",
    "nulos_filas"
   ]
  },
  {
   "cell_type": "code",
   "execution_count": null,
   "metadata": {},
   "outputs": [],
   "source": [
    "# Podemos ver como la mayoría de filas con mas de 40% NAs no son fatalities\n",
    "# En una proporción bastante menor a la que encontramos en el conjunto de datos\n",
    "NA_0 = nulos_filas.target[(nulos_filas.porcentaje_filas>=0.40) & (nulos_filas.target==0)].count()\n",
    "NA_1 = nulos_filas.target[(nulos_filas.porcentaje_filas>=0.40) & (nulos_filas.target==1)].count()\n",
    "print(NA_0, NA_1)\n",
    "NA_1/NA_0"
   ]
  },
  {
   "cell_type": "markdown",
   "metadata": {},
   "source": [
    "Tras hacer el analisis de los nulos por filas y por columnas. Procedemos a eliminar los registros con más nulos. En cuanto a columnas mantenemos todas puesto que solo una de ellas supera ligeramente el 10% de nulos una cantidad dentro de un treshold razonable y puede ser una variable de interés para el modelo. En cuanto a las filas vamos a eliminar todos los registros que contengan más de un 40% de nulos, es decir, 8 o más variables con valor nulo en un solo registro."
   ]
  },
  {
   "cell_type": "code",
   "execution_count": null,
   "metadata": {},
   "outputs": [],
   "source": [
    "#Eliminando los registros con >40% nulos\n",
    "nulos_40 = list(nulos_filas.index[nulos_filas.porcentaje_filas>=0.40])\n",
    "df = df.loc[set(df.index)-set(nulos_40)].reset_index()"
   ]
  },
  {
   "cell_type": "code",
   "execution_count": null,
   "metadata": {},
   "outputs": [],
   "source": [
    "# NNs variable passenger_age que vamos a convertir en NAs\n",
    "print(df[(df['passenger_age']=='NN') & (df['fatality']==0)].shape)\n",
    "df[(df['passenger_age']=='NN') & (df['fatality']==1)].shape"
   ]
  },
  {
   "cell_type": "markdown",
   "metadata": {},
   "source": [
    "# Transformación Básica de algunas variables"
   ]
  },
  {
   "cell_type": "code",
   "execution_count": null,
   "metadata": {},
   "outputs": [],
   "source": [
    "# Cambio de la variable vehicle_year a años de antigüedad y eliminamos vehicle_year\n",
    "# Cambiamos passenger_age y vehicles_involved a númericas ninguna de las dos tiene NAs. \n",
    "# Sin embargo, passenger_age tiene valores NN para transformar la variable los haremos NA con 'coerce'\n",
    "df['vehicle_year'] = pd.to_numeric(df.year - pd.to_numeric(df.vehicle_year, errors= \"coerce\"))\n",
    "df = df.rename(columns={\"vehicle_year\": 'vehicle_age'})\n",
    "df['passenger_age'] = pd.to_numeric(df['passenger_age'],\"coerce\")\n",
    "df['vehicles_involved'] = pd.to_numeric(df['vehicles_involved'],\"ignore\")\n",
    "df.drop(inplace=True, axis=1, columns='index')"
   ]
  },
  {
   "cell_type": "code",
   "execution_count": null,
   "metadata": {},
   "outputs": [],
   "source": [
    "categoricas_pre = list(df.select_dtypes(include=['object'], exclude=np.number).columns)\n",
    "numericas_pre = list(df.select_dtypes(exclude=['object'], include=np.number).columns)\n",
    "print(categoricas_pre, numericas_pre)"
   ]
  },
  {
   "cell_type": "markdown",
   "metadata": {},
   "source": [
    "# Gráficos"
   ]
  },
  {
   "cell_type": "markdown",
   "metadata": {},
   "source": [
    "## Funciones\n",
    "\n",
    "#### Hemos generado varias funciones que nos ayudarán a aplicar un análisis descriptivo a las variables de nuestro dataset de manera eficiente e individual.\n",
    "#### En concreto, hemos optado por llevar a cabo un análisis de:\n",
    "\n",
    "#### - Verde azulado: La distribución de la variable objetivo en función de los valores de la variable que estamos analizando.\n",
    "#### - Verde intenso: La frecuencia absoluta de los accidentes mortales (variable objetiva = 1) en función de los valores de la variable analizada.\n",
    "#### - Azul: El nivel de mortalidad en función de los valores de la variable que estamos analizando. Probabilidad = $\\frac{Accidentes Mortales}{Accidentes Totales}$ x 100"
   ]
  },
  {
   "cell_type": "code",
   "execution_count": null,
   "metadata": {},
   "outputs": [],
   "source": [
    "# Funciones\n",
    "\n",
    "### Función mortalidad (% / 100 Accidentes)\n",
    "\n",
    "def mortalidad(columna, tipos, titulo):\n",
    "    analysis = df.groupby([columna, \"fatality\"]).size()\n",
    "    serie = list()\n",
    "    for i in range(0, np.int8(len(analysis)/2)):\n",
    "        serie.append(analysis[:,1].iloc[[i]].item() / (analysis[:,1].iloc[[i]].item() + (analysis[:,0].iloc[[i]].item())) * 100)\n",
    "    analysis = pd.Series(serie, index = range(0, np.int8(len(analysis)/2)))\n",
    "    plt.figure(figsize=(15,5))\n",
    "    plot = analysis.plot(kind=\"bar\", title = titulo, color= \"#3A5683\")\n",
    "    plot.set_xticklabels(tipos, rotation = 45)\n",
    "    \n",
    "\n",
    "### Función frecuencia absoluta\n",
    "\n",
    "def frecuencia(columna, tipos, titulo):\n",
    "    analysis = df.groupby(columna)[\"fatality\"].count()\n",
    "    plt.figure(figsize=(15,5))\n",
    "    plot = analysis.plot(kind=\"bar\", title=titulo, color = \"#639A88\")\n",
    "    plot.set_xticklabels(tipos, rotation = 45)\n",
    "    \n",
    "    \n",
    "### Función mortalidad total\n",
    "\n",
    "def mortalidadtotal(columna, tipos, titulo):\n",
    "    analysis = df.groupby(columna)[\"fatality\"].sum() / df[\"fatality\"].sum() * 100\n",
    "    plt.figure(figsize=(15,5))\n",
    "    plot = analysis.plot(kind=\"bar\", title=titulo, color = \"#76B041\")\n",
    "    plot.set_xticklabels(tipos, rotation = 45)\n",
    "    \n",
    "    \n",
    "### Función Boxplot \n",
    "\n",
    "def boxplot_fatality(var): \n",
    "    f, ax = plt.subplots(figsize=(14, 6))\n",
    "    sns.boxplot(x=var, y='fatality' ,data=df, orient='h')\n"
   ]
  },
  {
   "cell_type": "markdown",
   "metadata": {},
   "source": [
    "## 1. Colisiones y Tiempo"
   ]
  },
  {
   "cell_type": "markdown",
   "metadata": {},
   "source": [
    "### 1.1. Observación del periodo completo"
   ]
  },
  {
   "cell_type": "markdown",
   "metadata": {},
   "source": [
    "Creamos columnas temporales que nos permitirán analizar la relación entre la línea temporal y la variable objetivo $fatality$, así como analizar las relaciones vigentes dentro de la propia variable objetivo."
   ]
  },
  {
   "cell_type": "code",
   "execution_count": null,
   "metadata": {},
   "outputs": [],
   "source": [
    "#FIXME: columna month de En progreso\n",
    "# Month a numerico\n",
    "df[\"month\"] = np.int8(df[\"month\"].replace({\"01\": 1, \"02\": 2, \"11\": 11, \"12\" : 12}))\n",
    "df = df[df[\"month\"] != 0]\n",
    "\n",
    "#Serie temporal con accidentes por fecha\n",
    "df_ts = pd.DataFrame()\n",
    "df_ts[\"date\"] = pd.DatetimeIndex(df[\"year\"].map(str) + \"-\" + df[\"month\"].map(str))\n",
    "df_ts[\"fatal\"] = np.where(df[\"fatality\"]==1, 1, 0)\n",
    "df_ts[\"non_fatal\"] = np.where(df[\"fatality\"]==0, 1, 0)"
   ]
  },
  {
   "cell_type": "markdown",
   "metadata": {},
   "source": [
    "Creamos un plot que nos permita observar la evolución de las colisiones de tráfico a lo largo del tiempo:"
   ]
  },
  {
   "cell_type": "code",
   "execution_count": null,
   "metadata": {},
   "outputs": [],
   "source": [
    "time_collision_both = df_ts.groupby('date')[\"fatal\",\"non_fatal\"].sum()\n",
    "plot = time_collision_both.plot(figsize = (15,5), title = \"Deadly colissions over time\")\n",
    "plot.set_xlabel(\"Year\")\n",
    "plot.set_ylabel(\"Number of deadly colissions\")"
   ]
  },
  {
   "cell_type": "markdown",
   "metadata": {},
   "source": [
    "A grandes rasgos y en una primera impresión, podemos realizar dos afirmaciones:\n",
    "\n",
    "- Parece existir un componente estacional para la variable objetivo, con ciclos anuales.\n",
    "\n",
    "- Existe una gran diferencia de magnitudes entre los distintos valores de la variable objetiva (mucho mayor número de casos $non fatal$ que $fatal$)\n"
   ]
  },
  {
   "cell_type": "markdown",
   "metadata": {},
   "source": [
    "Repetimos solo con los accidentes fatales:"
   ]
  },
  {
   "cell_type": "code",
   "execution_count": null,
   "metadata": {},
   "outputs": [],
   "source": [
    "time_collision_fatal = df_ts.groupby('date')[\"fatal\"].sum()\n",
    "plot = time_collision_fatal.plot(figsize = (15,5), title = \"Deadly colissions over time\")\n",
    "plot.set_xlabel(\"Year\")\n",
    "plot.set_ylabel(\"Number of deadly colissions\")"
   ]
  },
  {
   "cell_type": "markdown",
   "metadata": {},
   "source": [
    "Podemos confirmar que efectivamente existe un componente estacional que afecta a las colisiones mortales."
   ]
  },
  {
   "cell_type": "code",
   "execution_count": null,
   "metadata": {},
   "outputs": [],
   "source": [
    "time_collision_nonfatal = df_ts.groupby('date')[\"non_fatal\"].sum()\n",
    "plot = time_collision_nonfatal.plot(figsize = (15,5), title = \"Non-deadly colissions over time\", color = \"orange\")\n",
    "plot.set_xlabel(\"Year\")\n",
    "plot.set_ylabel(\"Number of non-deadly colissions\")"
   ]
  },
  {
   "cell_type": "markdown",
   "metadata": {},
   "source": [
    "Ocurre lo mismo con las colisiones no mortales."
   ]
  },
  {
   "cell_type": "markdown",
   "metadata": {},
   "source": [
    "### 1.2. Observación reducida a los últimos 5 años"
   ]
  },
  {
   "cell_type": "markdown",
   "metadata": {},
   "source": [
    "Con el objetivo de observar de manera más clara y concisa la estacionalidad, reducimos el periodo de observación. La primera observación empieza en 2009."
   ]
  },
  {
   "cell_type": "code",
   "execution_count": null,
   "metadata": {},
   "outputs": [],
   "source": [
    "df_reduced = df_ts.loc[df_ts[\"date\"] >= \"2009\"]\n",
    "time_collision_fatal = df_reduced.groupby('date')[\"fatal\"].sum()\n",
    "\n",
    "\n",
    "plot = time_collision_fatal.plot(figsize = (15,5), title = \"Deadly colissions over time\")\n",
    "plot.set_xlabel(\"Year\")\n",
    "plot.set_ylabel(\"Number of deadly colissions\")"
   ]
  },
  {
   "cell_type": "code",
   "execution_count": null,
   "metadata": {},
   "outputs": [],
   "source": [
    "time_collision_nonfatal = df_reduced.groupby('date')[\"non_fatal\"].sum()\n",
    "\n",
    "plot = time_collision_nonfatal.plot(figsize = (15,5), title = \"Deadly colissions over time\", color=\"orange\")\n",
    "plot.set_xlabel(\"Year\")\n",
    "plot.set_ylabel(\"Number of deadly colissions\")"
   ]
  },
  {
   "cell_type": "markdown",
   "metadata": {},
   "source": [
    "Confirmamos la estacionalidad para ambas series, pudiendo observar visualmente que los primeros meses del año tienen una tendencia negativa, mientras que la segunda mitad del año tiene una tendencia positiva y posterior estancamiento."
   ]
  },
  {
   "cell_type": "markdown",
   "metadata": {},
   "source": [
    "### 1.3 Correlación entre los valores de la variable objetivo"
   ]
  },
  {
   "cell_type": "code",
   "execution_count": null,
   "metadata": {},
   "outputs": [],
   "source": [
    "plt.figure(figsize=(15,5))\n",
    "for c in time_collision_both.columns:\n",
    "    autocorrelation_plot(time_collision_both[c][-60:],label=c);"
   ]
  },
  {
   "cell_type": "markdown",
   "metadata": {},
   "source": [
    "La variable objetivo se comporta en gran medida de manera paralela para los dos valores que toma ($fatal$ y $non fatal$)"
   ]
  },
  {
   "cell_type": "code",
   "execution_count": null,
   "metadata": {},
   "outputs": [],
   "source": [
    "plt.figure(figsize=(15,5))\n",
    "sns.regplot('fatal', 'non_fatal', data=time_collision_both);"
   ]
  },
  {
   "cell_type": "markdown",
   "metadata": {},
   "source": [
    "La distribución de la variable objetivo entre sus valores 1 y 0 sigue una regresión lineal simple."
   ]
  },
  {
   "cell_type": "code",
   "execution_count": null,
   "metadata": {},
   "outputs": [],
   "source": [
    "corr = time_collision_both.corr()\n",
    "print(\"La correlación entre los accidentes fatales y no fatales es de\", str(round(corr[\"fatal\"][\"non_fatal\"], 3)))\n",
    "corr"
   ]
  },
  {
   "cell_type": "markdown",
   "metadata": {},
   "source": [
    "## 2. Análisis temporal"
   ]
  },
  {
   "cell_type": "markdown",
   "metadata": {},
   "source": [
    "Además de realizar un análisis de la variable tiempo en su conjunto como hemos hecho previamente en este documento para obtener una noción general de cómo afecta este a la variable objetivo, vamos a analizar las variables temporales $month, weekday$ y $hour$ de manera individual "
   ]
  },
  {
   "cell_type": "markdown",
   "metadata": {},
   "source": [
    "### 2.1. Meses del año"
   ]
  },
  {
   "cell_type": "code",
   "execution_count": null,
   "metadata": {},
   "outputs": [],
   "source": [
    "tipos = [\"Jan\", \"Feb\", \"Mar\", \"Apr\", \"May\", \"Jun\", \"Jul\", \"Aug\", \"Sep\", \"Oct\", \"Nov\", \"Dec\"]\n",
    "frecuencia(\"month\", tipos, \"Collisions by month\")\n",
    "mortalidadtotal(\"month\", tipos, \"Percentage of deadly collisions by month\")\n",
    "mortalidad(\"month\", tipos, \"Mortality rate on accidents by month\")"
   ]
  },
  {
   "cell_type": "markdown",
   "metadata": {},
   "source": [
    "### Conclusión:\n",
    "Observamos cómo un mayor porcentaje de los accidentes ocurre en los meses correspondientes al tercer trimestre del año, y existe un componente cíclico en la mortalidad de los accidentes.\n",
    "\n",
    "En consecuencia, la medida que tomaremos será hacer que la variable o columna $month$ tome un valor entre 1 y 4 en función del trimestre del año al que pertenezca (Q1, Q2...)"
   ]
  },
  {
   "cell_type": "markdown",
   "metadata": {},
   "source": [
    "### 2.2. Días de la semana"
   ]
  },
  {
   "cell_type": "code",
   "execution_count": null,
   "metadata": {},
   "outputs": [],
   "source": [
    "df[\"weekday\"] = np.int8(df[\"weekday\"].replace({\"7\": 7, \"1\": 1, \"2\": 2, \"3\" : 3, \"4\":4, \"5\":5, \"6\":6}))\n",
    "df = df[df[\"weekday\"] != 0]\n",
    "\n",
    "tipos = [\"Monday\", \"Tuesday\", \"Wednesday\", \"Thursday\", \"Friday\", \"Saturday\", \"Sunday\"]\n",
    "frecuencia(\"weekday\", tipos, \"Collisions by week day\")\n",
    "mortalidadtotal(\"weekday\", tipos, \"Percentage of deadly collisions by week day\")\n",
    "mortalidad(\"weekday\", tipos, \"Mortality rate on accidents by week day\")"
   ]
  },
  {
   "cell_type": "markdown",
   "metadata": {},
   "source": [
    "### Conclusión:\n",
    "\n",
    "De manera similar a lo que observamos en la variable month, existe una clara relación entre la variable $weekday$ y la variable objetivo. En este caso, podemos observar como la mortalidad por accidente aumenta según se acerca el fin de semana y decrece una vez pasado este.\n",
    "\n",
    "La medida que tomaremos para tener en cuenta correctamente la variable month a la hora de modelizar será dividirla en tres valores:\n",
    "\n",
    "- Si nos encontramos en Sábado o Domingo, la variable tomará un valor.\n",
    "\n",
    "- Si nos encontramos en Lunes, Jueves o Viernes, la variable tomará otro valor.\n",
    "\n",
    "- Por último, la variable tomará otro valor si estamos hablando de un Martes o Miércoles."
   ]
  },
  {
   "cell_type": "markdown",
   "metadata": {},
   "source": [
    "### 2.3. Horas del día"
   ]
  },
  {
   "cell_type": "code",
   "execution_count": null,
   "metadata": {},
   "outputs": [],
   "source": [
    "df = df[df[\"hour\"].notnull()]\n",
    "df[\"hour\"] = df[\"hour\"].astype(\"int8\")\n",
    "\n",
    "tipos = list(range(0, 24))\n",
    "frecuencia(\"hour\", tipos, \"Collisions by hour of the day\")\n",
    "mortalidadtotal(\"hour\", tipos, \"Percentage of deadly collisions by hour of the day\")\n",
    "mortalidad(\"hour\", tipos, \"Mortality rate on accidents by hour of the day\")"
   ]
  },
  {
   "cell_type": "markdown",
   "metadata": {},
   "source": [
    "### Conclusión:\n",
    "\n",
    "Observamos como la mayoría de accidentes se agrupan en el intervalo horario comprendido entre las 13 y las 19h. Podemos asumir, a grandes rasgos, que se debe a los horarios de salida del trabajo.\n",
    "\n",
    "Sin embargo, y a pesar de esto, la probabilidad de que se de mortalidad en un accidente es relativamente baja y estable en el caso de las horas con luz. La mayor mortalidad se encuentra condensada en la madrugada. Podemos asumir que se debe a un mayor grado de conducción bajo los efectos de las drogas y/o el alcohol, así como una menor visibilidad y mayor cansancio.\n",
    "\n",
    "Para conseguir que nuestros modelos sepan reflejar correctamente la importancia de la hora en la que ocurre el accidente, dividiremos esta variable en distintos valores:\n",
    "\n",
    "- 0 a 5\n",
    "- 6 a 8\n",
    "- 9 a 18\n",
    "- 19 a 21\n",
    "- 22 a 23"
   ]
  },
  {
   "cell_type": "markdown",
   "metadata": {},
   "source": [
    "## 3. Colisiones y Carretera"
   ]
  },
  {
   "cell_type": "markdown",
   "metadata": {},
   "source": [
    "### 3.1. Road Configuration"
   ]
  },
  {
   "cell_type": "code",
   "execution_count": null,
   "metadata": {},
   "outputs": [],
   "source": [
    "tipos = ['Mid-block','At an intersection','Intersection with parking lot entrance/exit',\n",
    "            'Railroad crossing','Bridge','Tunnel','Passing or climbing lane',\n",
    "             'Ramp','Traffic circle','Highway express lane', 'Other']\n",
    "\n",
    "frecuencia(\"crash_place\", tipos, \"Collisions by road configuration\")\n",
    "mortalidadtotal(\"crash_place\", tipos, \"Percentage of deadly collisions by road configuration\")\n",
    "mortalidad(\"crash_place\", tipos, \"Mortality rate on accidents by road configuration\")"
   ]
  },
  {
   "cell_type": "markdown",
   "metadata": {},
   "source": [
    "### Conclusión:\n",
    "\n",
    "Observamos que a pesar de que la mayoría de los accidentes ocurren en el sentido de la marcha ($mid-block$) y en intersecciones, tienen una mortalidad relativamente baja.\n",
    "\n",
    "Cabe destacar la alta mortalidad de los accidentes en los carriles de adelantamiento y carriles VAO ($highway express lane$), que probablemente estén causados por una muestra reducida pero que aún así hemos de tener muy en cuenta.\n",
    "\n",
    "Las medidas a la hora de modificar la variable que tomaremos dividirán la variable de la siguiente manera:\n",
    "\n",
    "- Passing or climbing lane tomará un valor.\n",
    "\n",
    "- Mid-block, Railroad crossing, Highway express lane, Bridge, Tunnel y Other tomarán otro valor.\n",
    "\n",
    "- El resto de valores tomarán un valor genérico."
   ]
  },
  {
   "cell_type": "markdown",
   "metadata": {},
   "source": [
    "### 3.2. Condiciones Climáticas"
   ]
  },
  {
   "cell_type": "code",
   "execution_count": null,
   "metadata": {},
   "outputs": [],
   "source": [
    "tipos = ['Clear','Cloudy','Rain','Snow','Freezing Rain,Hail',\n",
    "                'Low Visibility','Strong Wind','Other']\n",
    "frecuencia(\"crash_weather\", tipos, \"Collisions by weather\")\n",
    "mortalidadtotal(\"crash_weather\", tipos, \"Percentage of deadly collisions by weather\")\n",
    "mortalidad(\"crash_weather\", tipos, \"Mortality rate on accidents by weather\")"
   ]
  },
  {
   "cell_type": "markdown",
   "metadata": {},
   "source": [
    "### Conclusión:\n",
    "\n",
    "La mayoría de los accidentes ocurren con situaciones meteorológicas casi idóneas ($clear$).\n",
    "\n",
    "Por otro lado, la mortalidad de los accidentes es muy acentuada en aquellas situaciones de complicado manejo como las de baja visibilidad ($low visibility$) o adversas ($strong wind$ o $freezing rain, hail$)\n",
    "\n",
    "Dividiremos la variable en los siguientes valores:\n",
    "\n",
    "- Low Visibility y Strong Wind\n",
    "\n",
    "- Clear, Rain y Other\n",
    "\n",
    "- Cloudy y Snow\n",
    "\n",
    "- Freezing Rain, Hail"
   ]
  },
  {
   "cell_type": "markdown",
   "metadata": {},
   "source": [
    "### 3.3. Road surface"
   ]
  },
  {
   "cell_type": "code",
   "execution_count": null,
   "metadata": {},
   "outputs": [],
   "source": [
    "tipos = ['Dry, normal','Wet','Snow','Slush ,wet snow','Icy','Sand/gravel/dirt','Muddy','Oil','Flooded', 'Other']\n",
    "frecuencia(\"surface_state\", tipos, \"Collisions by surface\")\n",
    "mortalidadtotal(\"surface_state\", tipos, \"Percentage of deadly collisions by surface\")\n",
    "mortalidad(\"surface_state\", tipos, \"Mortality rate on accidents by surface\")"
   ]
  },
  {
   "cell_type": "markdown",
   "metadata": {},
   "source": [
    "### Conclusión:\n",
    "\n",
    "La mayoría de las observaciones se encuentra acumulada en el valor $Dry, normal$ (carretera seca y en un estado normal)\n",
    "\n",
    "La mortalidad es mayor en aquellos casos en los que la superficie no se encontraba en un estado óptimo, o se encontraba en un estado que podemos considerar inesperado teniendo en cuenta que estamos hablando de Canadá (la nieve no lo es, aparentemente)\n",
    "\n",
    "La variable será estructurada de la siguiente manera:\n",
    "\n",
    "- Dry, Wet, Snow, Slush, Icy, Other\n",
    "\n",
    "- Sand/gravel, Muddy, Flooded\n",
    "\n",
    "- Oil"
   ]
  },
  {
   "cell_type": "markdown",
   "metadata": {},
   "source": [
    "### 3.4. Traffic State"
   ]
  },
  {
   "cell_type": "code",
   "execution_count": null,
   "metadata": {},
   "outputs": [],
   "source": [
    "tipos = ['Traffic signals fully operational','Traffic signals in flashing mode',\n",
    "             'Stop sign','Yield sign','Warning sign','Pedestrian crosswalk',\n",
    "             'Police officer','School guard','School crossing','Reduced speed zone',\n",
    "             'No passing zone sign','Markings on the road',\n",
    "             'School bus stopped,signal lights flashing','Railway crossing with signals and gates',\n",
    "             'Railway crossing with signs only','Control device not specified','No control present', 'Other']\n",
    "             \n",
    "frecuencia(\"traffic_state\", tipos, \"Collisions by traffuc type\")\n",
    "mortalidadtotal(\"traffic_state\", tipos, \"Percentage of deadly collisions by traffic type\")\n",
    "mortalidad(\"traffic_state\", tipos, \"Mortality rate on accidents by traffic type\")"
   ]
  },
  {
   "cell_type": "markdown",
   "metadata": {},
   "source": [
    "### Conclusión:\n",
    "\n",
    "En la mayoría de los accidentes, no existe una restricción sobre la circulación.\n",
    "\n",
    "En cuanto a la mortalidad, existe una gran variabilidad en cuanto a los distintos valores de la variable $traffic-state$. Acorde con esto, estructuraremos la variable como una variable categórica a la hora de llevarla a los modelos."
   ]
  },
  {
   "cell_type": "markdown",
   "metadata": {},
   "source": [
    "### 3.5. Road alignment (slope)"
   ]
  },
  {
   "cell_type": "code",
   "execution_count": null,
   "metadata": {},
   "outputs": [],
   "source": [
    "tipos = ['Level straight','Gradient straight',\n",
    "        'Level curved','Gradient curved',\n",
    "        'Top hill','Bottom hill',\n",
    "        'Other']\n",
    "             \n",
    "frecuencia(\"road_slope\", tipos, \"Collisions by traffuc type\")\n",
    "mortalidadtotal(\"road_slope\", tipos, \"Percentage of deadly collisions by traffic type\")\n",
    "mortalidad(\"road_slope\", tipos, \"Mortality rate on accidents by traffic type\")"
   ]
  },
  {
   "cell_type": "markdown",
   "metadata": {},
   "source": [
    "### Conclusión:\n",
    "\n",
    "La mayoría de los accidentes ocurren en rectas sin inclinación.\n",
    "\n",
    "En este caso, no trataremos la variable por no ser capaces realmente de establecer diferencias notables entre sus valores."
   ]
  },
  {
   "cell_type": "markdown",
   "metadata": {},
   "source": [
    " ### 3.6. Vehicles Involved"
   ]
  },
  {
   "cell_type": "code",
   "execution_count": null,
   "metadata": {},
   "outputs": [],
   "source": [
    "tipos = sorted(np.int16(df['vehicles_involved'].dropna().unique()))\n",
    "boxplot_fatality(\"vehicles_involved\")\n",
    "frecuencia(\"vehicles_involved\", tipos, \"Number of vehicles involved in collision\")\n",
    "mortalidadtotal(\"vehicles_involved\", tipos, \"Percentage of the number of vehicles involved in deadly collision\")\n",
    "\n",
    "analysis = df.loc[(df['vehicles_involved'] < 17)].groupby(['vehicles_involved', \"fatality\"]).size()\n",
    "serie = list()\n",
    "for i in range(0, np.int8(len(analysis)/2)):\n",
    "    serie.append(analysis[:,1].iloc[[i]].item() / (analysis[:,1].iloc[[i]].item() + (analysis[:,0].iloc[[i]].item())) * 100)  \n",
    "plt.figure(figsize=(15,5))\n",
    "pd.Series(serie).plot(kind=\"bar\").set_xticklabels(list(range(1,16)))\n",
    "plt.title(\"Mortality rate by vehicles involved in collision\")"
   ]
  },
  {
   "cell_type": "markdown",
   "metadata": {},
   "source": [
    "## 4. Vehicles"
   ]
  },
  {
   "cell_type": "markdown",
   "metadata": {},
   "source": [
    "### 4.1. Vehicle type"
   ]
  },
  {
   "cell_type": "code",
   "execution_count": null,
   "metadata": {},
   "outputs": [],
   "source": [
    "tipos = v_type = ['Light Duty', 'Cargo <4.5t', 'Truck <4.5t',\n",
    "          'Truck >4.5t', 'Road tractor', 'School bus',\n",
    "          'Small school bus', 'Urban bus', 'Motorcycle',\n",
    "          'Off-road', 'Bicycle', 'Motorhome', 'Farm equip.',\n",
    "          'Constru. equip.', 'Fire engine', 'Snowmobile',\n",
    "          'Street car', 'Not vehicle', 'Others']\n",
    "             \n",
    "frecuencia(\"vehicle_type\", tipos, \"Collisions by traffuc type\")\n",
    "mortalidadtotal(\"vehicle_type\", tipos, \"Percentage of deadly collisions by traffic type\")\n",
    "mortalidad(\"vehicle_type\", tipos, \"Mortality rate on accidents by traffic type\")"
   ]
  },
  {
   "cell_type": "markdown",
   "metadata": {},
   "source": [
    "### Conclusión:\n",
    "\n",
    "La mayoría de los accidentes se han dado con conductores de coches light-weight (o turismos), lo cual era de esperar teniendo en cuenta que componen la inmensa mayoría de los vehículos que circulan por la carretera\n",
    "Debido a baja diferenciación entre las categorías de la variable, no modificaremos esta variable tramificándola como sí hemos hecho con otras variables previamente."
   ]
  },
  {
   "cell_type": "markdown",
   "metadata": {},
   "source": [
    "### 4.2. Vehicle Age"
   ]
  },
  {
   "cell_type": "markdown",
   "metadata": {},
   "source": [
    "Con la creación de la variable $vehicle-age$ hemos sustituido la variable $vehicle-year$, ya que consideramos que la antigüedad del vehículo resulta determinante a la hora de estimar el riesgo mortal en un accidente.\n",
    "\n",
    "Hemos hecho esto por que la variable $vehicle-year$ y su consecuente tendencia a reducir el riesgo mortal cuanto más moderno es el vehículo ya será reflejada en nuestro modelo mediante la variable year, como pudimos observar en el análisis inicial de la variable objetivo."
   ]
  },
  {
   "cell_type": "code",
   "execution_count": null,
   "metadata": {},
   "outputs": [],
   "source": [
    "tipos = ()\n",
    "boxplot_fatality('vehicle_age')\n",
    "frecuencia(\"vehicle_age\", tipos, \"Collisions by traffuc type\")\n",
    "mortalidadtotal(\"vehicle_age\", tipos, \"Percentage of deadly collisions by traffic type\")\n",
    "\n",
    "\n",
    "analysis = df.loc[(df['vehicle_age'] < 40) & (df['vehicle_age'] >= 0)].groupby(['vehicle_age', \"fatality\"]).size()\n",
    "serie = list()\n",
    "for i in range(0, np.int8(len(analysis)/2)):\n",
    "    serie.append(analysis[:,1].iloc[[i]].item() / (analysis[:,1].iloc[[i]].item() + (analysis[:,0].iloc[[i]].item())) * 100)  \n",
    "plt.figure(figsize=(15,5))\n",
    "pd.Series(serie).plot(kind=\"bar\")\n",
    "plt.title(\"Mortality rate by vehicle age\")"
   ]
  },
  {
   "cell_type": "markdown",
   "metadata": {},
   "source": [
    "### Conclusión:\n",
    "\n",
    "Podemos observar cómo la mortalidad por accidente se acentúa según aumenta la antigüedad del vehículo, como era de esperar."
   ]
  },
  {
   "cell_type": "markdown",
   "metadata": {},
   "source": [
    "## Driver type"
   ]
  },
  {
   "cell_type": "markdown",
   "metadata": {},
   "source": [
    "### 5.1. Driver Sex"
   ]
  },
  {
   "cell_type": "markdown",
   "metadata": {},
   "source": [
    "Realizamos cierto tratamiento de los datos para la variable sexo que posteriormente será útil."
   ]
  },
  {
   "cell_type": "code",
   "execution_count": null,
   "metadata": {},
   "outputs": [],
   "source": [
    "# Replace M/F to 1/0\n",
    "df.passenger_sex.replace({\"M\":1, \"F\":0}, inplace=True)\n",
    "\n",
    "# Remove NA values (15k rows, 0.3% of total sample)\n",
    "df.passenger_sex.replace('[^0-9]+',np.nan,regex=True,inplace=True)\n",
    "df.passenger_sex.dropna(inplace=True)\n"
   ]
  },
  {
   "cell_type": "code",
   "execution_count": null,
   "metadata": {},
   "outputs": [],
   "source": [
    "tipos = [\"Female\", \"Male\"]\n",
    "frecuencia(\"passenger_sex\", tipos, \"Collisions by traffuc type\")\n",
    "mortalidadtotal(\"passenger_sex\", tipos, \"Percentage of deadly collisions by traffic type\")\n",
    "mortalidad(\"passenger_sex\", tipos, \"Mortality rate on accidents by traffic type\")"
   ]
  },
  {
   "cell_type": "markdown",
   "metadata": {},
   "source": [
    "### Conclusión:\n",
    "\n",
    "Los hombres sufren de una mayor mortalidad en los accidentes así como una mayor cantidad de accidentes en total."
   ]
  },
  {
   "cell_type": "markdown",
   "metadata": {},
   "source": [
    "### 5.2. Driver Age"
   ]
  },
  {
   "cell_type": "code",
   "execution_count": null,
   "metadata": {},
   "outputs": [],
   "source": [
    "tipos = sorted(np.int8(df['passenger_age'].dropna().unique()))\n",
    "boxplot_fatality(\"passenger_age\")\n",
    "frecuencia(\"passenger_age\", tipos, \"Collisions by traffuc type\")\n",
    "mortalidadtotal(\"passenger_age\", tipos, \"Percentage of deadly collisions by traffic type\")\n",
    "mortalidad(\"passenger_age\", tipos, \"Mortality rate on accidents by traffic type\")"
   ]
  },
  {
   "cell_type": "markdown",
   "metadata": {},
   "source": [
    "### 5.3. Driver safety"
   ]
  },
  {
   "cell_type": "code",
   "execution_count": null,
   "metadata": {},
   "outputs": [],
   "source": [
    "df = df.loc[df['passenger_safety'] != \"11\"]"
   ]
  },
  {
   "cell_type": "code",
   "execution_count": null,
   "metadata": {},
   "outputs": [],
   "source": [
    "tipos = ['No safety device used','Safety device used','Helmet',\n",
    "          'Reflective clothing',\n",
    "          'Other safety device','No safety device equipped', 'Unknown', 'Unknown']\n",
    "\n",
    "\n",
    "frecuencia(\"passenger_safety\", tipos, \"Collisions by traffuc type\")\n",
    "mortalidadtotal(\"passenger_safety\", tipos, \"Percentage of deadly collisions by traffic type\")\n",
    "mortalidad(\"passenger_safety\", tipos, \"Mortality rate on accidents by traffic type\")"
   ]
  },
  {
   "cell_type": "markdown",
   "metadata": {},
   "source": [
    "### Conclusión:\n",
    "\n",
    "El uso de dispositivos de seguridad como puede ser el cinturón de seguridad en el caso de los coches o el casco en el caso de las motocicletas resulta determinante para reducir la mortalidad en caso de accidente.\n",
    "Cabe mencionar la alta mortalidad de los usuarios que utilizan casco, posiblemente causada por el alto riesgo que supone estar involucrado en un accidente con una moto.\n",
    "\n",
    "Dividiremos la variable en las siguientes franjas:\n",
    "\n",
    "- No safety device used\n",
    "\n",
    "- Helmet, Other safety device, no safety device equipped, Unknown (2)\n",
    "\n",
    "- Safety device used, Reflective clothing, Unknown (1)"
   ]
  },
  {
   "cell_type": "markdown",
   "metadata": {},
   "source": [
    "### 5.4. Road User Type"
   ]
  },
  {
   "cell_type": "code",
   "execution_count": null,
   "metadata": {},
   "outputs": [],
   "source": [
    "tipos = [\"Motor Vehicle Driver\", \"Motor Vehicle Passenger\", \"Pedestrian\", \"Bicyclist\", \"Motorcyclist\"]\n",
    "frecuencia(\"passenger_type\", tipos, \"Collisions by traffuc type\")\n",
    "mortalidadtotal(\"passenger_type\", tipos, \"Percentage of deadly collisions by traffic type\")\n",
    "mortalidad(\"passenger_type\", tipos, \"Mortality rate on accidents by traffic type\")"
   ]
  },
  {
   "cell_type": "markdown",
   "metadata": {},
   "source": [
    "# Relación entre variables: V de Cramer y Correlación"
   ]
  },
  {
   "cell_type": "code",
   "execution_count": null,
   "metadata": {},
   "outputs": [],
   "source": [
    "def cramers_corrected_stat(x,y):\n",
    "\n",
    "    \"\"\" calculate Cramers V statistic for categorial-categorial association.\n",
    "        uses correction from Bergsma and Wicher, \n",
    "        Journal of the Korean Statistical Society 42 (2013): 323-328\n",
    "    \"\"\"\n",
    "    result=-1\n",
    "    if len(x.value_counts())==1 :\n",
    "        print(\"First variable is constant\")\n",
    "    elif len(y.value_counts())==1:\n",
    "        print(\"Second variable is constant\")\n",
    "    else:   \n",
    "        conf_matrix=pd.crosstab(x, y)\n",
    "\n",
    "        if conf_matrix.shape[0]==2:\n",
    "            correct=False\n",
    "        else:\n",
    "            correct=True\n",
    "\n",
    "        chi2 = ss.chi2_contingency(conf_matrix, correction=correct)[0]\n",
    "\n",
    "        n = sum(conf_matrix.sum())\n",
    "        phi2 = chi2/n\n",
    "        r,k = conf_matrix.shape\n",
    "        phi2corr = max(0, phi2 - ((k-1)*(r-1))/(n-1))    \n",
    "        rcorr = r - ((r-1)**2)/(n-1)\n",
    "        kcorr = k - ((k-1)**2)/(n-1)\n",
    "        result=np.sqrt(phi2corr / min( (kcorr-1), (rcorr-1)))\n",
    "    return round(result,6)"
   ]
  },
  {
   "cell_type": "code",
   "execution_count": null,
   "metadata": {},
   "outputs": [],
   "source": [
    "#Añado fatality a la lista de categoricas para ver como se relacionan con la V de Cramer\n",
    "if 'fatality' not in categoricas_pre: \n",
    "    categoricas_pre.append('fatality')"
   ]
  },
  {
   "cell_type": "code",
   "execution_count": null,
   "metadata": {},
   "outputs": [],
   "source": [
    "# SLOW!!! + 5mins\n",
    "# Matriz con valores de la V de Cramer\n",
    "rows= []\n",
    "for var1 in categoricas_pre:\n",
    "  col = []\n",
    "  for var2 in categoricas_pre :\n",
    "\n",
    "    cramers =cramers_corrected_stat(df[var1], df[var2]) # Test V de Cramer\n",
    "    col.append(round(cramers,2)) \n",
    "  rows.append(col)\n",
    "  \n",
    "cramers_results = np.array(rows)\n",
    "cramer_matrix = pd.DataFrame(cramers_results, columns = categoricas_pre, index = categoricas_pre)\n",
    "cramer_matrix\n"
   ]
  },
  {
   "cell_type": "code",
   "execution_count": null,
   "metadata": {},
   "outputs": [],
   "source": [
    "# Heatmap v de cramer entre variables\n",
    "plt.figure(figsize=(15,12))\n",
    "with sns.axes_style(\"white\"):\n",
    "  ax = sns.heatmap(cramer_matrix,vmin=0., vmax=1, square=True, cmap=\"YlGnBu\")\n",
    "plt.show()"
   ]
  },
  {
   "cell_type": "code",
   "execution_count": null,
   "metadata": {},
   "outputs": [],
   "source": [
    "sns.heatmap(df[numericas_pre].corr())"
   ]
  },
  {
   "cell_type": "code",
   "execution_count": null,
   "metadata": {},
   "outputs": [],
   "source": [
    "#TODO: Save dataframe for next step.\n",
    "#TODO: Variable sintetica nº of passengers? "
   ]
  },
  {
   "cell_type": "code",
   "execution_count": null,
   "metadata": {},
   "outputs": [],
   "source": [
    "unique_cols = [col for col in df.columns if 'passenger' not in col]\n",
    "unique_cols\n"
   ]
  },
  {
   "cell_type": "code",
   "execution_count": null,
   "metadata": {},
   "outputs": [],
   "source": [
    "# size = Nº of people involved per accident, includes dummy for parked cars and pedestrians\n",
    "# TODO: Remove parked cars & (maybe) pedestrians (NNs in the data)\n",
    "df_two = df.groupby(df[df.columns & unique_cols].columns.tolist(),as_index=False).size()"
   ]
  },
  {
   "cell_type": "code",
   "execution_count": null,
   "metadata": {},
   "outputs": [],
   "source": [
    "### Función mortalidad (% / 100 Accidentes)\n",
    "\n",
    "def mortalidad(columna, tipos, titulo):\n",
    "    analysis = df_two.groupby([columna, \"fatality\"]).size()\n",
    "    serie = list()\n",
    "    for i in range(0, np.int8(len(analysis)/2)):\n",
    "        serie.append(analysis[:,1].iloc[[i]].item() / (analysis[:,1].iloc[[i]].item() + (analysis[:,0].iloc[[i]].item())) * 100)\n",
    "    analysis = pd.Series(serie, index = range(0, np.int8(len(analysis)/2)))\n",
    "    plt.figure(figsize=(15,5))\n",
    "    plot = analysis.plot(kind=\"bar\", title = titulo, color= \"#3A5683\")\n",
    "    plot.set_xticklabels(tipos, rotation = 45)\n",
    "    \n",
    "\n",
    "### Función frecuencia absoluta\n",
    "\n",
    "def frecuencia(columna, tipos, titulo):\n",
    "    analysis = df_two.groupby(columna)[\"fatality\"].count()\n",
    "    plt.figure(figsize=(15,5))\n",
    "    plot = analysis.plot(kind=\"bar\", title=titulo, color = \"#639A88\")\n",
    "    plot.set_xticklabels(tipos, rotation = 45)\n",
    "    \n",
    "    \n",
    "### Función mortalidad total\n",
    "\n",
    "def mortalidadtotal(columna, tipos, titulo):\n",
    "    analysis = df_two.groupby(columna)[\"fatality\"].sum() / df_two[\"fatality\"].sum() * 100\n",
    "    plt.figure(figsize=(15,5))\n",
    "    plot = analysis.plot(kind=\"bar\", title=titulo, color = \"#76B041\")\n",
    "    plot.set_xticklabels(tipos, rotation = 45)\n",
    "    \n",
    "    \n",
    "### Función Boxplot \n",
    "\n",
    "def boxplot_fatality(var): \n",
    "    f, ax = plt.subplots(figsize=(14, 6))\n",
    "    sns.boxplot(x=var, y='fatality' ,data=df_two, orient='h')\n"
   ]
  },
  {
   "cell_type": "code",
   "execution_count": 132,
   "metadata": {},
   "outputs": [
    {
     "data": {
      "image/png": "[encoded data removed]",
      "text/plain": [
       "<Figure size 1008x432 with 1 Axes>"
      ]
     },
     "metadata": {
      "needs_background": "light"
     },
     "output_type": "display_data"
    },
    {
     "data": {
      "image/png": "[encoded data removed]",
      "text/plain": [
       "<Figure size 1080x360 with 1 Axes>"
      ]
     },
     "metadata": {
      "needs_background": "light"
     },
     "output_type": "display_data"
    },
    {
     "data": {
      "image/png": "[encoded data removed]",
      "text/plain": [
       "<Figure size 1080x360 with 1 Axes>"
      ]
     },
     "metadata": {
      "needs_background": "light"
     },
     "output_type": "display_data"
    },
    {
     "data": {
      "image/png": "[encoded data removed]",
      "text/plain": [
       "<Figure size 1080x360 with 1 Axes>"
      ]
     },
     "metadata": {
      "needs_background": "light"
     },
     "output_type": "display_data"
    }
   ],
   "source": [
    "tipos = sorted(np.int8(df_two['size'].dropna().unique()))\n",
    "boxplot_fatality(\"size\")\n",
    "frecuencia(\"size\", tipos, \"Collisions by traffuc type\")\n",
    "mortalidadtotal(\"size\", tipos, \"Percentage of deadly collisions by traffic type\")\n",
    "\n",
    "analysis = df_two.loc[(df_two['size'] < 11) & (df_two['size'] >= 0)].groupby(['size', \"fatality\"]).size()\n",
    "serie = list()\n",
    "for i in range(0, np.int8(len(analysis)/2)):\n",
    "    serie.append(analysis[:,1].iloc[[i]].item() / (analysis[:,1].iloc[[i]].item() + (analysis[:,0].iloc[[i]].item())) * 100)\n",
    "analysis = pd.Series(serie, index = range(0, np.int8(len(analysis)/2)))\n",
    "plt.figure(figsize=(15,5))\n",
    "plot = analysis.plot(kind=\"bar\", title = \"titulo\", color= \"#3A5683\")"
   ]
  },
  {
   "cell_type": "markdown",
   "metadata": {},
   "source": [
    "# Outliers"
   ]
  },
  {
   "cell_type": "code",
   "execution_count": null,
   "metadata": {},
   "outputs": [],
   "source": [
    "# Remove rows with an outlier vehicle_age\n",
    "df = df.loc[df['vehicle_age'] < 30]\n",
    "\n",
    "# Removes rows with outlier vehicles_involved\n",
    "df = df.loc[df['vehicles_involved'] < 6]"
   ]
  }
 ],
 "metadata": {
  "interpreter": {
   "hash": "75234cef4d4b5401408a5d3b72f4265569f6601e8da7c73f173a51e561ebd976"
  },
  "kernelspec": {
   "display_name": "Python 3.8.12 64-bit ('core_models': conda)",
   "language": "python",
   "name": "python3"
  },
  "language_info": {
   "codemirror_mode": {
    "name": "ipython",
    "version": 3
   },
   "file_extension": ".py",
   "mimetype": "text/x-python",
   "name": "python",
   "nbconvert_exporter": "python",
   "pygments_lexer": "ipython3",
   "version": "3.8.12"
  },
  "orig_nbformat": 4
 },
 "nbformat": 4,
 "nbformat_minor": 2
}
