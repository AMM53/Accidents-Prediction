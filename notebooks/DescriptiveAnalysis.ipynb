{
 "cells": [
  {
   "cell_type": "markdown",
   "metadata": {},
   "source": [
    "# Definición del problema a resolver\n",
    "• ¿Cuál es el problema?\n",
    "- ¿Qué tipos de vehículos (modelos, antigüedad, etc.) y conductores son más propensos a tener accidentes (acción correctiva en prima)?\n",
    "\n",
    "- ¿Qué tipos de vehículos (modelos, antigüedad, etc.) y conductores son menos propensos a tener accidentes (descuento en prima)?\n",
    "\n",
    "- ¿Qué es lo que más contribuye a que existan fallecimientos en un accidente?\n",
    "\n",
    "- Dado un accidente, ¿se puede generar un modelo que prediga si habrá fallecimientos o no? ¿Si se va a necesitar tratamiento médico o no? Las aseguradoras tienen que inmovilizar capital para pagar estas casuísticas. \n",
    "\n",
    "• Acción que buscamos hacer para solucionar el problema\n",
    "\n",
    "• ¿Cuáles son las variables disponibles?\n",
    "\n",
    "• ¿En qué momento se va a implantar el modelo? ¿Qué variables hay disponibles en\n",
    "el momento de llamada al modelo?\n",
    "\n",
    "• ¿Cómo se va a validar el modelo?\n"
   ]
  },
  {
   "cell_type": "markdown",
   "metadata": {},
   "source": [
    "Aquí hay que redactar una introducción explicando el caso y toda la parafernalia..."
   ]
  },
  {
   "cell_type": "markdown",
   "metadata": {},
   "source": [
    "# Exploración general / inicial\n",
    "• Dimensiones de la tabla y variables\n",
    "\n",
    "• Analizar si las variables estarán disponibles en el momento de la llamada al modelo\n",
    "(sino se estaría introduciendo información a futuro en el modelo)\n",
    "\n",
    "• Exploración de la variable objetivo\n",
    "\n",
    "• Rápido análisis de valores nulos\n",
    "\n",
    "• Se explora el número de variables numéricas y categóricas y se decide qué proceso\n",
    "realizar para tratarlas\n",
    "\n",
    "• Transformaciones iniciales de algunas variables: formato de fechas, eliminar\n",
    "espacios de una variable string, etc\n",
    "\n",
    "• Analizar la variable objetivo: aislándola de las demás variables (quizás, a pesar de\n",
    "no tener en cuenta las variables tenemos que sacar un 80% de accuracy."
   ]
  },
  {
   "cell_type": "code",
   "execution_count": null,
   "metadata": {},
   "outputs": [],
   "source": [
    "#Librerías\n",
    "import pandas as pd\n",
    "import numpy as np\n",
    "import math\n",
    "import matplotlib.pyplot as plt\n",
    "from pandas.plotting import autocorrelation_plot\n",
    "import seaborn as sns\n",
    "import plotly.express as px\n",
    "import scipy.stats as ss"
   ]
  },
  {
   "cell_type": "code",
   "execution_count": null,
   "metadata": {},
   "outputs": [],
   "source": [
    "#Importamos los datos\n",
    "df = pd.read_csv(\"../data/NCDB_1999_to_2014.csv\")"
   ]
  },
  {
   "cell_type": "code",
   "execution_count": null,
   "metadata": {},
   "outputs": [],
   "source": [
    "print(\"El dataset está compuesto por\", len(df.index), \"filas y\", len(df.columns), \"columnas\")\n",
    "df.head(5)"
   ]
  },
  {
   "cell_type": "code",
   "execution_count": null,
   "metadata": {},
   "outputs": [],
   "source": [
    "# Cambio de nombre de las variables\n",
    "new_names = [\"year\", \"month\", \"weekday\", \"hour\", \"fatality\", \"vehicles_involved\", \"crash_type\", \"crash_place\", \"crash_weather\",\n",
    "\"surface_state\", \"road_slope\", \"traffic_state\", \"vehicle_id\", \"vehicle_type\", \"vehicle_year\", \"passenger_id\", \"passenger_sex\",\n",
    "\"passenger_age\", \"passenger_role\", \"passenger_fatality\", \"passenger_safety\", \"passenger_type\"]\n",
    "\n",
    "print(len(new_names) == len(df.columns))\n",
    "\n",
    "df.columns = new_names"
   ]
  },
  {
   "cell_type": "code",
   "execution_count": null,
   "metadata": {},
   "outputs": [],
   "source": [
    "# Comprobamos el tipo de las variables, la mayoría son categóricas salvo fechas y variable objetivo(booleana)\n",
    "# Algunas variables las podemos convertir en numéricas. ej. passenger_age\n",
    "print(df.dtypes.sort_values().to_frame('feature_type').groupby(by = 'feature_type').size().to_frame('count').reset_index())\n",
    "df.dtypes "
   ]
  },
  {
   "cell_type": "markdown",
   "metadata": {},
   "source": [
    "# Variables futuras y duplicados"
   ]
  },
  {
   "cell_type": "markdown",
   "metadata": {},
   "source": [
    "El dataset contiene variables que no están disponible en el momento de la colisión y por tanto escapan al objetivo de nuestro ánalisis y otras que directamente no son de útilidad como IDs. También debemos prescindir de registros duplicados antes de eliminar los IDs"
   ]
  },
  {
   "cell_type": "code",
   "execution_count": null,
   "metadata": {},
   "outputs": [],
   "source": [
    "print(df.shape)\n",
    "df = df.drop_duplicates().drop([\"passenger_id\",\"passenger_fatality\", \"vehicle_id\"], axis=1)\n",
    "df.shape"
   ]
  },
  {
   "cell_type": "markdown",
   "metadata": {},
   "source": [
    "# Variable Objetivo"
   ]
  },
  {
   "cell_type": "code",
   "execution_count": null,
   "metadata": {},
   "outputs": [],
   "source": [
    "# Recodeado de la variable objetivo\n",
    "# Antes: 1-fatality 2-no fatality\n",
    "# Después: 1-fatality 0-no fatality\n",
    "df['fatality'] = df['fatality'].replace({2:0})"
   ]
  },
  {
   "cell_type": "code",
   "execution_count": null,
   "metadata": {},
   "outputs": [],
   "source": [
    "#Ponemos la variable objetivo a la derecha del dataframe\n",
    "new_columns = list(df.columns[0:4]) + list(df.columns[5:]) + list(df.columns[4:5])\n",
    "df = df[new_columns]"
   ]
  },
  {
   "cell_type": "code",
   "execution_count": null,
   "metadata": {},
   "outputs": [],
   "source": [
    "# Plot variable 'fatality. Podemos ver que el dataset está muy desbalanceado\n",
    "fatality_per = df['fatality'].value_counts(normalize=True).mul(100).rename('percent').reset_index()\n",
    "fatality_count = df['fatality'].value_counts().reset_index()\n",
    "fataity_merge= pd.merge(fatality_per, fatality_count, on=['index'], how='inner')\n",
    "fig = px.histogram(fataity_merge, x=\"index\", y=['percent'], labels={'index':'fatality'})\n",
    "fig.show()"
   ]
  },
  {
   "cell_type": "markdown",
   "metadata": {},
   "source": [
    "# Valores Nulos"
   ]
  },
  {
   "cell_type": "markdown",
   "metadata": {},
   "source": [
    "En el diccionario de datos encontramos varios tipos de datos ausentes.  En elPrincipalmente U, UU y UUUU que son datos estirctamente desconocidos.  \n",
    "Luego tenemos los X, XX y XXXX que son no proporcionados por la jurisdicción, no encontramos ningun registro con esta etiqueta en los datos.  \n",
    "Por otro lado tenemos los N, NN y NNNN que hacen referencia a que la variable no aplica al registro concreto. Por ejemplo en los registros creados para coches aparcados y peatones.  Más adelante decidiremos que hacer con estos registros.  \n",
    "Por último los Q, QQ, QQQQ que son otras opciones que no aparecen en las posibles y tampoco deben ser tratados como nulos."
   ]
  },
  {
   "cell_type": "code",
   "execution_count": null,
   "metadata": {},
   "outputs": [],
   "source": [
    "# Remplazamos U, UU y UUUU por NAs\n",
    "df = df.replace({\"U\": np.nan, \"UU\": np.nan, \"UUUU\": np.nan})"
   ]
  },
  {
   "cell_type": "code",
   "execution_count": null,
   "metadata": {},
   "outputs": [],
   "source": [
    "# Análisis Nulos\n",
    "nulos_col = pd.merge(df.isnull().sum().sort_values().to_frame('missing_value').reset_index(),\n",
    "         df.dtypes.to_frame('feature_type').reset_index(),\n",
    "         on = 'index',\n",
    "         how = 'inner')\n",
    "nulos_col['columns_percentage'] = nulos_col['missing_value']/df.shape[0]\n",
    "nulos_col.sort_values(['missing_value', 'feature_type', 'columns_percentage'], ascending=False)"
   ]
  },
  {
   "cell_type": "code",
   "execution_count": null,
   "metadata": {},
   "outputs": [],
   "source": [
    "null_rows = df.isnull().sum(axis=1).sort_values(ascending=False)\n",
    "nulos_filas = pd.DataFrame(null_rows, columns=['nulos_filas'])  \n",
    "nulos_filas['target'] = df['fatality'].copy()\n",
    "nulos_filas['porcentaje_filas']= nulos_filas['nulos_filas']/df.shape[1]\n",
    "nulos_filas"
   ]
  },
  {
   "cell_type": "code",
   "execution_count": null,
   "metadata": {},
   "outputs": [],
   "source": [
    "# Podemos ver como la mayoría de filas con mas de 40% NAs no son fatalities\n",
    "# En una proporción bastante menor a la que encontramos en el conjunto de datos\n",
    "NA_0 = nulos_filas.target[(nulos_filas.porcentaje_filas>=0.40) & (nulos_filas.target==0)].count()\n",
    "NA_1 = nulos_filas.target[(nulos_filas.porcentaje_filas>=0.40) & (nulos_filas.target==1)].count()\n",
    "print(NA_0, NA_1)\n",
    "NA_1/NA_0"
   ]
  },
  {
   "cell_type": "markdown",
   "metadata": {},
   "source": [
    "Tras hacer el analisis de los nulos por filas y por columnas. Procedemos a eliminar los registros con más nulos. En cuanto a columnas mantenemos todas puesto que solo una de ellas supera ligeramente el 10% de nulos una cantidad dentro de un treshold razonable y puede ser una variable de interés para el modelo. En cuanto a las filas vamos a eliminar todos los registros que contengan más de un 40% de nulos, es decir, 8 o más variables con valor nulo en un solo registro."
   ]
  },
  {
   "cell_type": "code",
   "execution_count": null,
   "metadata": {},
   "outputs": [],
   "source": [
    "#Eliminando los registros con >40% nulos\n",
    "nulos_40 = list(nulos_filas.index[nulos_filas.porcentaje_filas>=0.40])\n",
    "df = df.loc[set(df.index)-set(nulos_40)].reset_index()"
   ]
  },
  {
   "cell_type": "code",
   "execution_count": null,
   "metadata": {},
   "outputs": [],
   "source": [
    "#TODO: ¿Que hacemos con dummies NN? \n",
    "print(df[(df['passenger_age']=='NN') & (df['fatality']==0)].shape)\n",
    "df[(df['passenger_age']=='NN') & (df['fatality']==1)].shape"
   ]
  },
  {
   "cell_type": "markdown",
   "metadata": {},
   "source": [
    "# Transformación Básica de algunas variables"
   ]
  },
  {
   "cell_type": "code",
   "execution_count": null,
   "metadata": {},
   "outputs": [],
   "source": [
    "# Cambio de la variable vehicle_year a años de antigüedad y eliminamos vehicle_year\n",
    "# Cambiamos passenger_age y vehicles_involved a númericas ninguna de las dos tiene NAs. \n",
    "# Sin embargo, passenger_age tiene valores NN para transformar la variable los haremos NA con 'coerce'\n",
    "df['vehicle_year'] = pd.to_numeric(df.year - pd.to_numeric(df.vehicle_year, errors= \"coerce\"))\n",
    "df = df.rename(columns={\"vehicle_year\": 'vehicle_age'})\n",
    "df['passenger_age'] = pd.to_numeric(df['passenger_age'],\"coerce\")\n",
    "df['vehicles_involved'] = pd.to_numeric(df['vehicles_involved'],\"ignore\")"
   ]
  },
  {
   "cell_type": "code",
   "execution_count": null,
   "metadata": {},
   "outputs": [],
   "source": [
    "def dame_variables_categoricas(dataset=None):\n",
    "    '''\n",
    "    ----------------------------------------------------------------------------------------------------------\n",
    "    Función dame_variables_categoricas:\n",
    "    ----------------------------------------------------------------------------------------------------------\n",
    "        -Descripción: Función que recibe un dataset y devuelve una lista con los nombres de las \n",
    "        variables categóricas\n",
    "        -Inputs: \n",
    "            -- dataset: Pandas dataframe que contiene los datos\n",
    "        -Return:\n",
    "            -- lista_variables_categoricas: lista con los nombres de las variables categóricas del\n",
    "            dataset de entrada con menos de 100 valores diferentes\n",
    "            -- 1: la ejecución es incorrecta\n",
    "    '''\n",
    "    if dataset is None:\n",
    "        print(u'\\nFaltan argumentos por pasar a la función')\n",
    "        return 1\n",
    "    lista_variables_categoricas = []\n",
    "    other = []\n",
    "    for i in dataset.columns:\n",
    "        if (dataset[i].dtype == object):\n",
    "                lista_variables_categoricas.append(i)\n",
    "        else:\n",
    "            other.append(i)\n",
    "\n",
    "    return lista_variables_categoricas, other\n"
   ]
  },
  {
   "cell_type": "code",
   "execution_count": null,
   "metadata": {},
   "outputs": [],
   "source": [
    "dame_variables_categoricas(df)\n",
    "lista_categoricas, lista_numericas = dame_variables_categoricas(df)"
   ]
  },
  {
   "cell_type": "code",
   "execution_count": null,
   "metadata": {},
   "outputs": [],
   "source": [
    "print(lista_categoricas, lista_numericas)"
   ]
  },
  {
   "cell_type": "markdown",
   "metadata": {},
   "source": [
    "# En progreso (ignorar)"
   ]
  },
  {
   "cell_type": "code",
   "execution_count": null,
   "metadata": {},
   "outputs": [],
   "source": [
    "# Columna MONTH\n",
    "print(df[\"month\"].unique())\n",
    "df[\"month\"] = np.int8(df[\"month\"].replace({\"01\": 1, \"02\": 2, \"11\": 11, \"12\" : 12}))\n",
    "df = df[df[\"month\"] != 0]\n",
    "df[\"month\"].unique()\n",
    "month_analysis = df.groupby([\"month\", \"fatality\"]).size()\n",
    "\n",
    "for i in range(1, 1+ np.int8(len(month_analysis)/2)):\n",
    "    print(\"El porcentaje de fatalities/accidente para el mes\",\n",
    "    i ,\"es del\",round(month_analysis[i][1]/month_analysis[i].sum()*100, 3), \"%\")\n",
    "month_analysis[2]\n",
    "### Dividiremos la variable month en cuatro valores distintos, representando los distintos trimestres del año (Q1-4).\n",
    "#### La razón para esto es la existencia de un patrón estacional en el que los distintos trimestres (o estaciones del año) tienen valores similares a la hora de relacionarse con la variable objetivo $fatality$\n",
    "# df[\"month\"] = df[\"month\"].replace({1:1, 2:1, 3:1, 4:2, 5:2, 6:2, 7:3, 8:3, 9:3, 10:4, 11:4, 12:4})\n",
    "## Columna Weekday\n",
    "print(df[\"weekday\"].unique())\n",
    "df[\"weekday\"] = np.int8(df[\"weekday\"].replace({\"7\": 7, \"1\": 1, \"2\": 2, \"3\" : 3, \"4\":4, \"5\":5, \"6\":6}))\n",
    "print(df[\"weekday\"].unique())\n",
    "#Las filas con NA en weekday (valor 0 para el día de la semana) son un número mínimo en comparación con el tamaño del data-set así que nos deshacemos de ellas\n",
    "# Nos deshacemos de esas filas\n",
    "df = df[df[\"weekday\"] != 0]\n",
    "weekday_analysis = df.groupby([\"weekday\", \"fatality\"]).size()\n",
    "\n",
    "for i in range(1, 1+ np.int8(len(weekday_analysis)/2)):\n",
    "    print(\"El porcentaje de fatalities/accidente para el día de la semana\",\n",
    "    i ,\"es del\",round(weekday_analysis[i][1]/weekday_analysis[i].sum()*100, 3), \"%\")\n",
    "## Columna $hour$\n",
    "### Opción 1: https://towardsdatascience.com/how-to-handle-cyclical-data-in-machine-learning-3e0336f7f97c\n",
    "### Opción 2: Identificar distintos \"tramos\" de similar influencia en $fatalities$ y luego hotencodearlo. Habría que hacerlo por tramos para reducir, ya que 24 variables para la hora quizás sean demasiadas\n",
    "df = df[df[\"hour\"].notnull()]\n",
    "df[\"hour\"] = df[\"hour\"].astype(\"int8\")\n",
    "plt.style.use('seaborn-whitegrid')\n",
    "plt.figure(figsize=(8,6), dpi=80)\n",
    "\n",
    "\n",
    "hour_analysis = df.groupby([\"hour\", \"fatality\"]).size()\n",
    "hour_values = list()\n",
    "\n",
    "for i in range(0, int(len(hour_analysis)/2)):\n",
    "    print(\"El porcentaje de fatalities/accidente para la hora\",\n",
    "    i ,\"es del\",round(hour_analysis[i][1]/hour_analysis[i].sum()*100, 3), \"%\")\n",
    "    hour_values.append(hour_analysis[i][1]/hour_analysis[i].sum()*100)\n",
    "\n",
    "hour_values = pd.DataFrame(hour_values)\n",
    "hour_values.T.iloc[0].plot()\n",
    "\n",
    "# He pensado en unificar las columnas de fecha pero he observado que la proporción de muertes / heridos es bastante diferente según el día de la semana (e imagino que también por la hora)\n",
    "\n",
    "print(df.fatality.value_counts() / len(df.index) * 100)\n",
    "\n",
    "df.loc[df[\"weekday\"] == 6].fatality.value_counts() / len(df.loc[df[\"weekday\"] == 6].index) * 100\n"
   ]
  },
  {
   "cell_type": "markdown",
   "metadata": {},
   "source": [
    "# Gráficos"
   ]
  },
  {
   "cell_type": "markdown",
   "metadata": {},
   "source": [
    "## 1. Colisiones y Tiempo"
   ]
  },
  {
   "cell_type": "markdown",
   "metadata": {},
   "source": [
    "### 1.1. Observación del periodo completo"
   ]
  },
  {
   "cell_type": "code",
   "execution_count": null,
   "metadata": {},
   "outputs": [],
   "source": [
    "#Cambio df por df_ts para no añadir columnas al df sobre el que vamos a trabajar?\n",
    "df_ts = pd.DataFrame()\n",
    "df_ts[\"date\"] = pd.DatetimeIndex(df[\"year\"].map(str) + \"-\" + df[\"month\"].map(str))\n",
    "df_ts[\"fatal\"] = np.where(df[\"fatality\"]==1, 1, 0)\n",
    "df_ts[\"non_fatal\"] = np.where(df[\"fatality\"]==0, 1, 0)"
   ]
  },
  {
   "cell_type": "code",
   "execution_count": null,
   "metadata": {},
   "outputs": [],
   "source": [
    "time_collision_both = df_ts.groupby('date')[\"fatal\",\"non_fatal\"].sum()\n",
    "plot = time_collision_both.plot(figsize = (15,5), title = \"Deadly colissions over time\")\n",
    "plot.set_xlabel(\"Year\")\n",
    "plot.set_ylabel(\"Number of deadly colissions\")"
   ]
  },
  {
   "cell_type": "code",
   "execution_count": null,
   "metadata": {},
   "outputs": [],
   "source": [
    "time_collision_fatal = df_ts.groupby('date')[\"fatal\"].sum()\n",
    "plot = time_collision_fatal.plot(figsize = (15,5), title = \"Deadly colissions over time\")\n",
    "plot.set_xlabel(\"Year\")\n",
    "plot.set_ylabel(\"Number of deadly colissions\")"
   ]
  },
  {
   "cell_type": "code",
   "execution_count": null,
   "metadata": {},
   "outputs": [],
   "source": [
    "time_collision_nonfatal = df_ts.groupby('date')[\"non_fatal\"].sum()\n",
    "plot = time_collision_nonfatal.plot(figsize = (15,5), title = \"Deadly colissions over time\", color = \"orange\")\n",
    "plot.set_xlabel(\"Year\")\n",
    "plot.set_ylabel(\"Number of deadly colissions\")"
   ]
  },
  {
   "cell_type": "markdown",
   "metadata": {},
   "source": [
    "### 1.2. Observación reducida a los últimos 5 años"
   ]
  },
  {
   "cell_type": "code",
   "execution_count": null,
   "metadata": {},
   "outputs": [],
   "source": [
    "#TODO: Filtrar ultimos 5 años\n",
    "#df_reduced = df.loc[df[\"date\"] >= \"2009\"]\n",
    "\n",
    "plot = time_collision_fatal.plot(figsize = (15,5), title = \"Deadly colissions over time\")\n",
    "plot.set_xlabel(\"Year\")\n",
    "plot.set_ylabel(\"Number of deadly colissions\")"
   ]
  },
  {
   "cell_type": "code",
   "execution_count": null,
   "metadata": {},
   "outputs": [],
   "source": [
    "plot = time_collision_nonfatal.plot(figsize = (15,5), title = \"Deadly colissions over time\", color=\"orange\")\n",
    "plot.set_xlabel(\"Year\")\n",
    "plot.set_ylabel(\"Number of deadly colissions\")"
   ]
  },
  {
   "cell_type": "markdown",
   "metadata": {},
   "source": [
    "### 1.3 Correlación entre los valores de la variable objetivo"
   ]
  },
  {
   "cell_type": "code",
   "execution_count": null,
   "metadata": {},
   "outputs": [],
   "source": [
    "plt.figure(figsize=(15,5))\n",
    "for c in time_collision_both.columns:\n",
    "    autocorrelation_plot(time_collision_both[c][-60:],label=c);"
   ]
  },
  {
   "cell_type": "code",
   "execution_count": null,
   "metadata": {},
   "outputs": [],
   "source": [
    "plt.figure(figsize=(15,5))\n",
    "sns.regplot('fatal', 'non_fatal', data=time_collision_both);"
   ]
  },
  {
   "cell_type": "code",
   "execution_count": null,
   "metadata": {},
   "outputs": [],
   "source": [
    "corr = time_collision_both.corr()\n",
    "print(\"La correlación entre los accidentes fatales y no fatales es de\", str(round(corr[\"fatal\"][\"non_fatal\"], 3)))\n",
    "corr"
   ]
  },
  {
   "cell_type": "markdown",
   "metadata": {},
   "source": [
    "## 2. Análisis de los días de la semana y las horas"
   ]
  },
  {
   "cell_type": "markdown",
   "metadata": {},
   "source": [
    "### 2.1. Días de la semana"
   ]
  },
  {
   "cell_type": "code",
   "execution_count": null,
   "metadata": {},
   "outputs": [],
   "source": [
    "index = [\"Monday\", \"Tuesday\", \"Wednesday\", \"Thursday\", \"Friday\", \"Saturday\", \"Sunday\"]\n",
    "weekday_analysis = df.groupby(\"weekday\")[\"fatality\"].count()\n",
    "weekday_analysis.index = index\n",
    "plt.figure(figsize=(15,5))\n",
    "plot = weekday_analysis.plot(kind=\"bar\", title = \"Collisions by week day\")"
   ]
  },
  {
   "cell_type": "code",
   "execution_count": null,
   "metadata": {},
   "outputs": [],
   "source": [
    "weekday_analysis = df.groupby([\"weekday\", \"fatality\"]).size()\n",
    "serie_weekday = list()\n",
    "for i in range(1, 8):\n",
    "    serie_weekday.append(weekday_analysis[i][1] / weekday_analysis[i].sum() * 100)\n",
    "\n",
    "weekday_analysis_serie = pd.Series(serie_weekday, index = index)\n",
    "plt.figure(figsize=(15,5))\n",
    "plot = weekday_analysis_serie.plot(kind=\"bar\", title = \"Percentage of deadly collisions by week day\")"
   ]
  },
  {
   "cell_type": "markdown",
   "metadata": {},
   "source": [
    "### 2.2. Horas del día"
   ]
  },
  {
   "cell_type": "code",
   "execution_count": null,
   "metadata": {},
   "outputs": [],
   "source": [
    "index = np.arange(0,24)\n",
    "hour_analysis = df.groupby(\"hour\")[\"fatality\"].count()\n",
    "hour_analysis.index = index\n",
    "plt.figure(figsize=(15,5))\n",
    "plot = hour_analysis.plot(kind=\"bar\", title = \"Collisions by hour of the day\")"
   ]
  },
  {
   "cell_type": "code",
   "execution_count": null,
   "metadata": {},
   "outputs": [],
   "source": [
    "hour_analysis = df.groupby([\"hour\", \"fatality\"]).size()\n",
    "serie_weekday = list()\n",
    "for i in range(0, 24):\n",
    "    serie_weekday.append(hour_analysis[i][1] / hour_analysis[i].sum() * 100)\n",
    "\n",
    "hour_analysis = pd.Series(serie_weekday, index = index)\n",
    "plt.figure(figsize=(15,5))\n",
    "plot = hour_analysis.plot(kind=\"bar\", title = \"Percentage of deadly collisions by hour of the day\")"
   ]
  },
  {
   "cell_type": "markdown",
   "metadata": {},
   "source": [
    "## 3. Colisiones y Carretera"
   ]
  },
  {
   "cell_type": "markdown",
   "metadata": {},
   "source": [
    "### 3.1. Road Configuration"
   ]
  },
  {
   "cell_type": "code",
   "execution_count": null,
   "metadata": {},
   "outputs": [],
   "source": [
    "#FIXME: not working \n",
    "def plot_cat(col_name):\n",
    "    ax2 = plt.plot(nrows=1, ncols=2, figsize=(12,3), dpi=90)\n",
    "    data = df.groupby(col_name)['fatality'].value_counts(normalize=True).to_frame('proportion').reset_index() \n",
    "    data.columns = [col_name, 'fatality', 'proportion']\n",
    "    #sns.barplot(x = col_name, y = 'proportion', hue= 'target', data = data, saturation=1, ax=ax2)\n",
    "    sns.barplot(x = col_name, y = 'proportion', hue= 'fatality', data = data, saturation=1, ax=ax2)\n",
    "    ax2.set_ylabel('fatality'+' fraction')\n",
    "    ax2.set_title('fatality')\n",
    "    plt.xticks(rotation = 90)\n",
    "    ax2.set_xlabel(col_name)\n",
    "    plt.tight_layout()\n",
    "\n",
    "data = df.groupby('crash_place')['fatality'].value_counts(normalize=True).to_frame('proportion').reset_index() \n",
    "data.columns = ['crash_place', 'fatality', 'proportion']\n",
    "\n",
    "#plot_cat(\"crash_place\")"
   ]
  },
  {
   "cell_type": "code",
   "execution_count": null,
   "metadata": {},
   "outputs": [],
   "source": [
    "index = np.arange(1,12)\n",
    "place_analysis = df.groupby(\"crash_place\")[\"fatality\"].count()\n",
    "# place_analysis.index = index\n",
    "plt.figure(figsize=(15,5))\n",
    "plot = place_analysis.plot(kind=\"bar\", title = \"Collisions by Crash Place\")\n",
    "place_type = ['Mid-block','At an intersection','Intersection with parking lot entrance/exit',\n",
    "            'Railroad crossing','Bridge','Tunnel','Passing or climbing lane',\n",
    "             'Ramp','Traffic circle','Highway express lane', 'Other']\n",
    "\n",
    "plt.xticks(np.arange(0,11),place_type,rotation=45, size='small' ); "
   ]
  },
  {
   "cell_type": "code",
   "execution_count": null,
   "metadata": {},
   "outputs": [],
   "source": [
    "#TODO: titulo de cada plot: Colisiones fatales por lugar\n",
    "#FIXME: Es un porcentaje sobre el total de accidentes por categoría ¿Y porcentaje sobre el total de muertes?\n",
    "\n",
    "place_analysis = df.groupby([\"crash_place\", \"fatality\"]).size()\n",
    "serie_place = list()\n",
    "\n",
    "for i in range(0, 11):\n",
    "    serie_place.append(place_analysis[:,1][i] / (place_analysis[:,1][i] +(place_analysis[:,0][i])) * 100)\n",
    "\n",
    "place_analysis = pd.Series(serie_place, index = range(0,11))\n",
    "plt.figure(figsize=(15,5))\n",
    "plot = place_analysis.plot(kind=\"bar\", title = \"Percentage of deadly collisions by place\")\n",
    "plt.xticks(np.arange(0,11),place_type,rotation=45, size='small' ); "
   ]
  },
  {
   "cell_type": "markdown",
   "metadata": {},
   "source": [
    "### 3.2. Condiciones Climáticas"
   ]
  },
  {
   "cell_type": "code",
   "execution_count": null,
   "metadata": {},
   "outputs": [],
   "source": [
    "df['crash_weather'].unique()\n",
    "## Valor Q means \"Other\""
   ]
  },
  {
   "cell_type": "code",
   "execution_count": null,
   "metadata": {},
   "outputs": [],
   "source": [
    "index = np.arange(0,8)\n",
    "weather_analysis = df.groupby(\"crash_weather\")[\"fatality\"].count()\n",
    "weather_analysis.index = index\n",
    "\n",
    "plt.figure(figsize=(15,5))\n",
    "plot = weather_analysis.plot(kind=\"bar\", title = \"Collisions by Weather Condition\")\n",
    "weather_type = ['Clear','Cloudy','Rain','Snow','Freezing Rain,Hail',\n",
    "                'Low Visibility','Strong Wind','Other']\n",
    "\n",
    "plt.xticks(np.arange(0,8),weather_type,rotation=45, size='small' ); "
   ]
  },
  {
   "cell_type": "code",
   "execution_count": null,
   "metadata": {},
   "outputs": [],
   "source": [
    "#TODO: titulo de cada plot: Colisiones fatales por lugar\n",
    "#FIXME: Es un porcentaje sobre el total de accidentes por categoría ¿Y porcentaje sobre el total de muertes?\n",
    "\n",
    "weather_analysis = df.groupby([\"crash_weather\", \"fatality\"]).size()\n",
    "serie_weather = list()\n",
    "\n",
    "for i in range(0, 8):\n",
    "    serie_weather.append(weather_analysis[:,1][i] / (weather_analysis[:,1][i] +(weather_analysis[:,0][i])) * 100)\n",
    "\n",
    "weather_analysis = pd.Series(serie_weather, index = range(0,8))\n",
    "plt.figure(figsize=(15,5))\n",
    "plot = weather_analysis.plot(kind=\"bar\", title = \"Percentage of deadly collisions by place\")\n",
    "plt.xticks(np.arange(0,8),weather_type,rotation=45, size='small' ); "
   ]
  },
  {
   "cell_type": "markdown",
   "metadata": {},
   "source": [
    "# Funciones"
   ]
  },
  {
   "cell_type": "code",
   "execution_count": null,
   "metadata": {},
   "outputs": [],
   "source": [
    "### Función mortalidad (% / 100 Accidentes)\n",
    "\n",
    "def mortalidad(columna, tipos, titulo):\n",
    "    analysis = df.groupby([columna, \"fatality\"]).size()\n",
    "    serie = list()\n",
    "\n",
    "    for i in range(0, np.int8(len(analysis)/2)):\n",
    "        serie.append(analysis[:,1][i] / (analysis[:,1][i] + (analysis[:,0][i])) * 100)\n",
    "    \n",
    "    analysis = pd.Series(serie, index = range(0, np.int8(len(analysis)/2)))\n",
    "    plt.figure(figsize=(15,5))\n",
    "    plot = analysis.plot(kind=\"bar\", title = titulo)\n",
    "    plot.set_xticklabels(tipos, rotation = 45)"
   ]
  },
  {
   "cell_type": "code",
   "execution_count": null,
   "metadata": {},
   "outputs": [],
   "source": [
    "tipos = ['Clear','Cloudy','Rain','Snow','Freezing Rain,Hail',\n",
    "                'Low Visibility','Strong Wind','Other']\n",
    "mortalidad(\"crash_weather\", tipos, \"Titulo de prueba\")"
   ]
  },
  {
   "cell_type": "code",
   "execution_count": null,
   "metadata": {},
   "outputs": [],
   "source": [
    "### Función frecuencia absoluta\n",
    "def frecuencia(columna, tipos, titulo):\n",
    "    analysis = df.groupby(columna)[\"fatality\"].count()\n",
    "    plt.figure(figsize=(15,5))\n",
    "    plot = analysis.plot(kind=\"bar\", title=titulo)\n",
    "    plot.set_xticklabels(tipos, rotation = 45)"
   ]
  },
  {
   "cell_type": "code",
   "execution_count": null,
   "metadata": {},
   "outputs": [],
   "source": [
    "frecuencia(\"crash_weather\", tipos, \"Título de prueba\")"
   ]
  },
  {
   "cell_type": "code",
   "execution_count": 173,
   "metadata": {},
   "outputs": [],
   "source": [
    "def mortalidadtotal(columna, tipos, titulo):\n",
    "    analysis = df.groupby(columna)[\"fatality\"].sum() / df[\"fatality\"].sum() * 100\n",
    "    plt.figure(figsize=(15,5))\n",
    "    plot = analysis.plot(kind=\"bar\", title=titulo)\n",
    "    plot.set_xticklabels(tipos, rotation = 45)\n",
    "\n",
    "\n",
    "   # df.groupby(\"crash_weather\")[\"fatality\"].sum() / df[\"fatality\"].sum() * 100"
   ]
  },
  {
   "cell_type": "code",
   "execution_count": 177,
   "metadata": {},
   "outputs": [
    {
     "data": {
      "image/png": "[encoded data removed]",
      "text/plain": [
       "<Figure size 1080x360 with 1 Axes>"
      ]
     },
     "metadata": {},
     "output_type": "display_data"
    }
   ],
   "source": [
    "mortalidadtotal(\"crash_weather\", tipos, (\"Titulo de prueba\"))"
   ]
  },
  {
   "cell_type": "markdown",
   "metadata": {},
   "source": [
    "# Cramer Variables Categoricas"
   ]
  },
  {
   "cell_type": "code",
   "execution_count": null,
   "metadata": {},
   "outputs": [],
   "source": [
    "def cramers_corrected_stat(x,y):\n",
    "\n",
    "    \"\"\" calculate Cramers V statistic for categorial-categorial association.\n",
    "        uses correction from Bergsma and Wicher, \n",
    "        Journal of the Korean Statistical Society 42 (2013): 323-328\n",
    "    \"\"\"\n",
    "    result=-1\n",
    "    if len(x.value_counts())==1 :\n",
    "        print(\"First variable is constant\")\n",
    "    elif len(y.value_counts())==1:\n",
    "        print(\"Second variable is constant\")\n",
    "    else:   \n",
    "        conf_matrix=pd.crosstab(x, y)\n",
    "\n",
    "        if conf_matrix.shape[0]==2:\n",
    "            correct=False\n",
    "        else:\n",
    "            correct=True\n",
    "\n",
    "        chi2 = ss.chi2_contingency(conf_matrix, correction=correct)[0]\n",
    "\n",
    "        n = sum(conf_matrix.sum())\n",
    "        phi2 = chi2/n\n",
    "        r,k = conf_matrix.shape\n",
    "        phi2corr = max(0, phi2 - ((k-1)*(r-1))/(n-1))    \n",
    "        rcorr = r - ((r-1)**2)/(n-1)\n",
    "        kcorr = k - ((k-1)**2)/(n-1)\n",
    "        result=np.sqrt(phi2corr / min( (kcorr-1), (rcorr-1)))\n",
    "    return round(result,6)"
   ]
  },
  {
   "cell_type": "code",
   "execution_count": null,
   "metadata": {},
   "outputs": [],
   "source": [
    "def cramers_fatality(y):\n",
    "\n",
    "    \"\"\" calculate Cramers V statistic for categorial-categorial association.\n",
    "        uses correction from Bergsma and Wicher, \n",
    "        Journal of the Korean Statistical Society 42 (2013): 323-328\n",
    "    \"\"\"\n",
    "    result=-1\n",
    "    if len(df['fatality'].value_counts())==1 :\n",
    "        print(\"First variable is constant\")\n",
    "    elif len(y.value_counts())==1:\n",
    "        print(\"Second variable is constant\")\n",
    "    else:   \n",
    "        conf_matrix=pd.crosstab(df['fatality'], y)\n",
    "\n",
    "        if conf_matrix.shape[0]==2:\n",
    "            correct=False\n",
    "        else:\n",
    "            correct=True\n",
    "\n",
    "        chi2 = ss.chi2_contingency(conf_matrix, correction=correct)[0]\n",
    "\n",
    "        n = sum(conf_matrix.sum())\n",
    "        phi2 = chi2/n\n",
    "        r,k = conf_matrix.shape\n",
    "        phi2corr = max(0, phi2 - ((k-1)*(r-1))/(n-1))    \n",
    "        rcorr = r - ((r-1)**2)/(n-1)\n",
    "        kcorr = k - ((k-1)**2)/(n-1)\n",
    "        result=np.sqrt(phi2corr / min( (kcorr-1), (rcorr-1)))\n",
    "    return round(result,6)"
   ]
  },
  {
   "cell_type": "code",
   "execution_count": null,
   "metadata": {},
   "outputs": [],
   "source": [
    "#TODO\n",
    "#Quizá añadir despues de cada gráfico por variable\n",
    "#Entre 0 y 1. Cuanto mayor, mayor relación entre variables\n",
    "cramers_corrected_stat(df['fatality'], df['crash_place'])"
   ]
  },
  {
   "cell_type": "code",
   "execution_count": null,
   "metadata": {},
   "outputs": [],
   "source": [
    "cramers_corrected_stat(df['fatality'], df['passenger_safety']) "
   ]
  },
  {
   "cell_type": "code",
   "execution_count": null,
   "metadata": {},
   "outputs": [],
   "source": [
    "cramers_corrected_stat(df['fatality'], df['crash_weather'])"
   ]
  },
  {
   "cell_type": "code",
   "execution_count": null,
   "metadata": {},
   "outputs": [],
   "source": [
    "#FIXME\n",
    "df[lista_categoricas].apply(cramers_fatality, axis = 1)"
   ]
  },
  {
   "cell_type": "code",
   "execution_count": null,
   "metadata": {},
   "outputs": [],
   "source": [
    "#TODO\n",
    "#Gráficos con llamada a función  \n",
    "#Resolver tema NNs -- Fixed\n",
    "#V de Cramer \n",
    "#Para modelo eliminar registros que no sean de conductor y tal vez peatón? Posible overfittng con muchas personas para un solo accidente"
   ]
  },
  {
   "cell_type": "code",
   "execution_count": null,
   "metadata": {},
   "outputs": [],
   "source": [
    "df #sobran date, fatal y non_fatal.    \n"
   ]
  }
 ],
 "metadata": {
  "interpreter": {
   "hash": "75234cef4d4b5401408a5d3b72f4265569f6601e8da7c73f173a51e561ebd976"
  },
  "kernelspec": {
   "display_name": "Python 3.8.12 64-bit ('core_models': conda)",
   "language": "python",
   "name": "python3"
  },
  "language_info": {
   "codemirror_mode": {
    "name": "ipython",
    "version": 3
   },
   "file_extension": ".py",
   "mimetype": "text/x-python",
   "name": "python",
   "nbconvert_exporter": "python",
   "pygments_lexer": "ipython3",
   "version": "3.8.12"
  },
  "orig_nbformat": 4
 },
 "nbformat": 4,
 "nbformat_minor": 2
}
