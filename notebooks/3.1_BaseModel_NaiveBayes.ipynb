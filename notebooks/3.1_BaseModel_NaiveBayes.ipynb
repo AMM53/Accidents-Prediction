{
 "cells": [
  {
   "cell_type": "markdown",
   "metadata": {},
   "source": [
    "# CUNEF MUCD 2021/2022  \n",
    "## Machine Learning\n",
    "## Análisis de Siniestralidad de Automóviles"
   ]
  },
  {
   "cell_type": "markdown",
   "metadata": {},
   "source": [
    "### Autores:\n",
    "- Andrés Mahía Morado\n",
    "- Antonio Tello Gómez\n"
   ]
  },
  {
   "cell_type": "markdown",
   "metadata": {},
   "source": [
    "# Modelo Base y Naive Bayes"
   ]
  },
  {
   "cell_type": "markdown",
   "metadata": {},
   "source": [
    "En este apartado construimos el modelo base que nos servirá como referencia para comprobar el desempeño del resto de modelos. Por otro lado, también vamos entrenar un modelo Naive Bayes otro modelo sencillo que también nos servirá como referencia. "
   ]
  },
  {
   "cell_type": "code",
   "execution_count": 8,
   "metadata": {},
   "outputs": [
    {
     "name": "stdout",
     "output_type": "stream",
     "text": [
      "time: 0 ns (started: 2021-12-18 20:07:20 +01:00)\n"
     ]
    }
   ],
   "source": [
    "#Librerías\n",
    "import pandas as pd\n",
    "import numpy as np\n",
    "\n",
    "from sklearn import metrics\n",
    "from sklearn.metrics import classification_report, confusion_matrix, roc_curve, auc, \\\n",
    "                            silhouette_score, recall_score, precision_score, make_scorer, \\\n",
    "                            roc_auc_score, f1_score, precision_recall_curve\n",
    "from sklearn.metrics import ConfusionMatrixDisplay\n",
    "from sklearn.metrics import accuracy_score, roc_auc_score, \\\n",
    "                            classification_report, confusion_matrix\n",
    "from sklearn import metrics\n",
    "from sklearn.metrics import plot_confusion_matrix\n",
    "\n",
    "from sklearn.dummy import DummyClassifier \n",
    "from sklearn.naive_bayes import GaussianNB\n",
    "\n",
    "from sklearn.pipeline import Pipeline\n",
    "from sklearn.compose import ColumnTransformer\n",
    "\n",
    "import pickle\n",
    "import warnings\n",
    "warnings.filterwarnings('ignore')\n",
    "%load_ext autotime\n",
    "\n",
    "from aux_func import evaluate_model\n",
    "from aux_func import cargar_modelo"
   ]
  },
  {
   "cell_type": "code",
   "execution_count": 9,
   "metadata": {},
   "outputs": [
    {
     "name": "stdout",
     "output_type": "stream",
     "text": [
      "time: 1.67 s (started: 2021-12-18 20:07:22 +01:00)\n"
     ]
    }
   ],
   "source": [
    "xtrain = pd.read_parquet(\"../data/xtrain.parquet\")\n",
    "ytrain = pd.read_parquet(\"../data/ytrain.parquet\")\n",
    "xtest = pd.read_parquet(\"../data/xtest.parquet\")\n",
    "ytest = pd.read_parquet(\"../data/ytest.parquet\")"
   ]
  },
  {
   "cell_type": "code",
   "execution_count": 10,
   "metadata": {},
   "outputs": [
    {
     "name": "stdout",
     "output_type": "stream",
     "text": [
      "time: 16 ms (started: 2021-12-18 20:07:24 +01:00)\n"
     ]
    }
   ],
   "source": [
    "#Cargamos pipeline preprocesado\n",
    "preprocessor = cargar_modelo('../models/preprocessor.pickle')"
   ]
  },
  {
   "cell_type": "markdown",
   "metadata": {},
   "source": [
    "# Modelo Base"
   ]
  },
  {
   "cell_type": "markdown",
   "metadata": {},
   "source": [
    "Un modelo base emplea un valor fijo o valores aleatorios (Normalmente en función de algún estadístico de la distribución de la variable objetivo) para realizar la predicción de los valores del test. \n",
    "En nuestro caso hemos empleado la opción 'stratified' que genera predicciones aleatorias respetando la distribución de la variable objetivo.  \n"
   ]
  },
  {
   "cell_type": "code",
   "execution_count": 12,
   "metadata": {},
   "outputs": [
    {
     "name": "stdout",
     "output_type": "stream",
     "text": [
      "time: 0 ns (started: 2021-12-18 20:08:05 +01:00)\n"
     ]
    }
   ],
   "source": [
    "modelo_base = Pipeline(steps=[\n",
    "    ('preprocesador', preprocessor),\n",
    "    ('clasificador', DummyClassifier(strategy='stratified', random_state=0))])"
   ]
  },
  {
   "cell_type": "code",
   "execution_count": 13,
   "metadata": {},
   "outputs": [
    {
     "data": {
      "text/plain": [
       "Pipeline(steps=[('preprocesador',\n",
       "                 ColumnTransformer(transformers=[('num',\n",
       "                                                  Pipeline(steps=[('imputer',\n",
       "                                                                   SimpleImputer(strategy='median')),\n",
       "                                                                  ('scaler',\n",
       "                                                                   StandardScaler())]),\n",
       "                                                  ['vehicle_age',\n",
       "                                                   'passenger_age',\n",
       "                                                   'vehicles_involved',\n",
       "                                                   'year']),\n",
       "                                                 ('fcat',\n",
       "                                                  Pipeline(steps=[('imputer',\n",
       "                                                                   SimpleImputer(fill_value=nan,\n",
       "                                                                                 strategy='constant')),\n",
       "                                                                  ('onehot',\n",
       "                                                                   OneHotEncoder(handle_unknown='i...\n",
       "                                                   'passenger_type']),\n",
       "                                                 ('mcat',\n",
       "                                                  Pipeline(steps=[('imputer',\n",
       "                                                                   SimpleImputer(fill_value='missing',\n",
       "                                                                                 strategy='constant')),\n",
       "                                                                  ('target',\n",
       "                                                                   TargetEncoder(handle_unknown='ignore'))]),\n",
       "                                                  ['crash_type', 'crash_place',\n",
       "                                                   'crash_weather',\n",
       "                                                   'surface_state',\n",
       "                                                   'road_slope',\n",
       "                                                   'traffic_state',\n",
       "                                                   'vehicle_type',\n",
       "                                                   'passenger_safety'])])),\n",
       "                ('clasificador',\n",
       "                 DummyClassifier(random_state=0, strategy='stratified'))])"
      ]
     },
     "execution_count": 13,
     "metadata": {},
     "output_type": "execute_result"
    },
    {
     "name": "stdout",
     "output_type": "stream",
     "text": [
      "time: 25.8 s (started: 2021-12-18 20:08:07 +01:00)\n"
     ]
    }
   ],
   "source": [
    "modelo_base.fit(xtrain, ytrain)"
   ]
  },
  {
   "cell_type": "code",
   "execution_count": 14,
   "metadata": {},
   "outputs": [
    {
     "name": "stdout",
     "output_type": "stream",
     "text": [
      "time: 0 ns (started: 2021-12-18 20:08:33 +01:00)\n"
     ]
    }
   ],
   "source": [
    "with open('../models/modelo_base.pickle', 'wb') as f:\n",
    "    pickle.dump(modelo_base, f)"
   ]
  },
  {
   "cell_type": "code",
   "execution_count": 15,
   "metadata": {},
   "outputs": [
    {
     "data": {
      "text/plain": [
       "Pipeline(steps=[('preprocesador',\n",
       "                 ColumnTransformer(transformers=[('num',\n",
       "                                                  Pipeline(steps=[('imputer',\n",
       "                                                                   SimpleImputer(strategy='median')),\n",
       "                                                                  ('scaler',\n",
       "                                                                   StandardScaler())]),\n",
       "                                                  ['vehicle_age',\n",
       "                                                   'passenger_age',\n",
       "                                                   'vehicles_involved',\n",
       "                                                   'year']),\n",
       "                                                 ('fcat',\n",
       "                                                  Pipeline(steps=[('imputer',\n",
       "                                                                   SimpleImputer(fill_value=nan,\n",
       "                                                                                 strategy='constant')),\n",
       "                                                                  ('onehot',\n",
       "                                                                   OneHotEncoder(handle_unknown='i...\n",
       "                                                   'passenger_type']),\n",
       "                                                 ('mcat',\n",
       "                                                  Pipeline(steps=[('imputer',\n",
       "                                                                   SimpleImputer(fill_value='missing',\n",
       "                                                                                 strategy='constant')),\n",
       "                                                                  ('target',\n",
       "                                                                   TargetEncoder(handle_unknown='ignore'))]),\n",
       "                                                  ['crash_type', 'crash_place',\n",
       "                                                   'crash_weather',\n",
       "                                                   'surface_state',\n",
       "                                                   'road_slope',\n",
       "                                                   'traffic_state',\n",
       "                                                   'vehicle_type',\n",
       "                                                   'passenger_safety'])])),\n",
       "                ('clasificador',\n",
       "                 DummyClassifier(random_state=0, strategy='stratified'))])"
      ]
     },
     "execution_count": 15,
     "metadata": {},
     "output_type": "execute_result"
    },
    {
     "name": "stdout",
     "output_type": "stream",
     "text": [
      "time: 62 ms (started: 2021-12-18 20:08:33 +01:00)\n"
     ]
    }
   ],
   "source": [
    "cargar_modelo('../models/modelo_base.pickle')"
   ]
  },
  {
   "cell_type": "code",
   "execution_count": 16,
   "metadata": {},
   "outputs": [
    {
     "name": "stdout",
     "output_type": "stream",
     "text": [
      "ROC-AUC score of the model: 0.5006305803052006\n",
      "Accuracy of the model: 0.9702512936495137\n",
      "\n",
      "Classification report: \n",
      "              precision    recall  f1-score   support\n",
      "\n",
      "           0       0.98      0.98      0.98    799946\n",
      "           1       0.02      0.02      0.02     12291\n",
      "\n",
      "    accuracy                           0.97    812237\n",
      "   macro avg       0.50      0.50      0.50    812237\n",
      "weighted avg       0.97      0.97      0.97    812237\n",
      "\n",
      "\n",
      "Confusion matrix: \n",
      "[[787873  12073]\n",
      " [ 12090    201]]\n",
      "\n",
      "time: 7.19 s (started: 2021-12-18 20:08:33 +01:00)\n"
     ]
    }
   ],
   "source": [
    "ypred = modelo_base.predict(xtest)\n",
    "ypred_proba = modelo_base.predict_proba(xtest)\n",
    "evaluate_model(ytest,ypred,ypred_proba)"
   ]
  },
  {
   "cell_type": "markdown",
   "metadata": {},
   "source": [
    "Algo muy significativo de nuestro modelo base es que obtenemos un accuracy, la métrica por excelencia para evaluar los modelos de ML, del 97.02%. Si predijéramos que todo nuestro test pertenece a la clase 0 (strategy='most_frequent') obtendríamos un accuracy aún mayor, del 98.47%. Sin embargo, no estaríamos acercándonos de ninguna manera a nuestro objetivo que es predecir el máximo posible de la clase 1 sin renunciar a acertar en la clase 0. Por tanto, el accuracy no será una métrica muy útil a la hora de evaluar nuestros modelos."
   ]
  },
  {
   "cell_type": "markdown",
   "metadata": {},
   "source": [
    "# Naive Bayes"
   ]
  },
  {
   "cell_type": "markdown",
   "metadata": {},
   "source": [
    "El Naive Bayes es un clasificador basado en la aplicación del teorema de Bayes con la hipótesis de independencia condicional entre variables predictoras. Hipótesis conocida como ingenua, _naive_.  \n",
    "En nuestro caso hemos estimado un Gaussian Naive Bayes en el que asumimos que probabilidad de las variables predictoras sigue una distribución normal.  \n",
    "Este es el modelo más sencillo que tiene en cuenta las variables predictoras por ello también será una referencia muy útil para comparar el resto de modelos."
   ]
  },
  {
   "cell_type": "code",
   "execution_count": 17,
   "metadata": {},
   "outputs": [
    {
     "name": "stdout",
     "output_type": "stream",
     "text": [
      "time: 0 ns (started: 2021-12-18 20:09:26 +01:00)\n"
     ]
    }
   ],
   "source": [
    "naive_bayes = Pipeline(steps=[\n",
    "    ('preprocesador', preprocessor),\n",
    "    ('clasificador', GaussianNB())])"
   ]
  },
  {
   "cell_type": "code",
   "execution_count": 18,
   "metadata": {},
   "outputs": [
    {
     "data": {
      "text/plain": [
       "Pipeline(steps=[('preprocesador',\n",
       "                 ColumnTransformer(transformers=[('num',\n",
       "                                                  Pipeline(steps=[('imputer',\n",
       "                                                                   SimpleImputer(strategy='median')),\n",
       "                                                                  ('scaler',\n",
       "                                                                   StandardScaler())]),\n",
       "                                                  ['vehicle_age',\n",
       "                                                   'passenger_age',\n",
       "                                                   'vehicles_involved',\n",
       "                                                   'year']),\n",
       "                                                 ('fcat',\n",
       "                                                  Pipeline(steps=[('imputer',\n",
       "                                                                   SimpleImputer(fill_value=nan,\n",
       "                                                                                 strategy='constant')),\n",
       "                                                                  ('onehot',\n",
       "                                                                   OneHotEncoder(handle_unknown='i...\n",
       "                                                   'vehicles_involved',\n",
       "                                                   'passenger_sex',\n",
       "                                                   'passenger_type']),\n",
       "                                                 ('mcat',\n",
       "                                                  Pipeline(steps=[('imputer',\n",
       "                                                                   SimpleImputer(fill_value='missing',\n",
       "                                                                                 strategy='constant')),\n",
       "                                                                  ('target',\n",
       "                                                                   TargetEncoder(handle_unknown='ignore'))]),\n",
       "                                                  ['crash_type', 'crash_place',\n",
       "                                                   'crash_weather',\n",
       "                                                   'surface_state',\n",
       "                                                   'road_slope',\n",
       "                                                   'traffic_state',\n",
       "                                                   'vehicle_type',\n",
       "                                                   'passenger_safety'])])),\n",
       "                ('clasificador', GaussianNB())])"
      ]
     },
     "execution_count": 18,
     "metadata": {},
     "output_type": "execute_result"
    },
    {
     "name": "stdout",
     "output_type": "stream",
     "text": [
      "time: 27.9 s (started: 2021-12-18 20:09:35 +01:00)\n"
     ]
    }
   ],
   "source": [
    "naive_bayes.fit(xtrain, ytrain)"
   ]
  },
  {
   "cell_type": "code",
   "execution_count": 19,
   "metadata": {},
   "outputs": [
    {
     "name": "stdout",
     "output_type": "stream",
     "text": [
      "time: 0 ns (started: 2021-12-18 20:10:03 +01:00)\n"
     ]
    }
   ],
   "source": [
    "with open('../models/GNB.pickle', 'wb') as f:\n",
    "    pickle.dump(naive_bayes, f)"
   ]
  },
  {
   "cell_type": "code",
   "execution_count": 20,
   "metadata": {},
   "outputs": [
    {
     "data": {
      "text/plain": [
       "Pipeline(steps=[('preprocesador',\n",
       "                 ColumnTransformer(transformers=[('num',\n",
       "                                                  Pipeline(steps=[('imputer',\n",
       "                                                                   SimpleImputer(strategy='median')),\n",
       "                                                                  ('scaler',\n",
       "                                                                   StandardScaler())]),\n",
       "                                                  ['vehicle_age',\n",
       "                                                   'passenger_age',\n",
       "                                                   'vehicles_involved',\n",
       "                                                   'year']),\n",
       "                                                 ('fcat',\n",
       "                                                  Pipeline(steps=[('imputer',\n",
       "                                                                   SimpleImputer(fill_value=nan,\n",
       "                                                                                 strategy='constant')),\n",
       "                                                                  ('onehot',\n",
       "                                                                   OneHotEncoder(handle_unknown='i...\n",
       "                                                   'vehicles_involved',\n",
       "                                                   'passenger_sex',\n",
       "                                                   'passenger_type']),\n",
       "                                                 ('mcat',\n",
       "                                                  Pipeline(steps=[('imputer',\n",
       "                                                                   SimpleImputer(fill_value='missing',\n",
       "                                                                                 strategy='constant')),\n",
       "                                                                  ('target',\n",
       "                                                                   TargetEncoder(handle_unknown='ignore'))]),\n",
       "                                                  ['crash_type', 'crash_place',\n",
       "                                                   'crash_weather',\n",
       "                                                   'surface_state',\n",
       "                                                   'road_slope',\n",
       "                                                   'traffic_state',\n",
       "                                                   'vehicle_type',\n",
       "                                                   'passenger_safety'])])),\n",
       "                ('clasificador', GaussianNB())])"
      ]
     },
     "execution_count": 20,
     "metadata": {},
     "output_type": "execute_result"
    },
    {
     "name": "stdout",
     "output_type": "stream",
     "text": [
      "time: 62 ms (started: 2021-12-18 20:10:03 +01:00)\n"
     ]
    }
   ],
   "source": [
    "# Para no tener que ejecutar, saltarse el fit y ejecutar a partir de aquí\n",
    "cargar_modelo('../models/GNB.pickle')"
   ]
  },
  {
   "cell_type": "code",
   "execution_count": 22,
   "metadata": {},
   "outputs": [
    {
     "name": "stdout",
     "output_type": "stream",
     "text": [
      "ROC-AUC score of the model: 0.6915075906932969\n",
      "Accuracy of the model: 0.8819839529595426\n",
      "\n",
      "Classification report: \n",
      "              precision    recall  f1-score   support\n",
      "\n",
      "           0       0.99      0.89      0.94    799946\n",
      "           1       0.03      0.24      0.06     12291\n",
      "\n",
      "    accuracy                           0.88    812237\n",
      "   macro avg       0.51      0.56      0.50    812237\n",
      "weighted avg       0.97      0.88      0.92    812237\n",
      "\n",
      "\n",
      "Confusion matrix: \n",
      "[[713478  86468]\n",
      " [  9389   2902]]\n",
      "\n",
      "time: 8.25 s (started: 2021-12-18 20:10:23 +01:00)\n"
     ]
    }
   ],
   "source": [
    "ypred = naive_bayes.predict(xtest)\n",
    "ypred_proba = naive_bayes.predict_proba(xtest)\n",
    "evaluate_model(ytest,ypred,ypred_proba)"
   ]
  },
  {
   "cell_type": "markdown",
   "metadata": {},
   "source": [
    "## Ajuste del umbral de predicción"
   ]
  },
  {
   "cell_type": "code",
   "execution_count": 23,
   "metadata": {},
   "outputs": [
    {
     "name": "stdout",
     "output_type": "stream",
     "text": [
      "Best Threshold=0.001171, G-Mean=0.659\n",
      "ROC-AUC score of the model: 0.6915075906932969\n",
      "Accuracy of the model: 0.6182862883616481\n",
      "\n",
      "Classification report: \n",
      "              precision    recall  f1-score   support\n",
      "\n",
      "           0       0.99      0.62      0.76    799946\n",
      "           1       0.03      0.70      0.05     12291\n",
      "\n",
      "    accuracy                           0.62    812237\n",
      "   macro avg       0.51      0.66      0.41    812237\n",
      "weighted avg       0.98      0.62      0.75    812237\n",
      "\n",
      "\n",
      "Confusion matrix: \n",
      "[[493556 306390]\n",
      " [  3652   8639]]\n",
      "\n",
      "time: 1.59 s (started: 2021-12-18 20:10:38 +01:00)\n"
     ]
    }
   ],
   "source": [
    "#NEW\n",
    "# keep probabilities for the positive outcome only\n",
    "yhat = ypred_proba[:, 1]\n",
    "# calculate roc curves\n",
    "fpr, tpr, thresholds = roc_curve(ytest, yhat)\n",
    "\n",
    "gmeans = np.sqrt(tpr * (1-fpr))\n",
    "# locate the index of the largest g-mean\n",
    "ix = np.argmax(gmeans)\n",
    "print('Best Threshold=%f, G-Mean=%.3f' % (thresholds[ix], gmeans[ix]))\n",
    "\n",
    "ypred_new_threshold = (ypred_proba[:,1]>thresholds[ix]).astype(int)\n",
    "evaluate_model(ytest,ypred_new_threshold,ypred_proba)"
   ]
  }
 ],
 "metadata": {
  "interpreter": {
   "hash": "75234cef4d4b5401408a5d3b72f4265569f6601e8da7c73f173a51e561ebd976"
  },
  "kernelspec": {
   "display_name": "Python 3.8.12 64-bit ('core_models': conda)",
   "language": "python",
   "name": "python3"
  },
  "language_info": {
   "codemirror_mode": {
    "name": "ipython",
    "version": 3
   },
   "file_extension": ".py",
   "mimetype": "text/x-python",
   "name": "python",
   "nbconvert_exporter": "python",
   "pygments_lexer": "ipython3",
   "version": "3.8.12"
  },
  "orig_nbformat": 4
 },
 "nbformat": 4,
 "nbformat_minor": 2
}
