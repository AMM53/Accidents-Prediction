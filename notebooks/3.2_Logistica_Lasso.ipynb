{
 "cells": [
  {
   "cell_type": "markdown",
   "metadata": {},
   "source": [
    "# CUNEF MUCD 2021/2022  \n",
    "## Machine Learning\n",
    "## Análisis de Siniestralidad de Automóviles"
   ]
  },
  {
   "cell_type": "markdown",
   "metadata": {},
   "source": [
    "### Autores:\n",
    "- Andrés Mahía Morado\n",
    "- Antonio Tello Gómez\n"
   ]
  },
  {
   "cell_type": "markdown",
   "metadata": {},
   "source": [
    "# Regresión logística"
   ]
  },
  {
   "cell_type": "markdown",
   "metadata": {},
   "source": [
    "La regresión logística es el tipo de regresión por excelencia para tareas de clasificación. Se enmarca en el conjunto de Modelos Lineales Generalizados (GLM) y usa como función de enlace la función logit.  \n",
    "\n",
    "$\\operatorname{logit}\\left(p_{i}\\right)=\\ln \\left(\\frac{p_{i}}{1-p_{i}}\\right)=\\beta_{0}+\\beta_{1} x_{1, i}+\\cdots+\\beta_{k} x_{k, i}$"
   ]
  },
  {
   "cell_type": "markdown",
   "metadata": {},
   "source": [
    "![logistic](https://miro.medium.com/max/1280/1*CYAn9ACXrWX3IneHSoMVOQ.gif)"
   ]
  },
  {
   "cell_type": "markdown",
   "metadata": {},
   "source": [
    "# Regularización"
   ]
  },
  {
   "cell_type": "markdown",
   "metadata": {},
   "source": [
    "La regularización trata de penalizar la complejidad del modelo para evitar el overfitting, para ello se añade un término de penalización en la función de coste que tiende a reducir el tamaño de los coeficientes.  \n",
    "\n",
    "La regularización Ridge o L2 añade la magnitud de los coeficientes al cuadrado como termino de penalización en la función de coste:   \n",
    "\n",
    "$\\sum_{i=1}^{n}\\left(y_{i}-\\sum_{j=1}^{p} x_{i j} \\beta_{j}\\right)^{2}+\\lambda \\sum_{j=1}^{p} \\beta_{j}^{2}$  \n",
    "\n",
    "La regularización Lasso o L1 añade la magnitud de los coeficientes en valor absoluto como termino de penalización en la función de coste: \n",
    "\n",
    "$\\sum_{i=1}^{n}\\left(Y_{i}-\\sum_{j=1}^{p} X_{i j} \\beta_{j}\\right)^{2}+\\lambda \\sum_{j=1}^{p}\\left|\\beta_{j}\\right|$  \n",
    "\n",
    "El parámetro $\\lambda\\geq 0$ controla el tamaño de la penalización\n"
   ]
  },
  {
   "cell_type": "code",
   "execution_count": 1,
   "metadata": {},
   "outputs": [],
   "source": [
    "#Librerías\n",
    "import pandas as pd\n",
    "import numpy as np\n",
    "import matplotlib.pyplot as plt\n",
    "\n",
    "from sklearn.metrics import classification_report, confusion_matrix, roc_curve, auc, \\\n",
    "                            silhouette_score, recall_score, precision_score, make_scorer, \\\n",
    "                            roc_auc_score, f1_score, precision_recall_curve\n",
    "\n",
    "from sklearn.metrics import accuracy_score, roc_auc_score, \\\n",
    "                            classification_report, confusion_matrix\n",
    "\n",
    "\n",
    "from sklearn import metrics\n",
    "from sklearn.metrics import plot_confusion_matrix\n",
    "from sklearn.metrics import accuracy_score, log_loss\n",
    "from sklearn.metrics import ConfusionMatrixDisplay\n",
    "\n",
    "from sklearn.linear_model import Lasso, LogisticRegression\n",
    "from sklearn.linear_model import LogisticRegressionCV \n",
    "from sklearn.feature_selection import SelectFromModel\n",
    "\n",
    "from sklearn.pipeline import Pipeline\n",
    "from sklearn.compose import ColumnTransformer\n",
    "%load_ext autotime\n",
    "\n",
    "from aux_func import evaluate_model\n",
    "from aux_func import cargar_modelo\n",
    "import pickle\n",
    "import warnings\n",
    "warnings.filterwarnings('ignore')"
   ]
  },
  {
   "cell_type": "code",
   "execution_count": 2,
   "metadata": {},
   "outputs": [
    {
     "name": "stdout",
     "output_type": "stream",
     "text": [
      "time: 2.3 s\n"
     ]
    }
   ],
   "source": [
    "xtrain = pd.read_parquet(\"../data/xtrain.parquet\")\n",
    "ytrain = pd.read_parquet(\"../data/ytrain.parquet\")['fatality']\n",
    "xtest = pd.read_parquet(\"../data/xtest.parquet\")\n",
    "ytest = pd.read_parquet(\"../data/ytest.parquet\")['fatality']"
   ]
  },
  {
   "cell_type": "code",
   "execution_count": 3,
   "metadata": {},
   "outputs": [
    {
     "name": "stdout",
     "output_type": "stream",
     "text": [
      "time: 430 ms\n"
     ]
    }
   ],
   "source": [
    "#Cargamos pipeline preprocesado\n",
    "preprocessor = cargar_modelo('../models/preprocessor.pickle')"
   ]
  },
  {
   "cell_type": "markdown",
   "metadata": {},
   "source": [
    "# Regresión Logística (Ridge)"
   ]
  },
  {
   "cell_type": "code",
   "execution_count": 4,
   "metadata": {},
   "outputs": [
    {
     "name": "stdout",
     "output_type": "stream",
     "text": [
      "time: 0 ns (started: 2021-12-18 20:11:55 +01:00)\n"
     ]
    }
   ],
   "source": [
    "clf = Pipeline(steps=[\n",
    "    ('preprocesador', preprocessor), \n",
    "    ('clasificador', LogisticRegressionCV(cv=8, n_jobs=4, penalty='l2', random_state=0))])"
   ]
  },
  {
   "cell_type": "code",
   "execution_count": 5,
   "metadata": {},
   "outputs": [
    {
     "data": {
      "text/plain": [
       "Pipeline(steps=[('preprocesador',\n",
       "                 ColumnTransformer(transformers=[('num',\n",
       "                                                  Pipeline(steps=[('imputer',\n",
       "                                                                   SimpleImputer(strategy='median')),\n",
       "                                                                  ('scaler',\n",
       "                                                                   StandardScaler())]),\n",
       "                                                  ['vehicle_age',\n",
       "                                                   'passenger_age',\n",
       "                                                   'vehicles_involved',\n",
       "                                                   'year']),\n",
       "                                                 ('fcat',\n",
       "                                                  Pipeline(steps=[('imputer',\n",
       "                                                                   SimpleImputer(fill_value=nan,\n",
       "                                                                                 strategy='constant')),\n",
       "                                                                  ('onehot',\n",
       "                                                                   OneHotEncoder(handle_unknown='i...\n",
       "                                                   'passenger_type']),\n",
       "                                                 ('mcat',\n",
       "                                                  Pipeline(steps=[('imputer',\n",
       "                                                                   SimpleImputer(fill_value='missing',\n",
       "                                                                                 strategy='constant')),\n",
       "                                                                  ('target',\n",
       "                                                                   TargetEncoder(handle_unknown='ignore'))]),\n",
       "                                                  ['crash_type', 'crash_place',\n",
       "                                                   'crash_weather',\n",
       "                                                   'surface_state',\n",
       "                                                   'road_slope',\n",
       "                                                   'traffic_state',\n",
       "                                                   'vehicle_type',\n",
       "                                                   'passenger_safety'])])),\n",
       "                ('clasificador',\n",
       "                 LogisticRegressionCV(cv=8, n_jobs=4, random_state=0))])"
      ]
     },
     "execution_count": 5,
     "metadata": {},
     "output_type": "execute_result"
    },
    {
     "name": "stdout",
     "output_type": "stream",
     "text": [
      "time: 11min 31s (started: 2021-12-18 20:11:56 +01:00)\n"
     ]
    }
   ],
   "source": [
    "clf.fit(xtrain, ytrain)"
   ]
  },
  {
   "cell_type": "code",
   "execution_count": 6,
   "metadata": {},
   "outputs": [
    {
     "name": "stdout",
     "output_type": "stream",
     "text": [
      "time: 94 ms (started: 2021-12-18 20:23:28 +01:00)\n"
     ]
    }
   ],
   "source": [
    "with open('../models/LR.pickle', 'wb') as f:\n",
    "    pickle.dump(clf, f)"
   ]
  },
  {
   "cell_type": "code",
   "execution_count": 7,
   "metadata": {},
   "outputs": [
    {
     "data": {
      "text/plain": [
       "Pipeline(steps=[('preprocesador',\n",
       "                 ColumnTransformer(transformers=[('num',\n",
       "                                                  Pipeline(steps=[('imputer',\n",
       "                                                                   SimpleImputer(strategy='median')),\n",
       "                                                                  ('scaler',\n",
       "                                                                   StandardScaler())]),\n",
       "                                                  ['vehicle_age',\n",
       "                                                   'passenger_age',\n",
       "                                                   'vehicles_involved',\n",
       "                                                   'year']),\n",
       "                                                 ('fcat',\n",
       "                                                  Pipeline(steps=[('imputer',\n",
       "                                                                   SimpleImputer(fill_value=nan,\n",
       "                                                                                 strategy='constant')),\n",
       "                                                                  ('onehot',\n",
       "                                                                   OneHotEncoder(handle_unknown='i...\n",
       "                                                   'passenger_type']),\n",
       "                                                 ('mcat',\n",
       "                                                  Pipeline(steps=[('imputer',\n",
       "                                                                   SimpleImputer(fill_value='missing',\n",
       "                                                                                 strategy='constant')),\n",
       "                                                                  ('target',\n",
       "                                                                   TargetEncoder(handle_unknown='ignore'))]),\n",
       "                                                  ['crash_type', 'crash_place',\n",
       "                                                   'crash_weather',\n",
       "                                                   'surface_state',\n",
       "                                                   'road_slope',\n",
       "                                                   'traffic_state',\n",
       "                                                   'vehicle_type',\n",
       "                                                   'passenger_safety'])])),\n",
       "                ('clasificador',\n",
       "                 LogisticRegressionCV(cv=8, n_jobs=4, random_state=0))])"
      ]
     },
     "execution_count": 7,
     "metadata": {},
     "output_type": "execute_result"
    },
    {
     "name": "stdout",
     "output_type": "stream",
     "text": [
      "time: 62 ms (started: 2021-12-18 20:23:28 +01:00)\n"
     ]
    }
   ],
   "source": [
    "# Para no tener que ejecutar, saltarse el fit y ejecutar a partir de aquí\n",
    "cargar_modelo('../models/LR.pickle')"
   ]
  },
  {
   "cell_type": "code",
   "execution_count": 9,
   "metadata": {},
   "outputs": [
    {
     "name": "stdout",
     "output_type": "stream",
     "text": [
      "ROC-AUC score of the model: 0.6638737043132967\n",
      "Accuracy of the model: 0.984867717181069\n",
      "\n",
      "Classification report: \n",
      "              precision    recall  f1-score   support\n",
      "\n",
      "           0       0.98      1.00      0.99    799946\n",
      "           1       0.00      0.00      0.00     12291\n",
      "\n",
      "    accuracy                           0.98    812237\n",
      "   macro avg       0.49      0.50      0.50    812237\n",
      "weighted avg       0.97      0.98      0.98    812237\n",
      "\n",
      "\n",
      "Confusion matrix: \n",
      "[[799946      0]\n",
      " [ 12291      0]]\n",
      "\n",
      "time: 7.19 s (started: 2021-12-18 20:29:58 +01:00)\n"
     ]
    }
   ],
   "source": [
    "ypred = clf.predict(xtest)\n",
    "ypred_proba = clf.predict_proba(xtest)\n",
    "evaluate_model(ytest,ypred, ypred_proba)"
   ]
  },
  {
   "cell_type": "markdown",
   "metadata": {},
   "source": [
    "## Ajuste del umbral de predicción"
   ]
  },
  {
   "cell_type": "code",
   "execution_count": 10,
   "metadata": {},
   "outputs": [
    {
     "name": "stdout",
     "output_type": "stream",
     "text": [
      "Best Threshold=0.015444, G-Mean=0.620\n",
      "ROC-AUC score of the model: 0.6638737043132967\n",
      "Accuracy of the model: 0.6292387566683123\n",
      "\n",
      "Classification report: \n",
      "              precision    recall  f1-score   support\n",
      "\n",
      "           0       0.99      0.63      0.77    799946\n",
      "           1       0.02      0.61      0.05     12291\n",
      "\n",
      "    accuracy                           0.63    812237\n",
      "   macro avg       0.51      0.62      0.41    812237\n",
      "weighted avg       0.98      0.63      0.76    812237\n",
      "\n",
      "\n",
      "Confusion matrix: \n",
      "[[503598 296348]\n",
      " [  4798   7493]]\n",
      "\n",
      "time: 1.64 s (started: 2021-12-18 20:30:38 +01:00)\n"
     ]
    }
   ],
   "source": [
    "# keep probabilities for the positive outcome only\n",
    "yhat = ypred_proba[:, 1]\n",
    "# calculate roc curves\n",
    "fpr, tpr, thresholds = roc_curve(ytest, yhat)\n",
    "\n",
    "gmeans = np.sqrt(tpr * (1-fpr))\n",
    "# locate the index of the largest g-mean\n",
    "ix = np.argmax(gmeans)\n",
    "print('Best Threshold=%f, G-Mean=%.3f' % (thresholds[ix], gmeans[ix]))\n",
    "\n",
    "ypred_new_threshold = (ypred_proba[:,1]>thresholds[ix]).astype(int)\n",
    "evaluate_model(ytest,ypred_new_threshold,ypred_proba)"
   ]
  },
  {
   "cell_type": "markdown",
   "metadata": {},
   "source": [
    "# Regresión Logística (Lasso)"
   ]
  },
  {
   "cell_type": "code",
   "execution_count": 10,
   "metadata": {},
   "outputs": [
    {
     "name": "stdout",
     "output_type": "stream",
     "text": [
      "time: 36.9 ms\n"
     ]
    }
   ],
   "source": [
    "clf = Pipeline(steps=[\n",
    "    ('preprocesador', preprocessor), \n",
    "    ('clasificador', LogisticRegression(C=1.5,random_state=0, n_jobs=2, penalty='l1', solver='liblinear', tol= 0.0005))])"
   ]
  },
  {
   "cell_type": "code",
   "execution_count": 11,
   "metadata": {},
   "outputs": [
    {
     "data": {
      "text/plain": [
       "Pipeline(steps=[('preprocesador',\n",
       "                 ColumnTransformer(transformers=[('num',\n",
       "                                                  Pipeline(steps=[('imputer',\n",
       "                                                                   SimpleImputer(strategy='median')),\n",
       "                                                                  ('scaler',\n",
       "                                                                   StandardScaler())]),\n",
       "                                                  ['vehicle_age',\n",
       "                                                   'passenger_age',\n",
       "                                                   'vehicles_involved']),\n",
       "                                                 ('fcat',\n",
       "                                                  Pipeline(steps=[('imputer',\n",
       "                                                                   SimpleImputer(fill_value=nan,\n",
       "                                                                                 strategy='constant')),\n",
       "                                                                  ('onehot',\n",
       "                                                                   OneHotEncoder(handle_unknown='ignore')...\n",
       "                                                  Pipeline(steps=[('imputer',\n",
       "                                                                   SimpleImputer(fill_value='missing',\n",
       "                                                                                 strategy='constant')),\n",
       "                                                                  ('target',\n",
       "                                                                   TargetEncoder(handle_unknown='ignore'))]),\n",
       "                                                  ['crash_type', 'crash_place',\n",
       "                                                   'crash_weather',\n",
       "                                                   'surface_state',\n",
       "                                                   'road_slope',\n",
       "                                                   'traffic_state',\n",
       "                                                   'vehicle_type',\n",
       "                                                   'passenger_safety'])])),\n",
       "                ('clasificador',\n",
       "                 LogisticRegression(C=1.5, n_jobs=2, penalty='l1',\n",
       "                                    random_state=0, solver='liblinear',\n",
       "                                    tol=0.0005))])"
      ]
     },
     "execution_count": 11,
     "metadata": {},
     "output_type": "execute_result"
    },
    {
     "name": "stdout",
     "output_type": "stream",
     "text": [
      "time: 2min 43s\n"
     ]
    }
   ],
   "source": [
    "clf.fit(xtrain, ytrain)"
   ]
  },
  {
   "cell_type": "code",
   "execution_count": 12,
   "metadata": {},
   "outputs": [
    {
     "name": "stdout",
     "output_type": "stream",
     "text": [
      "time: 271 ms\n"
     ]
    }
   ],
   "source": [
    "with open('../models/LRlasso.pickle', 'wb') as f:\n",
    "    pickle.dump(clf, f)"
   ]
  },
  {
   "cell_type": "code",
   "execution_count": 13,
   "metadata": {},
   "outputs": [
    {
     "data": {
      "text/plain": [
       "Pipeline(steps=[('preprocesador',\n",
       "                 ColumnTransformer(transformers=[('num',\n",
       "                                                  Pipeline(steps=[('imputer',\n",
       "                                                                   SimpleImputer(strategy='median')),\n",
       "                                                                  ('scaler',\n",
       "                                                                   StandardScaler())]),\n",
       "                                                  ['vehicle_age',\n",
       "                                                   'passenger_age',\n",
       "                                                   'vehicles_involved']),\n",
       "                                                 ('fcat',\n",
       "                                                  Pipeline(steps=[('imputer',\n",
       "                                                                   SimpleImputer(fill_value=nan,\n",
       "                                                                                 strategy='constant')),\n",
       "                                                                  ('onehot',\n",
       "                                                                   OneHotEncoder(handle_unknown='ignore')...\n",
       "                                                  Pipeline(steps=[('imputer',\n",
       "                                                                   SimpleImputer(fill_value='missing',\n",
       "                                                                                 strategy='constant')),\n",
       "                                                                  ('target',\n",
       "                                                                   TargetEncoder(handle_unknown='ignore'))]),\n",
       "                                                  ['crash_type', 'crash_place',\n",
       "                                                   'crash_weather',\n",
       "                                                   'surface_state',\n",
       "                                                   'road_slope',\n",
       "                                                   'traffic_state',\n",
       "                                                   'vehicle_type',\n",
       "                                                   'passenger_safety'])])),\n",
       "                ('clasificador',\n",
       "                 LogisticRegression(C=1.5, n_jobs=2, penalty='l1',\n",
       "                                    random_state=0, solver='liblinear',\n",
       "                                    tol=0.0005))])"
      ]
     },
     "execution_count": 13,
     "metadata": {},
     "output_type": "execute_result"
    },
    {
     "name": "stdout",
     "output_type": "stream",
     "text": [
      "time: 289 ms\n"
     ]
    }
   ],
   "source": [
    "cargar_modelo('../models/LRlasso.pickle')"
   ]
  },
  {
   "cell_type": "code",
   "execution_count": 14,
   "metadata": {},
   "outputs": [
    {
     "name": "stdout",
     "output_type": "stream",
     "text": [
      "ROC-AUC score of the model: 0.6762134387281621\n",
      "Accuracy of the model: 0.984867717181069\n",
      "\n",
      "Classification report: \n",
      "              precision    recall  f1-score   support\n",
      "\n",
      "           0       0.98      1.00      0.99    799946\n",
      "           1       0.00      0.00      0.00     12291\n",
      "\n",
      "    accuracy                           0.98    812237\n",
      "   macro avg       0.49      0.50      0.50    812237\n",
      "weighted avg       0.97      0.98      0.98    812237\n",
      "\n",
      "\n",
      "Confusion matrix: \n",
      "[[799946      0]\n",
      " [ 12291      0]]\n",
      "\n",
      "time: 24 s\n"
     ]
    }
   ],
   "source": [
    "ypred = clf.predict(xtest)\n",
    "ypred_proba = clf.predict_proba(xtest)\n",
    "evaluate_model(ytest, ypred, ypred_proba)"
   ]
  },
  {
   "cell_type": "markdown",
   "metadata": {},
   "source": [
    "## Ajuste del umbral de predicción"
   ]
  },
  {
   "cell_type": "code",
   "execution_count": 15,
   "metadata": {},
   "outputs": [
    {
     "name": "stdout",
     "output_type": "stream",
     "text": [
      "Best Threshold=0.014502, G-Mean=0.628\n",
      "ROC-AUC score of the model: 0.6762134387281621\n",
      "Accuracy of the model: 0.6299516027957357\n",
      "\n",
      "Classification report: \n",
      "              precision    recall  f1-score   support\n",
      "\n",
      "           0       0.99      0.63      0.77    799946\n",
      "           1       0.03      0.63      0.05     12291\n",
      "\n",
      "    accuracy                           0.63    812237\n",
      "   macro avg       0.51      0.63      0.41    812237\n",
      "weighted avg       0.98      0.63      0.76    812237\n",
      "\n",
      "\n",
      "Confusion matrix: \n",
      "[[503965 295981]\n",
      " [  4586   7705]]\n",
      "\n",
      "time: 8.74 s\n"
     ]
    }
   ],
   "source": [
    "# keep probabilities for the positive outcome only\n",
    "yhat = ypred_proba[:, 1]\n",
    "# calculate roc curves\n",
    "fpr, tpr, thresholds = roc_curve(ytest, yhat)\n",
    "\n",
    "gmeans = np.sqrt(tpr * (1-fpr))\n",
    "# locate the index of the largest g-mean\n",
    "ix = np.argmax(gmeans)\n",
    "print('Best Threshold=%f, G-Mean=%.3f' % (thresholds[ix], gmeans[ix]))\n",
    "\n",
    "ypred_new_threshold = (ypred_proba[:,1]>thresholds[ix]).astype(int)\n",
    "evaluate_model(ytest,ypred_new_threshold,ypred_proba)"
   ]
  }
 ],
 "metadata": {
  "interpreter": {
   "hash": "75234cef4d4b5401408a5d3b72f4265569f6601e8da7c73f173a51e561ebd976"
  },
  "kernelspec": {
   "display_name": "Python 3.8.12 64-bit ('core_models': conda)",
   "language": "python",
   "name": "python3"
  },
  "language_info": {
   "codemirror_mode": {
    "name": "ipython",
    "version": 3
   },
   "file_extension": ".py",
   "mimetype": "text/x-python",
   "name": "python",
   "nbconvert_exporter": "python",
   "pygments_lexer": "ipython3",
   "version": "3.8.8"
  },
  "orig_nbformat": 4
 },
 "nbformat": 4,
 "nbformat_minor": 2
}
