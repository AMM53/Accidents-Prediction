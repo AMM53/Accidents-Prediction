{
 "cells": [
  {
   "cell_type": "code",
   "execution_count": null,
   "metadata": {},
   "outputs": [],
   "source": [
    "rf = Pipeline(steps=[('classifier', RandomForestClassifier())])"
   ]
  },
  {
   "cell_type": "code",
   "execution_count": null,
   "metadata": {},
   "outputs": [],
   "source": [
    "### Parameter Tunning Optimization\n",
    "param_grid = { \n",
    "    'classifier__n_estimators': [200], # poner tantos como se quiera probar\n",
    "    'classifier__max_features': ['auto'], #['auto', 'sqrt', 'log2']\n",
    "    'classifier__max_depth' : [4], # [4,5,6,7,8]\n",
    "    'classifier__criterion' :['gini']} #['gini', 'entropy']\n",
    "\n",
    "from sklearn.model_selection import GridSearchCV, RandomizedSearchCV\n",
    "\n",
    "CV = GridSearchCV(rf, param_grid, cv=10, n_jobs=2)"
   ]
  },
  {
   "cell_type": "code",
   "execution_count": null,
   "metadata": {},
   "outputs": [],
   "source": [
    "model = CatBoostClassifier(random_state=0, task_type=\"GPU\")\n",
    "\n",
    "grid = {'learning_rate': [0.1],\n",
    "        'depth': [6], #, 8],\n",
    "        'l2_leaf_reg': [3],} #, 5, 7]}\n",
    "\n",
    "Grid_model = GridSearchCV(estimator=model, param_grid=grid, cv = 2)\n",
    "\n",
    "Grid_model.fit(xtrain, ytrain)\n",
    "\n",
    "print(\" Results from Grid Search \" )\n",
    "print(\"\\n The best estimator across ALL searched params:\\n\",Grid_model.best_estimator_)\n",
    "print(\"\\n The best score across ALL searched params:\\n\",Grid_model.best_score_)\n",
    "print(\"\\n The best parameters across ALL searched params:\\n\",Grid_model.best_params_)\n",
    "ypred = Grid_model.predict(xtest)\n",
    "ypred_proba = Grid_model.predict_proba(xtest)"
   ]
  }
 ],
 "metadata": {
  "language_info": {
   "name": "python"
  },
  "orig_nbformat": 4
 },
 "nbformat": 4,
 "nbformat_minor": 2
}
