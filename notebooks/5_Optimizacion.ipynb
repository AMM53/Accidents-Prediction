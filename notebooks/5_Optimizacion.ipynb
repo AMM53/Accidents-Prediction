{
 "cells": [
  {
   "cell_type": "markdown",
   "metadata": {},
   "source": [
    "# CUNEF MUCD 2021/2022  \n",
    "## Machine Learning\n",
    "## Análisis de Siniestralidad de Automóviles\n",
    "\n",
    "### Autores:\n",
    "- Andrés Mahía Morado\n",
    "- Antonio Tello Gómez\n"
   ]
  },
  {
   "cell_type": "code",
   "execution_count": 1,
   "metadata": {},
   "outputs": [],
   "source": [
    "import pandas as pd\n",
    "from sklearn.ensemble import RandomForestClassifier\n",
    "import pandas as pd\n",
    "import numpy as np\n",
    "import matplotlib.pyplot as plt\n",
    "import seaborn as sns\n",
    "\n",
    "import sklearn\n",
    "\n",
    "from sklearn.model_selection import train_test_split\n",
    "from sklearn.model_selection import cross_validate, KFold\n",
    "\n",
    "from sklearn.metrics import classification_report, confusion_matrix, roc_curve, auc, \\\n",
    "                            silhouette_score, recall_score, precision_score, make_scorer, \\\n",
    "                            roc_auc_score, f1_score, precision_recall_curve\n",
    "\n",
    "from sklearn.metrics import accuracy_score, roc_auc_score, \\\n",
    "                            classification_report, confusion_matrix\n",
    "\n",
    "\n",
    "from sklearn import metrics\n",
    "from sklearn.metrics import plot_confusion_matrix\n",
    "\n",
    "from sklearn.pipeline import Pipeline\n",
    "from sklearn.metrics import accuracy_score, log_loss\n",
    "from sklearn.neighbors import KNeighborsClassifier\n",
    "from lightgbm import LGBMClassifier\n",
    "from sklearn.svm import SVC, LinearSVC, NuSVC\n",
    "from sklearn.tree import DecisionTreeClassifier\n",
    "from sklearn.ensemble import RandomForestClassifier, AdaBoostClassifier, GradientBoostingClassifier\n",
    "from sklearn.discriminant_analysis import LinearDiscriminantAnalysis\n",
    "from sklearn.metrics import ConfusionMatrixDisplay\n",
    "from sklearn.model_selection import GridSearchCV, RandomizedSearchCV\n",
    "import warnings\n",
    "from sklearn.preprocessing import StandardScaler\n",
    "from category_encoders import TargetEncoder\n",
    "from sklearn.preprocessing import OneHotEncoder\n",
    "from sklearn.impute import SimpleImputer, MissingIndicator\n",
    "from sklearn.compose import ColumnTransformer\n",
    "\n",
    "warnings.filterwarnings('ignore')\n",
    "\n",
    "from aux_func import evaluate_model\n",
    "from aux_func import model_analysis, cargar_modelo\n",
    "import lightgbm as lgb\n",
    "import pickle\n"
   ]
  },
  {
   "cell_type": "code",
   "execution_count": 2,
   "metadata": {},
   "outputs": [],
   "source": [
    "import pickle\n",
    "import pandas as pd\n",
    "import numpy as np\n",
    "from sklearn.model_selection import GridSearchCV\n",
    "from aux_func import model_analysis, cargar_modelo"
   ]
  },
  {
   "cell_type": "code",
   "execution_count": 3,
   "metadata": {},
   "outputs": [],
   "source": [
    "#Cargamos pipeline preprocesado. Esto no funciona por cuestiones de incompatibilidad entre pickle y GridSearchCV. Funciona pero sin multithreading (n_jobs máximo es 1)\n",
    "# por lo que generamos de nuevo el preprocessor\n",
    "\n",
    "preprocessor = cargar_modelo('../models/preprocessor.pickle')"
   ]
  },
  {
   "cell_type": "code",
   "execution_count": 4,
   "metadata": {},
   "outputs": [],
   "source": [
    "xtrain = pd.read_parquet(\"../data/xtrain.parquet\")\n",
    "ytrain = pd.read_parquet(\"../data/ytrain.parquet\")['fatality']\n",
    "xtest = pd.read_parquet(\"../data/xtest.parquet\")\n",
    "ytest = pd.read_parquet(\"../data/ytest.parquet\")['fatality']"
   ]
  },
  {
   "cell_type": "markdown",
   "metadata": {},
   "source": [
    "# Optimización de modelos"
   ]
  },
  {
   "cell_type": "markdown",
   "metadata": {},
   "source": [
    "## LightGBM"
   ]
  },
  {
   "cell_type": "markdown",
   "metadata": {},
   "source": [
    "Generamos un campo de parámetros cuyas combinaciones serán probadas mediante una búsqueda Grid, que irá descartando combinaciones de parámetros si determina que ha encontrado un \"camino\" que genere modelos más precisos.\n",
    "Utilizamos el ROC-AUC score como métrica a optimizar, en vez del parámetro por defecto *precisión* ya que esta será muy alta de todas maneras al estar utilizando datos desbalanceados."
   ]
  },
  {
   "cell_type": "code",
   "execution_count": 5,
   "metadata": {},
   "outputs": [],
   "source": [
    "lightgbm = cargar_modelo(\"../models/LightGBM.pickle\")"
   ]
  },
  {
   "cell_type": "code",
   "execution_count": 6,
   "metadata": {},
   "outputs": [],
   "source": [
    "lightgbm = Pipeline(steps=[('preprocessor', preprocessor),\n",
    "                            ('clasificador', lgb.LGBMClassifier())])"
   ]
  },
  {
   "cell_type": "code",
   "execution_count": 7,
   "metadata": {},
   "outputs": [],
   "source": [
    "param_grid = { \n",
    "    'clasificador__is_unbalance': [True],\n",
    "    'clasificador__max_depth': [-1],\n",
    "    'clasificador__objective': ['binary'],\n",
    "    'clasificador__learning_rate': [0.1, 0.05], \n",
    "    'clasificador__n_estimators' : [200, 300, 400], \n",
    "    'clasificador__importance_type' : ['split', 'gain'],\n",
    "    'clasificador__num_leaves': [50, 100, 200]\n",
    "    }\n",
    "\n",
    "CV = GridSearchCV(lightgbm, param_grid, cv=3, n_jobs=8, scoring='roc_auc', verbose=1)"
   ]
  },
  {
   "cell_type": "code",
   "execution_count": 8,
   "metadata": {},
   "outputs": [
    {
     "name": "stdout",
     "output_type": "stream",
     "text": [
      "Fitting 3 folds for each of 36 candidates, totalling 108 fits\n"
     ]
    },
    {
     "data": {
      "text/plain": [
       "GridSearchCV(cv=3,\n",
       "             estimator=Pipeline(steps=[('preprocessor',\n",
       "                                        ColumnTransformer(transformers=[('num',\n",
       "                                                                         Pipeline(steps=[('imputer',\n",
       "                                                                                          SimpleImputer(strategy='median')),\n",
       "                                                                                         ('scaler',\n",
       "                                                                                          StandardScaler())]),\n",
       "                                                                         ['vehicle_age',\n",
       "                                                                          'passenger_age',\n",
       "                                                                          'vehicles_involved',\n",
       "                                                                          'year']),\n",
       "                                                                        ('fcat',\n",
       "                                                                         Pipeline(steps=[('imputer',\n",
       "                                                                                          SimpleImputer(fill_value=nan,\n",
       "                                                                                                        strategy='constant')),\n",
       "                                                                                         ('onehot',\n",
       "                                                                                          OneH...\n",
       "                                       ('clasificador', LGBMClassifier())]),\n",
       "             n_jobs=8,\n",
       "             param_grid={'clasificador__importance_type': ['split', 'gain'],\n",
       "                         'clasificador__is_unbalance': [True],\n",
       "                         'clasificador__learning_rate': [0.1, 0.05],\n",
       "                         'clasificador__max_depth': [-1],\n",
       "                         'clasificador__n_estimators': [200, 300, 400],\n",
       "                         'clasificador__num_leaves': [50, 100, 200],\n",
       "                         'clasificador__objective': ['binary']},\n",
       "             scoring='roc_auc', verbose=1)"
      ]
     },
     "execution_count": 8,
     "metadata": {},
     "output_type": "execute_result"
    }
   ],
   "source": [
    "CV.fit(xtrain,ytrain)"
   ]
  },
  {
   "cell_type": "code",
   "execution_count": 14,
   "metadata": {},
   "outputs": [],
   "source": [
    "with open('../models/LightGBM_optimizado.pickle', 'wb') as f:\n",
    "    pickle.dump(CV, f)"
   ]
  },
  {
   "cell_type": "code",
   "execution_count": 23,
   "metadata": {},
   "outputs": [],
   "source": [
    "# Para no tener que ejecutar, saltarse el fit y ejecutar a partir de aquí\n",
    "with open('../models/LightGBM_optimizado.pickle', 'rb') as f:\n",
    "    CV = pickle.load(f)"
   ]
  },
  {
   "cell_type": "markdown",
   "metadata": {},
   "source": [
    "¿Qué parámetros del modelo son los más óptimos, dentro de los que hemos escogido?\n",
    "\n",
    "Además, generamos las predicciones para los datos de validación o test."
   ]
  },
  {
   "cell_type": "code",
   "execution_count": 24,
   "metadata": {},
   "outputs": [
    {
     "name": "stdout",
     "output_type": "stream",
     "text": [
      "{'clasificador__importance_type': 'split', 'clasificador__is_unbalance': True, 'clasificador__learning_rate': 0.05, 'clasificador__max_depth': -1, 'clasificador__n_estimators': 300, 'clasificador__num_leaves': 200, 'clasificador__objective': 'binary'}\n",
      "0.8552825906023136\n"
     ]
    }
   ],
   "source": [
    "print(CV.best_params_)\n",
    "print(CV.best_score_)\n",
    "ypred = CV.predict(xtest)\n",
    "ypred_proba = CV.predict_proba(xtest)"
   ]
  },
  {
   "cell_type": "markdown",
   "metadata": {},
   "source": [
    "Evaluamos el modelo"
   ]
  },
  {
   "cell_type": "code",
   "execution_count": 25,
   "metadata": {},
   "outputs": [
    {
     "name": "stdout",
     "output_type": "stream",
     "text": [
      "ROC-AUC score of the model: 0.8631091807671063\n",
      "Accuracy of the model: 0.8031338143916124\n",
      "\n",
      "Classification report: \n",
      "              precision    recall  f1-score   support\n",
      "\n",
      "           0       1.00      0.80      0.89    799946\n",
      "           1       0.06      0.75      0.10     12291\n",
      "\n",
      "    accuracy                           0.80    812237\n",
      "   macro avg       0.53      0.78      0.50    812237\n",
      "weighted avg       0.98      0.80      0.88    812237\n",
      "\n",
      "\n",
      "Confusion matrix: \n",
      "[[643103 156843]\n",
      " [  3059   9232]]\n",
      "\n"
     ]
    }
   ],
   "source": [
    "evaluate_model(ytest, ypred, ypred_proba)"
   ]
  },
  {
   "cell_type": "markdown",
   "metadata": {},
   "source": [
    "El modelo obtiene un recall del 80% y 74% para los valores 0 y 1 respectivamente.\n",
    "Respecto al modelo obtenido previamente, la mejoría es notable ya que la pérdida de recall en la clase positiva se ve compensada por una ganancia equivalente en el recall de la clase negativa. Sin embargo, y recordando el desbalanceo presente en los datos, la pérdida de recall en la clase negativa supone un mayor número de observaciones en las que nuestro modelo se ha equivocado por lo que debemos minimizarla."
   ]
  },
  {
   "cell_type": "markdown",
   "metadata": {},
   "source": [
    "### Ajuste del umbral de predicción\n",
    "\n",
    "Realizamos las predicciones del modelo con el umbral de predicción ajustado a la curva ROC."
   ]
  },
  {
   "cell_type": "code",
   "execution_count": 13,
   "metadata": {},
   "outputs": [
    {
     "name": "stdout",
     "output_type": "stream",
     "text": [
      "Best Threshold=0.484888, G-Mean=0.779\n",
      "ROC-AUC score of the model: 0.8631091807671063\n",
      "Accuracy of the model: 0.7910523652579234\n",
      "\n",
      "Classification report: \n",
      "              precision    recall  f1-score   support\n",
      "\n",
      "           0       1.00      0.79      0.88    799946\n",
      "           1       0.05      0.77      0.10     12291\n",
      "\n",
      "    accuracy                           0.79    812237\n",
      "   macro avg       0.52      0.78      0.49    812237\n",
      "weighted avg       0.98      0.79      0.87    812237\n",
      "\n",
      "\n",
      "Confusion matrix: \n",
      "[[633097 166849]\n",
      " [  2866   9425]]\n",
      "\n"
     ]
    }
   ],
   "source": [
    "# keep probabilities for the positive outcome only\n",
    "yhat = ypred_proba[:, 1]\n",
    "# calculate roc curves\n",
    "fpr, tpr, thresholds = roc_curve(ytest, yhat)\n",
    "\n",
    "gmeans = np.sqrt(tpr * (1-fpr))\n",
    "# locate the index of the largest g-mean\n",
    "ix = np.argmax(gmeans)\n",
    "print('Best Threshold=%f, G-Mean=%.3f' % (thresholds[ix], gmeans[ix]))\n",
    "\n",
    "ypred_new_threshold = (ypred_proba[:,1]>thresholds[ix]).astype(int)\n",
    "evaluate_model(ytest,ypred_new_threshold,ypred_proba)"
   ]
  },
  {
   "cell_type": "markdown",
   "metadata": {},
   "source": [
    "## Random Forest"
   ]
  },
  {
   "cell_type": "markdown",
   "metadata": {},
   "source": [
    "Generamos el *param grid* para el modelo Random Forest y procedemos a entrenar el modelo con los datos de *train*"
   ]
  },
  {
   "cell_type": "code",
   "execution_count": 16,
   "metadata": {},
   "outputs": [],
   "source": [
    "rf = Pipeline(steps=[\n",
    "    ('preprocesador', preprocessor),\n",
    "    ('clasificador', RandomForestClassifier())])\n",
    "\n",
    "### Parameter Tunning Optimization\n",
    "param_grid = { \n",
    "    'clasificador__n_estimators': [200, 250, 500],\n",
    "    'clasificador__max_features': ['sqrt', 'log2'],\n",
    "    'clasificador__max_depth' : [4, 6, 8, None],\n",
    "    'clasificador__criterion' :['gini'],\n",
    "    'clasificador__class_weight':['balanced']}\n",
    "\n",
    "\n",
    "CV = GridSearchCV(rf, param_grid, cv=3, n_jobs=8, scoring='roc_auc', verbose=1)"
   ]
  },
  {
   "cell_type": "code",
   "execution_count": 17,
   "metadata": {},
   "outputs": [
    {
     "name": "stdout",
     "output_type": "stream",
     "text": [
      "Fitting 3 folds for each of 24 candidates, totalling 72 fits\n",
      "{'clasificador__class_weight': 'balanced', 'clasificador__criterion': 'gini', 'clasificador__max_depth': None, 'clasificador__max_features': 'sqrt', 'clasificador__n_estimators': 500}\n",
      "0.8348362450542549\n"
     ]
    }
   ],
   "source": [
    "CV.fit(xtrain, ytrain)\n",
    "print(CV.best_params_)\n",
    "print(CV.best_score_)"
   ]
  },
  {
   "cell_type": "code",
   "execution_count": 18,
   "metadata": {},
   "outputs": [],
   "source": [
    "with open('../models/RandomForest_optimizado.pickle', 'wb') as f:\n",
    "    pickle.dump(CV, f)"
   ]
  },
  {
   "cell_type": "code",
   "execution_count": 19,
   "metadata": {},
   "outputs": [],
   "source": [
    "# Para no tener que ejecutar, saltarse el fit y ejecutar a partir de aquí\n",
    "with open('../models/RandomForest_optimizado.pickle', 'rb') as f:\n",
    "    CV = pickle.load(f)"
   ]
  },
  {
   "cell_type": "markdown",
   "metadata": {},
   "source": [
    "Obtenemos los parámetros mas precisos para el modelo y generamos las series de predicción *ypred* e *ypred_proba*"
   ]
  },
  {
   "cell_type": "code",
   "execution_count": 20,
   "metadata": {},
   "outputs": [
    {
     "name": "stdout",
     "output_type": "stream",
     "text": [
      "{'clasificador__class_weight': 'balanced', 'clasificador__criterion': 'gini', 'clasificador__max_depth': None, 'clasificador__max_features': 'sqrt', 'clasificador__n_estimators': 500}\n",
      "0.8348362450542549\n"
     ]
    }
   ],
   "source": [
    "print(CV.best_params_)\n",
    "print(CV.best_score_)\n",
    "ypred = CV.predict(xtest)\n",
    "ypred_proba = CV.predict_proba(xtest)"
   ]
  },
  {
   "cell_type": "markdown",
   "metadata": {},
   "source": [
    "Evaluamos el modelo"
   ]
  },
  {
   "cell_type": "code",
   "execution_count": 21,
   "metadata": {},
   "outputs": [
    {
     "name": "stdout",
     "output_type": "stream",
     "text": [
      "ROC-AUC score of the model: 0.8415931374224647\n",
      "Accuracy of the model: 0.9849342002395852\n",
      "\n",
      "Classification report: \n",
      "              precision    recall  f1-score   support\n",
      "\n",
      "           0       0.99      1.00      0.99    799946\n",
      "           1       0.54      0.03      0.05     12291\n",
      "\n",
      "    accuracy                           0.98    812237\n",
      "   macro avg       0.76      0.51      0.52    812237\n",
      "weighted avg       0.98      0.98      0.98    812237\n",
      "\n",
      "\n",
      "Confusion matrix: \n",
      "[[799654    292]\n",
      " [ 11945    346]]\n",
      "\n"
     ]
    }
   ],
   "source": [
    "evaluate_model(ytest, ypred, ypred_proba)"
   ]
  },
  {
   "cell_type": "markdown",
   "metadata": {},
   "source": [
    "### Ajuste del umbral de predicción"
   ]
  },
  {
   "cell_type": "code",
   "execution_count": 22,
   "metadata": {},
   "outputs": [
    {
     "name": "stdout",
     "output_type": "stream",
     "text": [
      "Best Threshold=0.013782, G-Mean=0.765\n",
      "ROC-AUC score of the model: 0.8415931374224647\n",
      "Accuracy of the model: 0.7687177510997406\n",
      "\n",
      "Classification report: \n",
      "              precision    recall  f1-score   support\n",
      "\n",
      "           0       1.00      0.77      0.87    799946\n",
      "           1       0.05      0.76      0.09     12291\n",
      "\n",
      "    accuracy                           0.77    812237\n",
      "   macro avg       0.52      0.76      0.48    812237\n",
      "weighted avg       0.98      0.77      0.86    812237\n",
      "\n",
      "\n",
      "Confusion matrix: \n",
      "[[615028 184918]\n",
      " [  2938   9353]]\n",
      "\n"
     ]
    }
   ],
   "source": [
    "# keep probabilities for the positive outcome only\n",
    "yhat = ypred_proba[:, 1]\n",
    "# calculate roc curves\n",
    "fpr, tpr, thresholds = roc_curve(ytest, yhat)\n",
    "\n",
    "gmeans = np.sqrt(tpr * (1-fpr))\n",
    "# locate the index of the largest g-mean\n",
    "ix = np.argmax(gmeans)\n",
    "print('Best Threshold=%f, G-Mean=%.3f' % (thresholds[ix], gmeans[ix]))\n",
    "\n",
    "ypred_new_threshold = (ypred_proba[:,1]>thresholds[ix]).astype(int)\n",
    "evaluate_model(ytest,ypred_new_threshold,ypred_proba)"
   ]
  },
  {
   "cell_type": "markdown",
   "metadata": {},
   "source": [
    "# Conclusiones"
   ]
  },
  {
   "cell_type": "markdown",
   "metadata": {},
   "source": [
    "El modelo seleccionado que, llegado el momento, mandaríamos a producción y sobre el cual vamos a realizar el análisis de explicabilidad e interpretabilidad es el modelo **LightGBM sin ajuste de threshold** "
   ]
  },
  {
   "cell_type": "code",
   "execution_count": 26,
   "metadata": {},
   "outputs": [
    {
     "name": "stdout",
     "output_type": "stream",
     "text": [
      "ROC-AUC score of the model: 0.8631091807671063\n",
      "Accuracy of the model: 0.8031338143916124\n",
      "\n",
      "Classification report: \n",
      "              precision    recall  f1-score   support\n",
      "\n",
      "           0       1.00      0.80      0.89    799946\n",
      "           1       0.06      0.75      0.10     12291\n",
      "\n",
      "    accuracy                           0.80    812237\n",
      "   macro avg       0.53      0.78      0.50    812237\n",
      "weighted avg       0.98      0.80      0.88    812237\n",
      "\n",
      "\n",
      "Confusion matrix: \n",
      "[[643103 156843]\n",
      " [  3059   9232]]\n",
      "\n"
     ]
    },
    {
     "data": {
      "image/png": "[encoded data removed]",
      "text/plain": [
       "<Figure size 720x720 with 2 Axes>"
      ]
     },
     "metadata": {
      "needs_background": "light"
     },
     "output_type": "display_data"
    }
   ],
   "source": [
    "ypred = CV.predict(xtest)\n",
    "ypred_proba = CV.predict_proba(xtest)\n",
    "fig, ax = plt.subplots(figsize=(10, 10))\n",
    "disp = ConfusionMatrixDisplay.from_predictions(ytest, ypred,\n",
    "                                                       cmap=plt.cm.Greens,\n",
    "                                                       normalize='true',\n",
    "                                                       ax=ax)\n",
    "ax.set_title('Matriz normalizada del modelo LightGBM optimizado')\n",
    "\n",
    "evaluate_model(ytest, ypred, ypred_proba)"
   ]
  },
  {
   "cell_type": "markdown",
   "metadata": {},
   "source": [
    "El modelo consigue estimar el 75% de los casos positivos (accidentes mortales) manteniendo un 80% de recall en los casos negativos (accidentes no mortales), un balance que hemos considerado óptimo en comparación con el resto de modelos que hemos ejecutado a lo largo de este trabajo.\n",
    "\n",
    "La principal razón por la que no ha sido necesario realizar un ajuste de threshold en este apartado del trabajo ha sido presumiblemente el uso del parámetro *scoring = 'roc_auc'* a la hora de generar los modelos, como ya hemos comentado previamente."
   ]
  }
 ],
 "metadata": {
  "interpreter": {
   "hash": "75234cef4d4b5401408a5d3b72f4265569f6601e8da7c73f173a51e561ebd976"
  },
  "kernelspec": {
   "display_name": "Python 3.8.12 64-bit ('core_models': conda)",
   "language": "python",
   "name": "python3"
  },
  "language_info": {
   "codemirror_mode": {
    "name": "ipython",
    "version": 3
   },
   "file_extension": ".py",
   "mimetype": "text/x-python",
   "name": "python",
   "nbconvert_exporter": "python",
   "pygments_lexer": "ipython3",
   "version": "3.8.12"
  },
  "orig_nbformat": 4
 },
 "nbformat": 4,
 "nbformat_minor": 2
}
