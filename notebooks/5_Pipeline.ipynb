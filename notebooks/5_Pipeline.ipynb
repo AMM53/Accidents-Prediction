{
 "cells": [
  {
   "cell_type": "markdown",
   "metadata": {},
   "source": [
    "# CUNEF MUCD 2021/2022  \n",
    "## Machine Learning\n",
    "## Análisis de Siniestralidad de Automóviles\n",
    "\n",
    "### Autores:\n",
    "- Andrés Mahía Morado\n",
    "- Antonio Tello Gómez\n"
   ]
  },
  {
   "cell_type": "code",
   "execution_count": 15,
   "metadata": {},
   "outputs": [
    {
     "name": "stdout",
     "output_type": "stream",
     "text": [
      "The autotime extension is already loaded. To reload it, use:\n",
      "  %reload_ext autotime\n",
      "time: 16 ms (started: 2021-12-16 01:34:30 +01:00)\n"
     ]
    }
   ],
   "source": [
    "import pandas as pd\n",
    "from sklearn.ensemble import RandomForestClassifier\n",
    "import pandas as pd\n",
    "import numpy as np\n",
    "import matplotlib.pyplot as plt\n",
    "import seaborn as sns\n",
    "\n",
    "import sklearn\n",
    "\n",
    "from sklearn.model_selection import train_test_split\n",
    "from sklearn.model_selection import cross_validate, KFold\n",
    "\n",
    "from sklearn.metrics import classification_report, confusion_matrix, roc_curve, auc, \\\n",
    "                            silhouette_score, recall_score, precision_score, make_scorer, \\\n",
    "                            roc_auc_score, f1_score, precision_recall_curve\n",
    "\n",
    "from sklearn.metrics import accuracy_score, roc_auc_score, \\\n",
    "                            classification_report, confusion_matrix\n",
    "\n",
    "\n",
    "from sklearn import metrics\n",
    "from sklearn.metrics import plot_confusion_matrix\n",
    "\n",
    "from sklearn.pipeline import Pipeline\n",
    "from sklearn.metrics import accuracy_score, log_loss\n",
    "from sklearn.neighbors import KNeighborsClassifier\n",
    "from sklearn.svm import SVC, LinearSVC, NuSVC\n",
    "from sklearn.tree import DecisionTreeClassifier\n",
    "from sklearn.ensemble import RandomForestClassifier, AdaBoostClassifier, GradientBoostingClassifier\n",
    "from sklearn.discriminant_analysis import LinearDiscriminantAnalysis\n",
    "import pickle\n",
    "from sklearn.metrics import ConfusionMatrixDisplay\n",
    "import lightgbm as lgb\n",
    "from sklearn.model_selection import GridSearchCV, RandomizedSearchCV\n",
    "import warnings\n",
    "import pickle\n",
    "warnings.filterwarnings('ignore')\n",
    "%load_ext autotime\n",
    "\n",
    "from aux_func import evaluate_model\n",
    "from aux_func import model_analysis"
   ]
  },
  {
   "cell_type": "code",
   "execution_count": 4,
   "metadata": {},
   "outputs": [
    {
     "name": "stdout",
     "output_type": "stream",
     "text": [
      "time: 547 ms (started: 2021-12-16 01:27:10 +01:00)\n"
     ]
    }
   ],
   "source": [
    "xtrain = pd.read_parquet(\"../data/xtrain.parquet\")\n",
    "ytrain = pd.read_parquet(\"../data/ytrain.parquet\")['fatality']\n",
    "xtest = pd.read_parquet(\"../data/xtest.parquet\")\n",
    "ytest = pd.read_parquet(\"../data/ytest.parquet\")['fatality']"
   ]
  },
  {
   "cell_type": "markdown",
   "metadata": {},
   "source": [
    "# Optimización de modelos"
   ]
  },
  {
   "cell_type": "markdown",
   "metadata": {},
   "source": [
    "## LightGBM"
   ]
  },
  {
   "cell_type": "markdown",
   "metadata": {},
   "source": [
    "Generamos un campo de parámetros cuyas combinaciones serán probadas mediante una búsqueda Grid, que irá descartando combinaciones de parámetros si determina que ha encontrado un \"camino\" que genere modelos más precisos.\n",
    "Utilizamos el ROC-AUC score como métrica a optimizar, en vez del parámetro por defecto *precisión* ya que esta será muy alta de todas maneras al estar utilizando datos desbalanceados."
   ]
  },
  {
   "cell_type": "code",
   "execution_count": 4,
   "metadata": {},
   "outputs": [
    {
     "data": {
      "text/plain": [
       "GridSearchCV(cv=5, estimator=LGBMClassifier(), n_jobs=-1,\n",
       "             param_grid={'importance_type': ['split', 'gain'],\n",
       "                         'is_unbalance': [True], 'learning_rate': [0.1, 0.05],\n",
       "                         'max_depth': [-1], 'n_estimators': [200, 300, 400],\n",
       "                         'num_leaves': [50, 100, 200],\n",
       "                         'objective': ['binary']},\n",
       "             scoring='roc_auc')"
      ]
     },
     "execution_count": 4,
     "metadata": {},
     "output_type": "execute_result"
    },
    {
     "name": "stdout",
     "output_type": "stream",
     "text": [
      "time: 52min 8s (started: 2021-12-14 15:21:28 +01:00)\n"
     ]
    }
   ],
   "source": [
    "param_grid = { \n",
    "    'is_unbalance': [True],\n",
    "    'max_depth': [-1],\n",
    "    'objective': ['binary'],\n",
    "    'learning_rate': [0.1, 0.05], \n",
    "    'n_estimators' : [200, 300, 400], \n",
    "    'importance_type' :['split', 'gain'],\n",
    "    'num_leaves':[50, 100, 200]\n",
    "    }\n",
    "\n",
    "CV = GridSearchCV(lgb.LGBMClassifier(), param_grid, cv=5, n_jobs=-1, scoring='roc_auc')\n",
    "CV.fit(xtrain, ytrain)"
   ]
  },
  {
   "cell_type": "code",
   "execution_count": 5,
   "metadata": {},
   "outputs": [
    {
     "name": "stdout",
     "output_type": "stream",
     "text": [
      "time: 141 ms (started: 2021-12-14 16:13:36 +01:00)\n"
     ]
    }
   ],
   "source": [
    "with open('../models/LightGBM_pipeline.pickle', 'wb') as f:\n",
    "    pickle.dump(CV, f)"
   ]
  },
  {
   "cell_type": "code",
   "execution_count": 2,
   "metadata": {},
   "outputs": [
    {
     "name": "stdout",
     "output_type": "stream",
     "text": [
      "time: 79 ms (started: 2021-12-16 01:26:24 +01:00)\n"
     ]
    }
   ],
   "source": [
    "# Para no tener que ejecutar, saltarse el fit y ejecutar a partir de aquí\n",
    "with open('../models/LightGBM_pipeline.pickle', 'rb') as f:\n",
    "    CV = pickle.load(f)"
   ]
  },
  {
   "cell_type": "markdown",
   "metadata": {},
   "source": [
    "¿Qué parámetros del modelo son los más óptimos, dentro de los que hemos escogido?\n",
    "\n",
    "Además, generamos las predicciones para los datos de validación o test."
   ]
  },
  {
   "cell_type": "code",
   "execution_count": 7,
   "metadata": {},
   "outputs": [
    {
     "name": "stdout",
     "output_type": "stream",
     "text": [
      "{'importance_type': 'split', 'is_unbalance': True, 'learning_rate': 0.05, 'max_depth': -1, 'n_estimators': 300, 'num_leaves': 200, 'objective': 'binary'}\n",
      "0.8578480278752464\n",
      "time: 8.03 s (started: 2021-12-14 16:13:36 +01:00)\n"
     ]
    }
   ],
   "source": [
    "print(CV.best_params_)\n",
    "print(CV.best_score_)\n",
    "ypred = CV.predict(xtest)\n",
    "ypred_proba = CV.predict_proba(xtest)"
   ]
  },
  {
   "cell_type": "markdown",
   "metadata": {},
   "source": [
    "Evaluamos el modelo"
   ]
  },
  {
   "cell_type": "code",
   "execution_count": 8,
   "metadata": {},
   "outputs": [
    {
     "name": "stdout",
     "output_type": "stream",
     "text": [
      "ROC-AUC score of the model: 0.8607598814863755\n",
      "Accuracy of the model: 0.802971651183402\n",
      "\n",
      "Classification report: \n",
      "              precision    recall  f1-score   support\n",
      "\n",
      "           0       0.99      0.80      0.89    797650\n",
      "           1       0.06      0.74      0.10     12472\n",
      "\n",
      "    accuracy                           0.80    810122\n",
      "   macro avg       0.53      0.77      0.50    810122\n",
      "weighted avg       0.98      0.80      0.88    810122\n",
      "\n",
      "\n",
      "time: 1.27 s (started: 2021-12-14 16:13:44 +01:00)\n"
     ]
    }
   ],
   "source": [
    "evaluate_model(ytest, ypred, ypred_proba)"
   ]
  },
  {
   "cell_type": "markdown",
   "metadata": {},
   "source": [
    "El modelo obtiene un recall del 80% y 74% para los valores 0 y 1 respectivamente.\n",
    "Respecto al modelo obtenido previamente, la mejoría es notable ya que la pérdida de recall en la clase positiva se ve compensada por una ganancia equivalente en el recall de la clase negativa. Sin embargo, y recordando el desbalanceo presente en los datos, la pérdida de recall en la clase negativa supone un mayor número de observaciones en las que nuestro modelo se ha equivocado por lo que debemos minimizarla."
   ]
  },
  {
   "cell_type": "markdown",
   "metadata": {},
   "source": [
    "### Ajuste del umbral de predicción\n",
    "\n",
    "Realizamos las predicciones del modelo con el umbral de predicción ajustado a la curva ROC."
   ]
  },
  {
   "cell_type": "code",
   "execution_count": 9,
   "metadata": {},
   "outputs": [
    {
     "name": "stdout",
     "output_type": "stream",
     "text": [
      "Best Threshold=0.443154, G-Mean=0.775\n",
      "ROC-AUC score of the model: 0.8607598814863755\n",
      "Accuracy of the model: 0.7583796020846243\n",
      "\n",
      "Classification report: \n",
      "              precision    recall  f1-score   support\n",
      "\n",
      "           0       1.00      0.76      0.86    797650\n",
      "           1       0.05      0.79      0.09     12472\n",
      "\n",
      "    accuracy                           0.76    810122\n",
      "   macro avg       0.52      0.77      0.48    810122\n",
      "weighted avg       0.98      0.76      0.85    810122\n",
      "\n",
      "\n",
      "time: 1.45 s (started: 2021-12-14 16:13:46 +01:00)\n"
     ]
    }
   ],
   "source": [
    "# keep probabilities for the positive outcome only\n",
    "yhat = ypred_proba[:, 1]\n",
    "# calculate roc curves\n",
    "fpr, tpr, thresholds = roc_curve(ytest, yhat)\n",
    "\n",
    "gmeans = np.sqrt(tpr * (1-fpr))\n",
    "# locate the index of the largest g-mean\n",
    "ix = np.argmax(gmeans)\n",
    "print('Best Threshold=%f, G-Mean=%.3f' % (thresholds[ix], gmeans[ix]))\n",
    "\n",
    "ypred_new_threshold = (ypred_proba[:,1]>thresholds[ix]).astype(int)\n",
    "evaluate_model(ytest,ypred_new_threshold,ypred_proba)"
   ]
  },
  {
   "cell_type": "markdown",
   "metadata": {},
   "source": [
    "## Random Forest"
   ]
  },
  {
   "cell_type": "markdown",
   "metadata": {},
   "source": [
    "Generamos el *param grid* para el modelo Random Forest y procedemos a entrenar el modelo con los datos de *train*"
   ]
  },
  {
   "cell_type": "code",
   "execution_count": 10,
   "metadata": {},
   "outputs": [
    {
     "name": "stdout",
     "output_type": "stream",
     "text": [
      "{'n_estimators': 250, 'max_features': 'log2', 'max_depth': 6, 'criterion': 'gini', 'class_weight': 'balanced'}\n",
      "0.8158191758291675\n",
      "time: 2h 30min 37s (started: 2021-12-14 16:13:47 +01:00)\n"
     ]
    }
   ],
   "source": [
    "### Parameter Tunning Optimization\n",
    "param_grid = { \n",
    "    'n_estimators': [200, 250, 500],\n",
    "    'max_features': ['sqrt', 'log2'],\n",
    "    'max_depth' : [4, 6, 8, None],\n",
    "    'criterion' :['gini'],\n",
    "    'class_weight':['balanced']}\n",
    "\n",
    "\n",
    "CV = RandomizedSearchCV(RandomForestClassifier(), param_grid, cv=5, random_state=0, n_jobs=-1, scoring='roc_auc')\n",
    "                  \n",
    "CV.fit(xtrain, ytrain)\n",
    "print(CV.best_params_)\n",
    "print(CV.best_score_)"
   ]
  },
  {
   "cell_type": "code",
   "execution_count": 11,
   "metadata": {},
   "outputs": [
    {
     "name": "stdout",
     "output_type": "stream",
     "text": [
      "time: 47 ms (started: 2021-12-14 18:44:25 +01:00)\n"
     ]
    }
   ],
   "source": [
    "with open('../models/RandomForest_pipeline.pickle', 'wb') as f:\n",
    "    pickle.dump(CV, f)"
   ]
  },
  {
   "cell_type": "code",
   "execution_count": 12,
   "metadata": {},
   "outputs": [
    {
     "name": "stdout",
     "output_type": "stream",
     "text": [
      "time: 16 ms (started: 2021-12-14 18:44:25 +01:00)\n"
     ]
    }
   ],
   "source": [
    "# Para no tener que ejecutar, saltarse el fit y ejecutar a partir de aquí\n",
    "with open('../models/RandomForest_pipeline.pickle', 'rb') as f:\n",
    "    CV = pickle.load(f)"
   ]
  },
  {
   "cell_type": "markdown",
   "metadata": {},
   "source": [
    "Obtenemos los parámetros mas precisos para el modelo y generamos las series de predicción *ypred* e *ypred_proba*"
   ]
  },
  {
   "cell_type": "code",
   "execution_count": 13,
   "metadata": {},
   "outputs": [
    {
     "name": "stdout",
     "output_type": "stream",
     "text": [
      "{'n_estimators': 250, 'max_features': 'log2', 'max_depth': 6, 'criterion': 'gini', 'class_weight': 'balanced'}\n",
      "0.8158191758291675\n",
      "time: 29.4 s (started: 2021-12-14 18:44:25 +01:00)\n"
     ]
    }
   ],
   "source": [
    "print(CV.best_params_)\n",
    "print(CV.best_score_)\n",
    "ypred = CV.predict(xtest)\n",
    "ypred_proba = CV.predict_proba(xtest)"
   ]
  },
  {
   "cell_type": "markdown",
   "metadata": {},
   "source": [
    "Evaluamos el modelo"
   ]
  },
  {
   "cell_type": "code",
   "execution_count": 14,
   "metadata": {},
   "outputs": [
    {
     "name": "stdout",
     "output_type": "stream",
     "text": [
      "ROC-AUC score of the model: 0.8149439139334367\n",
      "Accuracy of the model: 0.7290654987767274\n",
      "\n",
      "Classification report: \n",
      "              precision    recall  f1-score   support\n",
      "\n",
      "           0       0.99      0.73      0.84    797650\n",
      "           1       0.04      0.74      0.08     12472\n",
      "\n",
      "    accuracy                           0.73    810122\n",
      "   macro avg       0.52      0.74      0.46    810122\n",
      "weighted avg       0.98      0.73      0.83    810122\n",
      "\n",
      "\n",
      "time: 1.33 s (started: 2021-12-14 18:44:54 +01:00)\n"
     ]
    }
   ],
   "source": [
    "evaluate_model(ytest, ypred, ypred_proba)"
   ]
  },
  {
   "cell_type": "markdown",
   "metadata": {},
   "source": [
    "### Ajuste del umbral de predicción"
   ]
  },
  {
   "cell_type": "code",
   "execution_count": 15,
   "metadata": {},
   "outputs": [
    {
     "name": "stdout",
     "output_type": "stream",
     "text": [
      "Best Threshold=0.513827, G-Mean=0.737\n",
      "ROC-AUC score of the model: 0.8149439139334367\n",
      "Accuracy of the model: 0.7478935271477629\n",
      "\n",
      "Classification report: \n",
      "              precision    recall  f1-score   support\n",
      "\n",
      "           0       0.99      0.75      0.85    797650\n",
      "           1       0.04      0.73      0.08     12472\n",
      "\n",
      "    accuracy                           0.75    810122\n",
      "   macro avg       0.52      0.74      0.47    810122\n",
      "weighted avg       0.98      0.75      0.84    810122\n",
      "\n",
      "\n",
      "time: 1.44 s (started: 2021-12-14 18:44:56 +01:00)\n"
     ]
    }
   ],
   "source": [
    "# keep probabilities for the positive outcome only\n",
    "yhat = ypred_proba[:, 1]\n",
    "# calculate roc curves\n",
    "fpr, tpr, thresholds = roc_curve(ytest, yhat)\n",
    "\n",
    "gmeans = np.sqrt(tpr * (1-fpr))\n",
    "# locate the index of the largest g-mean\n",
    "ix = np.argmax(gmeans)\n",
    "print('Best Threshold=%f, G-Mean=%.3f' % (thresholds[ix], gmeans[ix]))\n",
    "\n",
    "ypred_new_threshold = (ypred_proba[:,1]>thresholds[ix]).astype(int)\n",
    "evaluate_model(ytest,ypred_new_threshold,ypred_proba)"
   ]
  },
  {
   "cell_type": "markdown",
   "metadata": {},
   "source": [
    "# Conclusiones"
   ]
  },
  {
   "cell_type": "markdown",
   "metadata": {},
   "source": [
    "El modelo seleccionado que, llegado el momento, mandaríamos a producción y sobre el cual vamos a realizar el análisis de explicabilidad e interpretabilidad es el modelo **LightGBM sin ajuste de threshold** "
   ]
  },
  {
   "cell_type": "code",
   "execution_count": 16,
   "metadata": {},
   "outputs": [
    {
     "name": "stdout",
     "output_type": "stream",
     "text": [
      "ROC-AUC score of the model: 0.8607598814863755\n",
      "Accuracy of the model: 0.802971651183402\n",
      "\n",
      "Classification report: \n",
      "              precision    recall  f1-score   support\n",
      "\n",
      "           0       0.99      0.80      0.89    797650\n",
      "           1       0.06      0.74      0.10     12472\n",
      "\n",
      "    accuracy                           0.80    810122\n",
      "   macro avg       0.53      0.77      0.50    810122\n",
      "weighted avg       0.98      0.80      0.88    810122\n",
      "\n",
      "\n",
      "Confusion matrix: \n",
      "[[641261 156389]\n",
      " [  3228   9244]]\n",
      "\n"
     ]
    },
    {
     "data": {
      "image/png": "[encoded data removed]",
      "text/plain": [
       "<Figure size 720x720 with 2 Axes>"
      ]
     },
     "metadata": {
      "needs_background": "light"
     },
     "output_type": "display_data"
    },
    {
     "name": "stdout",
     "output_type": "stream",
     "text": [
      "time: 8.62 s (started: 2021-12-16 01:34:35 +01:00)\n"
     ]
    }
   ],
   "source": [
    "ypred = CV.predict(xtest)\n",
    "ypred_proba = CV.predict_proba(xtest)\n",
    "fig, ax = plt.subplots(figsize=(10, 10))\n",
    "disp = ConfusionMatrixDisplay.from_predictions(ytest, ypred,\n",
    "                                                       cmap=plt.cm.Greens,\n",
    "                                                       normalize='true',\n",
    "                                                       ax=ax)\n",
    "ax.set_title('Matriz normalizada del modelo LightGBM optimizado')\n",
    "\n",
    "evaluate_model(ytest, ypred, ypred_proba)"
   ]
  },
  {
   "cell_type": "markdown",
   "metadata": {},
   "source": [
    "El modelo consigue estimar el 74% de los casos positivos (accidentes mortales) manteniendo un 80% de recall en los casos negativos (accidentes no mortales), un balance que hemos considerado óptimo en comparación con el resto de modelos que hemos ejecutado a lo largo de este trabajo.\n",
    "\n",
    "La principal razón por la que no ha sido necesario realizar un ajuste de threshold en este apartado del trabajo ha sido presumiblemente el uso del parámetro *scoring = 'roc_auc'* a la hora de generar los modelos, como ya hemos comentado previamente."
   ]
  }
 ],
 "metadata": {
  "interpreter": {
   "hash": "75234cef4d4b5401408a5d3b72f4265569f6601e8da7c73f173a51e561ebd976"
  },
  "kernelspec": {
   "display_name": "Python 3.8.12 64-bit ('core_models': conda)",
   "language": "python",
   "name": "python3"
  },
  "language_info": {
   "codemirror_mode": {
    "name": "ipython",
    "version": 3
   },
   "file_extension": ".py",
   "mimetype": "text/x-python",
   "name": "python",
   "nbconvert_exporter": "python",
   "pygments_lexer": "ipython3",
   "version": "3.8.12"
  },
  "orig_nbformat": 4
 },
 "nbformat": 4,
 "nbformat_minor": 2
}
